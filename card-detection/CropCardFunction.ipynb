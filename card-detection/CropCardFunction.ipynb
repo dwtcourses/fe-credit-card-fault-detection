{
 "cells": [
  {
   "cell_type": "code",
   "execution_count": 1,
   "metadata": {
    "ExecuteTime": {
     "end_time": "2019-09-14T09:57:53.476936Z",
     "start_time": "2019-09-14T09:57:53.412329Z"
    }
   },
   "outputs": [],
   "source": [
    "import cv2 as cv\n",
    "import cv2\n",
    "import numpy as np"
   ]
  },
  {
   "cell_type": "code",
   "execution_count": 32,
   "metadata": {
    "ExecuteTime": {
     "end_time": "2019-09-14T10:14:25.113767Z",
     "start_time": "2019-09-14T10:14:25.108302Z"
    }
   },
   "outputs": [],
   "source": [
    "# # height, width, number of channels in image\n",
    "# height = img.shape[0]\n",
    "# width = img.shape[1]\n",
    "# channels = img.shape[2]\n",
    "\n",
    "def imageResizeByWidth(img, width=856):\n",
    "    currRatio = img.shape[0]/img.shape[1]\n",
    "    print('Shape: ', img.shape)\n",
    "    height = int(width * currRatio)\n",
    "    dim = (width, height)\n",
    "    print('Resized shape: ', dim)\n",
    "    # resize image\n",
    "    resized = cv.resize(img, dim, interpolation = cv.INTER_AREA)\n",
    "    return resized"
   ]
  },
  {
   "cell_type": "code",
   "execution_count": 3,
   "metadata": {
    "ExecuteTime": {
     "end_time": "2019-09-14T09:57:53.486974Z",
     "start_time": "2019-09-14T09:57:53.483264Z"
    }
   },
   "outputs": [],
   "source": [
    "def resizeImage(img, percent=100):\n",
    "    scale_percent = percent # percent of original size\n",
    "    width = int(img.shape[1] * scale_percent / 100)\n",
    "    height = int(img.shape[0] * scale_percent / 100)\n",
    "    dim = (width, height)\n",
    "    # resize image\n",
    "    resized = cv.resize(img, dim, interpolation = cv.INTER_AREA)\n",
    "    return resized"
   ]
  },
  {
   "cell_type": "code",
   "execution_count": 4,
   "metadata": {
    "ExecuteTime": {
     "end_time": "2019-09-14T09:57:53.492299Z",
     "start_time": "2019-09-14T09:57:53.488116Z"
    }
   },
   "outputs": [],
   "source": [
    "def histogramEqualize(img):\n",
    "    #-----Converting image to LAB Color model-----------------------------------\n",
    "    lab = cv2.cvtColor(img, cv2.COLOR_BGR2LAB)\n",
    "    # cv2.imshow(\"lab\",lab)\n",
    "\n",
    "    #-----Splitting the LAB image to different channels-------------------------\n",
    "    l, a, b = cv2.split(lab)\n",
    "    # cv2.imshow('l_channel', l)\n",
    "    # cv2.imshow('a_channel', a)\n",
    "    # cv2.imshow('b_channel', b)\n",
    "\n",
    "    #-----Applying CLAHE to L-channel-------------------------------------------\n",
    "    clahe = cv2.createCLAHE(clipLimit=3.0, tileGridSize=(8, 8))\n",
    "    cl = clahe.apply(l)\n",
    "    #     cv2.imshow('CLAHE output', cl)\n",
    "\n",
    "    #-----Merge the CLAHE enhanced L-channel with the a and b channel-----------\n",
    "    limg = cv2.merge((cl, a, b))\n",
    "    #     cv2.imshow('limg', limg)\n",
    "\n",
    "    #-----Converting image from LAB Color model to RGB model--------------------\n",
    "    final = cv2.cvtColor(limg, cv2.COLOR_LAB2BGR)\n",
    "    #     cv2.imshow('final', final)\n",
    "\n",
    "    #     cv2.waitKey(0)\n",
    "    #     cv2.destroyAllWindows()\n",
    "    return final"
   ]
  },
  {
   "cell_type": "code",
   "execution_count": 5,
   "metadata": {
    "ExecuteTime": {
     "end_time": "2019-09-14T09:57:53.498349Z",
     "start_time": "2019-09-14T09:57:53.493480Z"
    },
    "code_folding": []
   },
   "outputs": [],
   "source": [
    "def getGreenColor(img):\n",
    "    # Convert BGR to HSV\n",
    "    hsv = cv.cvtColor(img, cv.COLOR_BGR2HSV)\n",
    "    # cv.imshow(\"hsv\", hsv)\n",
    "    # define range of blue color in HSV\n",
    "    lower = np.array([40,0,0])\n",
    "    upper = np.array([85,255,255])\n",
    "    # Threshold the HSV image to get only blue colors\n",
    "    mask = cv.inRange(hsv, lower, upper)\n",
    "    # Bitwise-AND mask and original image\n",
    "    res = cv.bitwise_and(img,img, mask= mask)\n",
    "    green_img = cv.cvtColor(res, cv.COLOR_HSV2BGR)\n",
    "    return green_img"
   ]
  },
  {
   "cell_type": "code",
   "execution_count": 6,
   "metadata": {
    "ExecuteTime": {
     "end_time": "2019-09-14T09:57:53.504153Z",
     "start_time": "2019-09-14T09:57:53.499848Z"
    }
   },
   "outputs": [],
   "source": [
    "def sharpImg(img):\n",
    "    if len(img.shape)==3:\n",
    "        img_gray = cv.cvtColor(img, cv.COLOR_BGR2GRAY)\n",
    "    else:\n",
    "        img_gray = img\n",
    "\n",
    "    kernel_sharpening = np.array([[-1, -1, -1], [-1, 9, -1], [-1, -1, -1]])\n",
    "    # applying different kernels to the input image\n",
    "    return cv.filter2D(img_gray, -1, kernel_sharpening)"
   ]
  },
  {
   "cell_type": "code",
   "execution_count": 28,
   "metadata": {
    "ExecuteTime": {
     "end_time": "2019-09-14T10:12:25.749282Z",
     "start_time": "2019-09-14T10:12:25.733656Z"
    },
    "code_folding": []
   },
   "outputs": [],
   "source": [
    "def getGreenEdges(img):\n",
    "    green_img = getGreenColor(img)\n",
    "#     cv.imshow('getGreenColor', green_img)\n",
    "#     cv.waitKey(0)\n",
    "\n",
    "    #     Sharpend edge image\n",
    "    green_img = cv.cvtColor(green_img, cv.COLOR_BGR2GRAY)\n",
    "    #     green_img = cv2.GaussianBlur(green_img, (3, 3), cv2.BORDER_DEFAULT)\n",
    "    green_img = sharpImg(green_img)\n",
    "\n",
    "    #     Make edge wider\n",
    "    kernel = np.ones((7, 7), np.uint8)\n",
    "    #     green_sharped = cv2.GaussianBlur(green_sharped, (3, 3), cv2.BORDER_DEFAULT)\n",
    "    green_img = cv.dilate(green_img, kernel, iterations=2)\n",
    "\n",
    "    #     Blur image\n",
    "    green_img = cv2.GaussianBlur(green_img, (3, 3), cv2.BORDER_DEFAULT)\n",
    "    #     cv.imshow('GaussianBlur', green_img)\n",
    "    #     cv.waitKey(0)\n",
    "    #     Get edges\n",
    "    green_edges = cv.Canny(green_img, 50, 120)\n",
    "#     cv.imshow('green_edges', green_edges)\n",
    "#     cv.waitKey(0)\n",
    "    return green_edges"
   ]
  },
  {
   "cell_type": "code",
   "execution_count": 13,
   "metadata": {
    "ExecuteTime": {
     "end_time": "2019-09-14T10:00:59.800311Z",
     "start_time": "2019-09-14T10:00:59.786283Z"
    }
   },
   "outputs": [],
   "source": [
    "def drawContourBoundary(img, cnt):\n",
    "    M = cv.moments(cnt)\n",
    "    #             print(M)\n",
    "    if M['m00'] == 0:\n",
    "        return\n",
    "\n",
    "    cx = int(M['m10'] / M['m00'])\n",
    "    cy = int(M['m01'] / M['m00'])\n",
    "\n",
    "    # Find contour center to place text at the center\n",
    "    shape_name = \"Rectangle\"\n",
    "    cv.drawContours(img, [cnt], 0, (0, 0, 255), 2)\n",
    "    cv.putText(img, shape_name, (cx - 50, cy), cv.FONT_HERSHEY_SIMPLEX, 1,\n",
    "               (0, 0, 0), 1)\n",
    "    cv.imshow('Identifying Shapes', img)\n",
    "    cv.waitKey(0)\n"
   ]
  },
  {
   "cell_type": "code",
   "execution_count": 26,
   "metadata": {
    "ExecuteTime": {
     "end_time": "2019-09-14T10:11:11.178028Z",
     "start_time": "2019-09-14T10:11:11.161034Z"
    },
    "code_folding": []
   },
   "outputs": [],
   "source": [
    "def getCardBorder(img):\n",
    "    green_edges = getGreenEdges(img)\n",
    "    contours, hierarchy = cv.findContours(green_edges, cv.RETR_EXTERNAL,\n",
    "                                          cv.CHAIN_APPROX_SIMPLE)\n",
    "\n",
    "    contours = sorted(contours, key=cv.contourArea, reverse=True)\n",
    "\n",
    "    x = y = w = h = None\n",
    "    for cnt in contours:\n",
    "        # Get approximate polygons\n",
    "        epsilon = 0.02 * cv.arcLength(cnt, True)\n",
    "        approx = cv.approxPolyDP(cnt, epsilon, True)\n",
    "        if len(approx) == 4:\n",
    "#             print(\"Min area: \", cv.minAreaRect(cnt))\n",
    "            x, y, w, h = cv.boundingRect(cnt)\n",
    "            print(\"Boundary: \", cv.boundingRect(cnt))\n",
    "\n",
    "            # Draw polygon\n",
    "#             drawContourBoundary(img.copy(), cnt)            \n",
    "            break\n",
    "    return x, y, w, h"
   ]
  },
  {
   "cell_type": "code",
   "execution_count": 24,
   "metadata": {
    "ExecuteTime": {
     "end_time": "2019-09-14T10:10:52.539523Z",
     "start_time": "2019-09-14T10:10:52.525311Z"
    }
   },
   "outputs": [],
   "source": [
    "def croppingStandardImage(img, x, y, w, h, width=856):\n",
    "    croppedImg = img[y:y + h, x:x + w]\n",
    "    customSizeImg = imageResizeByWidth(croppedImg,)\n",
    "    return customSizeImg"
   ]
  },
  {
   "cell_type": "code",
   "execution_count": 25,
   "metadata": {
    "ExecuteTime": {
     "end_time": "2019-09-14T10:10:53.008431Z",
     "start_time": "2019-09-14T10:10:53.003763Z"
    }
   },
   "outputs": [],
   "source": [
    "def saveImage(img, fileNamePath):\n",
    "    cv.imwrite(fileNamePath, img)"
   ]
  },
  {
   "cell_type": "code",
   "execution_count": 37,
   "metadata": {
    "ExecuteTime": {
     "end_time": "2019-09-14T10:26:00.103709Z",
     "start_time": "2019-09-14T10:25:55.363433Z"
    }
   },
   "outputs": [
    {
     "name": "stdout",
     "output_type": "stream",
     "text": [
      "Boundary:  (88, 302, 3711, 2424)\n",
      "Shape:  (2424, 3711, 3)\n",
      "Resized shape:  (856, 559)\n",
      "Shape:  (2424, 3711, 3)\n",
      "Resized shape:  (856, 559)\n"
     ]
    }
   ],
   "source": [
    "targetImagePath = 'data/2.jpg'\n",
    "\n",
    "# Load the target image with the shapes we're trying to match\n",
    "target = cv.imread(targetImagePath)\n",
    "# target = resizeImage(target, 30)\n",
    "# target = imageResizeByWidth(target)\n",
    "cv.imshow('Origin', target)\n",
    "\n",
    "img = target\n",
    "img = histogramEqualize(img)\n",
    "cv.imshow('Equalize', img)\n",
    "\n",
    "x, y, w, h = getCardBorder(img)\n",
    "\n",
    "croppedTarget = croppingStandardImage(target, x, y, w, h)\n",
    "saveImage(croppedTarget, fileNamePath='./data/temp2.jpg')\n",
    "cv.imshow('cropped Target ', croppedTarget)\n",
    "\n",
    "croppedEqualize = croppingStandardImage(img, x, y, w, h)\n",
    "saveImage(croppedEqualize, fileNamePath='./data/tempEqualize2.jpg')\n",
    "cv.imshow('cropped Equalize ', croppedEqualize)\n",
    "cv.waitKey(0)\n",
    "\n",
    "cv.destroyAllWindows()"
   ]
  },
  {
   "cell_type": "markdown",
   "metadata": {},
   "source": [
    " ### Checking faking card by boundary"
   ]
  },
  {
   "cell_type": "code",
   "execution_count": 47,
   "metadata": {
    "ExecuteTime": {
     "end_time": "2019-09-14T10:40:42.667249Z",
     "start_time": "2019-09-14T10:40:42.664468Z"
    }
   },
   "outputs": [],
   "source": [
    "# kích thước 85,6 mm x 53,98 mm\n",
    "\n",
    "STANDARD_WIDTH = 856\n",
    "STANDARD_HEIGHT = 539.8\n",
    "STANDARD_W_H_SIZE_RATIO = STANDARD_WIDTH/STANDARD_HEIGHT"
   ]
  },
  {
   "cell_type": "code",
   "execution_count": 39,
   "metadata": {
    "ExecuteTime": {
     "end_time": "2019-09-14T10:30:49.599199Z",
     "start_time": "2019-09-14T10:30:49.594432Z"
    }
   },
   "outputs": [
    {
     "data": {
      "text/plain": [
       "0.630607476635514"
      ]
     },
     "execution_count": 39,
     "metadata": {},
     "output_type": "execute_result"
    }
   ],
   "source": [
    "float(STANDARD_HEIGHT/STANDARD_WIDTH)"
   ]
  },
  {
   "cell_type": "code",
   "execution_count": 40,
   "metadata": {
    "ExecuteTime": {
     "end_time": "2019-09-14T10:31:12.403300Z",
     "start_time": "2019-09-14T10:31:12.398067Z"
    }
   },
   "outputs": [
    {
     "data": {
      "text/plain": [
       "1.5857725083364211"
      ]
     },
     "execution_count": 40,
     "metadata": {},
     "output_type": "execute_result"
    }
   ],
   "source": [
    "STANDARD_SIZE_RATIO"
   ]
  },
  {
   "cell_type": "code",
   "execution_count": 46,
   "metadata": {
    "ExecuteTime": {
     "end_time": "2019-09-14T10:36:37.819794Z",
     "start_time": "2019-09-14T10:36:37.815692Z"
    }
   },
   "outputs": [
    {
     "data": {
      "text/plain": [
       "1.5309405940594059"
      ]
     },
     "execution_count": 46,
     "metadata": {},
     "output_type": "execute_result"
    }
   ],
   "source": [
    "card_size_ratio = w/h\n",
    "card_size_ratio"
   ]
  },
  {
   "cell_type": "code",
   "execution_count": 45,
   "metadata": {
    "ExecuteTime": {
     "end_time": "2019-09-14T10:35:19.094719Z",
     "start_time": "2019-09-14T10:35:19.089400Z"
    }
   },
   "outputs": [
    {
     "data": {
      "text/plain": [
       "0.05483191427701528"
      ]
     },
     "execution_count": 45,
     "metadata": {},
     "output_type": "execute_result"
    }
   ],
   "source": [
    "size_ratio_detal = abs(STANDARD_SIZE_RATIO-card_size_ratio)\n",
    "size_ratio_detal"
   ]
  },
  {
   "cell_type": "code",
   "execution_count": null,
   "metadata": {},
   "outputs": [],
   "source": [
    "if (size_ratio_detal > 1)"
   ]
  },
  {
   "cell_type": "code",
   "execution_count": 48,
   "metadata": {
    "ExecuteTime": {
     "end_time": "2019-09-14T10:41:21.653752Z",
     "start_time": "2019-09-14T10:41:21.645316Z"
    }
   },
   "outputs": [],
   "source": [
    "def checkCardSize(width_height_ratio, threshold = 0.5):\n",
    "    return abs(width_height_ratio-STANDARD_W_H_SIZE_RATIO) <= threshold"
   ]
  }
 ],
 "metadata": {
  "kernelspec": {
   "display_name": "Python 3",
   "language": "python",
   "name": "python3"
  },
  "language_info": {
   "codemirror_mode": {
    "name": "ipython",
    "version": 3
   },
   "file_extension": ".py",
   "mimetype": "text/x-python",
   "name": "python",
   "nbconvert_exporter": "python",
   "pygments_lexer": "ipython3",
   "version": "3.7.3"
  },
  "toc": {
   "base_numbering": 1,
   "nav_menu": {},
   "number_sections": true,
   "sideBar": true,
   "skip_h1_title": false,
   "title_cell": "Table of Contents",
   "title_sidebar": "Contents",
   "toc_cell": false,
   "toc_position": {},
   "toc_section_display": true,
   "toc_window_display": false
  }
 },
 "nbformat": 4,
 "nbformat_minor": 2
}
