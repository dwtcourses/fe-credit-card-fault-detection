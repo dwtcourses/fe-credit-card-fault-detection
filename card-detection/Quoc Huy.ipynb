{
 "cells": [
  {
   "cell_type": "code",
   "execution_count": 14,
   "metadata": {},
   "outputs": [],
   "source": [
    "import cv2\n",
    "import numpy as np"
   ]
  },
  {
   "cell_type": "code",
   "execution_count": 15,
   "metadata": {},
   "outputs": [],
   "source": [
    "def resizeImage(img, percent=100):\n",
    "    scale_percent = percent # percent of original size\n",
    "    width = int(img.shape[1] * scale_percent / 100)\n",
    "    height = int(img.shape[0] * scale_percent / 100)\n",
    "    dim = (width, height)\n",
    "    # resize image\n",
    "    resized = cv2.resize(img, dim, interpolation = cv2.INTER_AREA)\n",
    "    return resized"
   ]
  },
  {
   "cell_type": "code",
   "execution_count": 16,
   "metadata": {},
   "outputs": [],
   "source": [
    "# Load the shape template or reference image\n",
    "template = cv2.imread('./quochuy2_shape.jpg')\n",
    "template = resizeImage(template, 30)\n",
    "template_gray = cv2.cvtColor(template, cv2.COLOR_BGR2GRAY)\n",
    "\n",
    "cv2.imshow('Template', template)\n",
    "cv2.waitKey()\n",
    "cv2.destroyWindow('Template')"
   ]
  },
  {
   "cell_type": "code",
   "execution_count": 42,
   "metadata": {},
   "outputs": [],
   "source": [
    "template_edges = cv2.Canny(template_gray, 50, 120)\n",
    "cv2.imshow('template_edges', template_edges)\n",
    "cv2.waitKey(0)\n",
    "cv2.destroyWindow('template_edges')"
   ]
  },
  {
   "cell_type": "code",
   "execution_count": 18,
   "metadata": {},
   "outputs": [],
   "source": [
    "# Load the target image with the shapes we're trying to match\n",
    "target = cv2.imread('data/1.jpg')\n",
    "target = resizeImage(target, 30)\n",
    "target_gray = cv2.cvtColor(target, cv2.COLOR_BGR2GRAY)\n",
    "\n",
    "cv2.imshow('Target', target_gray)\n",
    "cv2.waitKey()\n",
    "cv2.destroyWindow('Target')"
   ]
  },
  {
   "cell_type": "code",
   "execution_count": 49,
   "metadata": {},
   "outputs": [],
   "source": [
    "target_edges = cv2.Canny(target_gray, 50, 150)\n",
    "cv2.imshow('target_edges', target_edges)\n",
    "cv2.waitKey(0)\n",
    "cv2.destroyWindow('target_edges')"
   ]
  },
  {
   "cell_type": "code",
   "execution_count": 19,
   "metadata": {},
   "outputs": [
    {
     "name": "stdout",
     "output_type": "stream",
     "text": [
      "Length contours:  31\n"
     ]
    }
   ],
   "source": [
    "# Threshold image first before using cv2.findContours\n",
    "ret, thresh1 = cv2.threshold(template_gray, 127, 255, 0)\n",
    "# Find contours in template\n",
    "# contours, hierarchy = cv2.findContours(thresh1, cv2.RETR_CCOMP, cv2.CHAIN_APPROX_SIMPLE)\n",
    "contours, hierarchy = cv2.findContours(template_edges, cv2.RETR_CCOMP, cv2.CHAIN_APPROX_SIMPLE)\n",
    "print(\"Length contours: \", len(contours))\n"
   ]
  },
  {
   "cell_type": "markdown",
   "metadata": {},
   "source": [
    "There are two ways to get largest contour"
   ]
  },
  {
   "cell_type": "code",
   "execution_count": 29,
   "metadata": {},
   "outputs": [],
   "source": [
    "# Way 1\n",
    "# We need to sort the contours by area so that we can remove the largest\n",
    "# contour which is the image outline\n",
    "sorted_contours = sorted(contours, key=cv2.contourArea, reverse=True)\n",
    "# We extract the second largest contour which will be our template contour\n",
    "template_contour = sorted_contours[0]"
   ]
  },
  {
   "cell_type": "code",
   "execution_count": 23,
   "metadata": {},
   "outputs": [],
   "source": [
    "# Way 2\n",
    "# put to array then get max\n",
    "areas = []\n",
    "for contour in contours:\n",
    "  ar = cv2.contourArea(contour)\n",
    "  areas.append(ar)\n",
    "\n",
    "max_area = max(areas)\n",
    "max_area_index = areas.index(max_area) #index of the list element with largest area\n",
    "\n",
    "cnt = contours[max_area_index] #largest area contour"
   ]
  },
  {
   "cell_type": "code",
   "execution_count": 13,
   "metadata": {},
   "outputs": [],
   "source": [
    "# template = cv2.imread('./quochuy2_shape.jpg')\n",
    "# cv2.drawContours(template, cnt, 0, (0, 255, 0), 3, max_level=0)\n",
    "\n",
    "cv2.drawContours(template_gray, [cnt], 0, (0, 40, 120), 3, maxLevel = 0)\n",
    "\n",
    "cv2.imshow('Template_Contours', template_gray)\n",
    "cv2.waitKey(0)\n",
    "cv2.destroyWindow('Template_Contours')"
   ]
  },
  {
   "cell_type": "code",
   "execution_count": 50,
   "metadata": {},
   "outputs": [
    {
     "name": "stdout",
     "output_type": "stream",
     "text": [
      "0.8027191089317323\n"
     ]
    }
   ],
   "source": [
    "import sys\n",
    "\n",
    "# Find contour of target image\n",
    "ret, thresh2 = cv2.threshold(target_gray, 127, 255, 0)\n",
    "\n",
    "# Extract contours from second target image\n",
    "# contours, hierarchy = cv2.findContours(thresh2, cv2.RETR_CCOMP, cv2.CHAIN_APPROX_SIMPLE)\n",
    "contours, hierarchy = cv2.findContours(target_edges, cv2.RETR_CCOMP, cv2.CHAIN_APPROX_SIMPLE)\n",
    "\n",
    "min_match = sys.maxsize\n",
    "closest_contour = []\n",
    "for c in contours:\n",
    "    # Iterate through each contour in the target image and\n",
    "    # use cv2.matchShapes to compare contour shapes\n",
    "    match = cv2.matchShapes(template_contour, c, 3, 0.0)\n",
    "#     print(match)\n",
    "    if match < min_match:\n",
    "        min_match = match\n",
    "        closest_contour = c\n",
    "    # If the match value is less than 0.15 we\n",
    "#     if match < 0.15:\n",
    "#         closest_contour = c\n",
    "#     else:\n",
    "#         closest_contour = []\n",
    "        \n",
    "print(min_match)\n",
    "cv2.drawContours(target, [closest_contour], -1, (0, 255, 0), 3)\n",
    "cv2.imshow('Target_contour', target)\n",
    "cv2.waitKey()\n",
    "cv2.destroyWindow('Target_contour')"
   ]
  },
  {
   "cell_type": "code",
   "execution_count": null,
   "metadata": {},
   "outputs": [],
   "source": [
    "# Threshold both images first before using cv2.findContours\n",
    "ret, thresh1 = cv2.threshold(template, 127, 255, 0)\n",
    "ret, thresh2 = cv2.threshold(target_gray, 127, 255, 0)\n",
    "\n",
    "# Find contours in template\n",
    "contours, hierarchy = cv2.findContours(thresh1, cv2.RETR_CCOMP,\n",
    "                                       cv2.CHAIN_APPROX_SIMPLE)\n",
    "\n",
    "# We need to sort the contours by area so that we can remove the largest\n",
    "# contour which is the image outline\n",
    "sorted_contours = sorted(contours, key=cv2.contourArea, reverse=True)\n",
    "\n",
    "# We extract the second largest contour which will be our template contour\n",
    "template_contour = contours[0]\n",
    "\n",
    "# Extract contours from second target image\n",
    "contours, hierarchy = cv2.findContours(thresh2, cv2.RETR_CCOMP,\n",
    "                                       cv2.CHAIN_APPROX_SIMPLE)\n",
    "\n",
    "for c in contours:\n",
    "    # Iterate through each contour in the target image and\n",
    "    # use cv2.matchShapes to compare contour shapes\n",
    "    match = cv2.matchShapes(template_contour, c, 3, 0.0)\n",
    "    #     print(match)\n",
    "    # If the match value is less than 0.15 we\n",
    "    if match < 0.15:\n",
    "        closest_contour = c\n",
    "    else:\n",
    "        closest_contour = []\n",
    "\n",
    "cv2.drawContours(target, [closest_contour], -1, (0, 255, 0), 3)\n",
    "cv2.imshow('Output', target)\n",
    "cv2.waitKey()\n",
    "cv2.destroyAllWindows()"
   ]
  },
  {
   "cell_type": "code",
   "execution_count": null,
   "metadata": {},
   "outputs": [],
   "source": [
    "cv2.destroyAllWindows()"
   ]
  },
  {
   "cell_type": "code",
   "execution_count": 55,
   "metadata": {},
   "outputs": [
    {
     "name": "stdout",
     "output_type": "stream",
     "text": [
      "(0.2910112738609314, 0.9531067609786987, (135, 273), (88, 218))\n"
     ]
    }
   ],
   "source": [
    "\n",
    "method = cv2.TM_SQDIFF_NORMED\n",
    "\n",
    "# Read the images from the file\n",
    "pic = cv2.imread('quoc_huy.jpg',0)\n",
    "# small_image = template_gray\n",
    "small_image = resizeImage(pic, 30)\n",
    "# large_image = cv2.imread('data/1.jpg')\n",
    "large_image = target_gray\n",
    "\n",
    "result = cv2.matchTemplate(small_image, large_image, method)\n",
    "# print(result)\n",
    "# We want the minimum squared difference\n",
    "min_val, max_val, min_loc, max_loc = cv2.minMaxLoc(result)\n",
    "print(cv2.minMaxLoc(result))\n",
    "# Draw the rectangle:\n",
    "# Extract the coordinates of our best match\n",
    "MPx,MPy = min_loc\n",
    "\n",
    "# Step 2: Get the size of the template. This is the same size as the match.\n",
    "trows,tcols = small_image.shape[:2]\n",
    "\n",
    "# Step 3: Draw the rectangle on large_image\n",
    "cv2.rectangle(large_image, (MPx,MPy),(MPx+tcols,MPy+trows),(0,0,255),2)\n",
    "\n",
    "# Display the original image with the rectangle around the match.\n",
    "cv2.imshow('output',large_image)\n",
    "\n",
    "# The image is only displayed if we call this\n",
    "cv2.waitKey(0)\n",
    "cv2.destroyWindow('output')"
   ]
  },
  {
   "cell_type": "code",
   "execution_count": null,
   "metadata": {},
   "outputs": [],
   "source": []
  },
  {
   "cell_type": "code",
   "execution_count": null,
   "metadata": {},
   "outputs": [],
   "source": []
  }
 ],
 "metadata": {
  "kernelspec": {
   "display_name": "Python 3",
   "language": "python",
   "name": "python3"
  },
  "language_info": {
   "codemirror_mode": {
    "name": "ipython",
    "version": 3
   },
   "file_extension": ".py",
   "mimetype": "text/x-python",
   "name": "python",
   "nbconvert_exporter": "python",
   "pygments_lexer": "ipython3",
   "version": "3.7.3"
  }
 },
 "nbformat": 4,
 "nbformat_minor": 2
}
