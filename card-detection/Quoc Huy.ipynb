{
 "cells": [
  {
   "cell_type": "code",
   "execution_count": 1,
   "metadata": {
    "ExecuteTime": {
     "end_time": "2019-09-14T18:02:53.977777Z",
     "start_time": "2019-09-14T18:02:53.883480Z"
    }
   },
   "outputs": [],
   "source": [
    "import cv2\n",
    "import numpy as np\n",
    "import random"
   ]
  },
  {
   "cell_type": "code",
   "execution_count": 2,
   "metadata": {
    "ExecuteTime": {
     "end_time": "2019-09-14T18:02:54.429232Z",
     "start_time": "2019-09-14T18:02:54.425312Z"
    }
   },
   "outputs": [],
   "source": [
    "def showImg(img, title = str(round(random.random()*1000,0))):\n",
    "    cv2.imshow(title, img)\n",
    "    cv2.waitKey(0)\n",
    "    cv2.destroyWindow(title)"
   ]
  },
  {
   "cell_type": "code",
   "execution_count": 3,
   "metadata": {
    "ExecuteTime": {
     "end_time": "2019-09-14T18:02:54.981225Z",
     "start_time": "2019-09-14T18:02:54.967515Z"
    }
   },
   "outputs": [],
   "source": [
    "def imageResizeByWidth(img, width=856):\n",
    "    currRatio = img.shape[0]/img.shape[1]\n",
    "    print('Shape: ', img.shape)\n",
    "    height = int(width * currRatio)\n",
    "    dim = (width, height)\n",
    "    print('Resized shape: ', dim)\n",
    "    # resize image\n",
    "    resized = cv2.resize(img, dim, interpolation = cv2.INTER_AREA)\n",
    "    return resized"
   ]
  },
  {
   "cell_type": "code",
   "execution_count": 68,
   "metadata": {
    "ExecuteTime": {
     "end_time": "2019-09-14T18:26:13.758471Z",
     "start_time": "2019-09-14T18:26:13.743314Z"
    }
   },
   "outputs": [],
   "source": [
    "fileNamePath = './data/tempEqualize2.jpg'\n",
    "# fileNamePath = './data/temp2.jpg'\n",
    "\n",
    "originImg = cv2.imread(fileNamePath)\n",
    "# showImg(originImg, \"Origin image\")"
   ]
  },
  {
   "cell_type": "markdown",
   "metadata": {},
   "source": [
    "Getting Quoc Huy"
   ]
  },
  {
   "cell_type": "code",
   "execution_count": 69,
   "metadata": {
    "ExecuteTime": {
     "end_time": "2019-09-14T18:26:16.959143Z",
     "start_time": "2019-09-14T18:26:14.833609Z"
    }
   },
   "outputs": [],
   "source": [
    "qh_threshold = 10\n",
    "minX = 70\n",
    "minY = 50\n",
    "qhDiameter = 180  # quoc huy co duong kinh la 14mm\n",
    "\n",
    "qh = originImg[minY - qh_threshold:minY + qhDiameter + qh_threshold, minX -\n",
    "               qh_threshold:minX + qhDiameter + qh_threshold]\n",
    "showImg(qh, \"Quoc Huy\")"
   ]
  },
  {
   "cell_type": "markdown",
   "metadata": {
    "ExecuteTime": {
     "end_time": "2019-09-14T15:46:14.198630Z",
     "start_time": "2019-09-14T15:46:10.472057Z"
    }
   },
   "source": [
    "Loading Quoc Huy template"
   ]
  },
  {
   "cell_type": "code",
   "execution_count": 80,
   "metadata": {
    "ExecuteTime": {
     "end_time": "2019-09-14T18:37:02.775116Z",
     "start_time": "2019-09-14T18:37:02.752070Z"
    }
   },
   "outputs": [
    {
     "name": "stdout",
     "output_type": "stream",
     "text": [
      "Shape:  (336, 330, 3)\n",
      "Resized shape:  (140, 142)\n",
      "Shape:  (142, 140, 3)\n"
     ]
    },
    {
     "data": {
      "text/plain": [
       "True"
      ]
     },
     "execution_count": 80,
     "metadata": {},
     "output_type": "execute_result"
    }
   ],
   "source": [
    "templateQh = cv2.imread('quoc_huy1.jpg')\n",
    "templateQh = imageResizeByWidth(templateQh, 140)\n",
    "print(\"Shape: \" ,templateQh.shape)\n",
    "# showImg(templateQh, 'Template QH')\n",
    "# cv2.imwrite('qhTemplate.jpg', templateQh)"
   ]
  },
  {
   "cell_type": "markdown",
   "metadata": {
    "heading_collapsed": true
   },
   "source": [
    "#### Quoc huy Shape"
   ]
  },
  {
   "cell_type": "code",
   "execution_count": 8,
   "metadata": {
    "ExecuteTime": {
     "end_time": "2019-09-14T18:03:45.280581Z",
     "start_time": "2019-09-14T18:03:45.264766Z"
    },
    "hidden": true
   },
   "outputs": [
    {
     "name": "stdout",
     "output_type": "stream",
     "text": [
      "Shape:  (381, 659)\n"
     ]
    }
   ],
   "source": [
    "qhShape = cv2.imread('quochuy2_shape.jpg',0)\n",
    "# qhShape = imageResizeByWidth(qhShape, 140)\n",
    "print(\"Shape: \", qhShape.shape)\n",
    "\n",
    "# showImg(qhShape, 'edge QH')"
   ]
  },
  {
   "cell_type": "code",
   "execution_count": 9,
   "metadata": {
    "ExecuteTime": {
     "end_time": "2019-09-14T18:03:49.024324Z",
     "start_time": "2019-09-14T18:03:49.008349Z"
    },
    "hidden": true
   },
   "outputs": [],
   "source": [
    "\n",
    "kernel = np.ones((1, 1), np.uint8)\n",
    "qhShape = cv2.dilate(qhShape, kernel, iterations=1)\n",
    "# showImg(qhShape, 'edge enhance QH')\n",
    "\n",
    "qhShape = cv2.GaussianBlur(qhShape, (3, 3), cv2.BORDER_DEFAULT)\n",
    "# showImg(qhShape, 'edge blur QH')\n",
    "\n",
    "\n",
    "# Get edges\n",
    "qhEdges = cv2.Canny(qhShape, 50, 120)\n",
    "# showImg(qhEdges, 'edge QH')"
   ]
  },
  {
   "cell_type": "code",
   "execution_count": 10,
   "metadata": {
    "ExecuteTime": {
     "end_time": "2019-09-14T18:03:50.457044Z",
     "start_time": "2019-09-14T18:03:50.449851Z"
    },
    "hidden": true
   },
   "outputs": [],
   "source": [
    "img = np.zeros(shape=[512, 1000, 3], dtype=np.uint8)"
   ]
  },
  {
   "cell_type": "code",
   "execution_count": 11,
   "metadata": {
    "ExecuteTime": {
     "end_time": "2019-09-14T18:03:52.797295Z",
     "start_time": "2019-09-14T18:03:51.114072Z"
    },
    "hidden": true
   },
   "outputs": [
    {
     "name": "stdout",
     "output_type": "stream",
     "text": [
      "Number of contours found =  1\n"
     ]
    }
   ],
   "source": [
    "contours, hierarchy = cv2.findContours(qhEdges.copy(), cv2.RETR_EXTERNAL, cv2.CHAIN_APPROX_SIMPLE)\n",
    "print (\"Number of contours found = \", len(contours))\n",
    "\n",
    "contours = sorted(contours, key=cv2.contourArea, reverse=True)\n",
    "\n",
    "# img = qhShape.copy()\n",
    "cv2.drawContours(img, contours, -1, (255,255,255), 2)\n",
    "\n",
    "# for c in sorted_contours:\n",
    "#     cv2.drawContours(orginal_image, [c], -1, (255,155,0), 3)\n",
    "cv2.waitKey(0)\n",
    "cv2.imshow('Contours by area', img)\n",
    "\n",
    "cv2.waitKey(0)\n",
    "cv2.destroyAllWindows()"
   ]
  },
  {
   "cell_type": "code",
   "execution_count": 12,
   "metadata": {
    "ExecuteTime": {
     "end_time": "2019-09-14T18:04:30.674693Z",
     "start_time": "2019-09-14T18:04:24.553940Z"
    },
    "hidden": true
   },
   "outputs": [
    {
     "name": "stdout",
     "output_type": "stream",
     "text": [
      "(165, 26, 316, 324)\n",
      "Shape:  (332, 322, 3)\n",
      "Resized shape:  (144, 148)\n"
     ]
    }
   ],
   "source": [
    "print(cv2.boundingRect(contours[0]))\n",
    "\n",
    "temp = img[22:324+30,162:316+168]\n",
    "temp = imageResizeByWidth(temp, 144)\n",
    "temp = cv2.bitwise_not(temp)\n",
    "showImg(temp)\n"
   ]
  },
  {
   "cell_type": "code",
   "execution_count": 15,
   "metadata": {
    "ExecuteTime": {
     "end_time": "2019-09-14T18:04:51.730366Z",
     "start_time": "2019-09-14T18:04:51.721928Z"
    },
    "hidden": true
   },
   "outputs": [
    {
     "data": {
      "text/plain": [
       "True"
      ]
     },
     "execution_count": 15,
     "metadata": {},
     "output_type": "execute_result"
    }
   ],
   "source": [
    "cv2.imwrite('qhShape.jpg', temp)"
   ]
  },
  {
   "cell_type": "markdown",
   "metadata": {},
   "source": [
    "#### get edge of origin qh"
   ]
  },
  {
   "cell_type": "code",
   "execution_count": 74,
   "metadata": {
    "ExecuteTime": {
     "end_time": "2019-09-14T18:27:35.993193Z",
     "start_time": "2019-09-14T18:27:35.987200Z"
    }
   },
   "outputs": [],
   "source": [
    "def getEdgeImage(img):\n",
    "#     kernel = np.ones((1, 1), np.uint8)\n",
    "#     img = cv2.dilate(img, kernel, iterations=1)\n",
    "    # showImg(img, 'edge enhance QH')\n",
    "\n",
    "    img = cv2.GaussianBlur(img, (5, 5), cv2.BORDER_DEFAULT)\n",
    "    # showImg(img, 'edge blur QH')\n",
    "\n",
    "\n",
    "    # Get edges\n",
    "    edges = cv2.Canny(img, 50, 120)\n",
    "    # showImg(qhEdges, 'edge QH')\n",
    "    return edges"
   ]
  },
  {
   "cell_type": "code",
   "execution_count": 67,
   "metadata": {
    "ExecuteTime": {
     "end_time": "2019-09-14T18:25:50.590338Z",
     "start_time": "2019-09-14T18:25:32.289628Z"
    }
   },
   "outputs": [
    {
     "name": "stdout",
     "output_type": "stream",
     "text": [
      "3\n",
      "(0, 0, 144, 148)\n",
      "(0, 0, 144, 148)\n",
      "(2, 3, 139, 142)\n"
     ]
    }
   ],
   "source": [
    "qhShape = cv2.imread('qhShape.jpg',0)\n",
    "# showImg(qhShape, \"shape\")\n",
    "ret, thresh1 = cv2.threshold(qhShape, 127, 255, 0)\n",
    "contours, hierarchy = cv2.findContours(thresh1, cv2.RETR_CCOMP, cv2.CHAIN_APPROX_SIMPLE)\n",
    "print(len(contours))\n",
    "contours = sorted(contours, key=cv2.contourArea, reverse=True)\n",
    "\n",
    "templateContour = contours[2]\n",
    "# print(cv2.boundingRect(contours[0]))\n",
    "# print(cv2.boundingRect(contours[1]))\n",
    "# print(cv2.boundingRect(contours[2]))\n",
    "\n",
    "# cv2.drawContours(qh, [templateContour], -1, (0,255,234), 2)\n",
    "# showImg(qh,'res1')\n"
   ]
  },
  {
   "cell_type": "code",
   "execution_count": 75,
   "metadata": {
    "ExecuteTime": {
     "end_time": "2019-09-14T18:27:51.868906Z",
     "start_time": "2019-09-14T18:27:42.532106Z"
    }
   },
   "outputs": [],
   "source": [
    "qh_gray = cv2.cvtColor(qh, cv2.COLOR_BGR2GRAY)\n",
    "originQhThresh = getEdgeImage(qh_gray)\n",
    "\n",
    "# ret, originQhThresh = cv2.threshold(qh_gray, 127, 255, 0)\n",
    "showImg(originQhThresh, \"originQhEdges\")\n",
    "\n",
    "# Extract contours from second target image\n",
    "contours, hierarchy = cv2.findContours(originQhThresh, cv2.RETR_CCOMP, cv2.CHAIN_APPROX_SIMPLE)\n",
    "\n",
    "qhCopy = qh.copy()\n",
    "cv2.drawContours(qhCopy, contours, -1, (0,255,0), 3)\n",
    "showImg(qhCopy,'res')\n"
   ]
  },
  {
   "cell_type": "code",
   "execution_count": 76,
   "metadata": {
    "ExecuteTime": {
     "end_time": "2019-09-14T18:28:01.460193Z",
     "start_time": "2019-09-14T18:27:58.603487Z"
    }
   },
   "outputs": [],
   "source": [
    "\n",
    "closest_contour = []\n",
    "for c in contours:\n",
    "    # Iterate through each contour in the target image and \n",
    "    # use cv2.matchShapes to compare contour shapes\n",
    "    match = cv2.matchShapes(templateContour, c, 3, 0.0)\n",
    "#     print(match)\n",
    "    # If the match value is less than 0.15 we\n",
    "    if match < 0.2:\n",
    "        closest_contour = c\n",
    "\n",
    "# print(cv2.boundingRect(closest_contour))\n",
    "\n",
    "qhCopy = qh.copy()\n",
    "cv2.drawContours(qhCopy, [closest_contour], -1, (0,255,0), 3)\n",
    "cv2.imshow('Output', qhCopy)\n",
    "cv2.waitKey()\n",
    "cv2.destroyAllWindows()"
   ]
  },
  {
   "cell_type": "code",
   "execution_count": null,
   "metadata": {},
   "outputs": [],
   "source": []
  }
 ],
 "metadata": {
  "kernelspec": {
   "display_name": "Python 3",
   "language": "python",
   "name": "python3"
  },
  "language_info": {
   "codemirror_mode": {
    "name": "ipython",
    "version": 3
   },
   "file_extension": ".py",
   "mimetype": "text/x-python",
   "name": "python",
   "nbconvert_exporter": "python",
   "pygments_lexer": "ipython3",
   "version": "3.7.3"
  },
  "toc": {
   "base_numbering": 1,
   "nav_menu": {},
   "number_sections": true,
   "sideBar": true,
   "skip_h1_title": false,
   "title_cell": "Table of Contents",
   "title_sidebar": "Contents",
   "toc_cell": false,
   "toc_position": {},
   "toc_section_display": true,
   "toc_window_display": false
  }
 },
 "nbformat": 4,
 "nbformat_minor": 2
}
