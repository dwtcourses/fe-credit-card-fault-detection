{
 "cells": [
  {
   "cell_type": "markdown",
   "metadata": {},
   "source": [
    "### Import library"
   ]
  },
  {
   "cell_type": "code",
   "execution_count": 307,
   "metadata": {
    "ExecuteTime": {
     "end_time": "2019-09-14T07:46:03.328088Z",
     "start_time": "2019-09-14T07:46:03.325209Z"
    }
   },
   "outputs": [],
   "source": [
    "import cv2 as cv\n",
    "import cv2\n",
    "import numpy as np"
   ]
  },
  {
   "cell_type": "markdown",
   "metadata": {},
   "source": [
    "### Loading data"
   ]
  },
  {
   "cell_type": "code",
   "execution_count": 311,
   "metadata": {
    "ExecuteTime": {
     "end_time": "2019-09-14T07:48:24.725952Z",
     "start_time": "2019-09-14T07:48:24.722316Z"
    }
   },
   "outputs": [],
   "source": [
    "targetImagePath = 'data/1.jpg'"
   ]
  },
  {
   "cell_type": "code",
   "execution_count": 312,
   "metadata": {
    "ExecuteTime": {
     "end_time": "2019-09-14T07:48:25.518322Z",
     "start_time": "2019-09-14T07:48:25.411980Z"
    }
   },
   "outputs": [],
   "source": [
    "# Load the target image with the shapes we're trying to match\n",
    "target = cv.imread(targetImagePath)\n",
    "target = resizeImage(target, 30)\n",
    "target_gray = cv.cvtColor(target, cv.COLOR_BGR2GRAY)\n",
    "blur_target_gray = cv.medianBlur(target_gray, 9)\n",
    "\n",
    "# cv.imshow('Target', target_gray)\n",
    "# cv.waitKey()\n",
    "# cv.destroyWindow('Target')"
   ]
  },
  {
   "cell_type": "markdown",
   "metadata": {},
   "source": [
    "Declear standard variable"
   ]
  },
  {
   "cell_type": "code",
   "execution_count": 249,
   "metadata": {
    "ExecuteTime": {
     "end_time": "2019-09-14T05:00:22.553707Z",
     "start_time": "2019-09-14T05:00:22.544957Z"
    }
   },
   "outputs": [],
   "source": [
    "# kích thước 85,6 mm x 53,98 mm\n",
    "\n",
    "STANDARD_WIDTH = 856\n",
    "STANDARD_HEIGHT = 539.8\n",
    "STANDARD_SIZE_RATIO = STANDARD_WIDTH/STANDARD_HEIGHT"
   ]
  },
  {
   "cell_type": "markdown",
   "metadata": {},
   "source": [
    "### Preprocessing"
   ]
  },
  {
   "cell_type": "markdown",
   "metadata": {
    "ExecuteTime": {
     "end_time": "2019-09-11T17:04:35.994594Z",
     "start_time": "2019-09-11T17:04:35.991972Z"
    }
   },
   "source": [
    "#### Histogram balance"
   ]
  },
  {
   "cell_type": "code",
   "execution_count": 313,
   "metadata": {
    "ExecuteTime": {
     "end_time": "2019-09-14T07:49:04.393427Z",
     "start_time": "2019-09-14T07:48:28.155422Z"
    }
   },
   "outputs": [],
   "source": [
    "# creating a Histograms Equalibzation \n",
    "# of a image using cv2.equalizeHist() \n",
    "img = target_gray\n",
    "equ = cv2.equalizeHist(img)\n",
    "clahe = cv2.createCLAHE(clipLimit=2.0, tileGridSize=(8,8))\n",
    "cl1 = clahe.apply(img)\n",
    "\n",
    "# show image input vs output \n",
    "cv2.imshow('image origin', img)\n",
    "cv2.imshow('equalizeHist', equ)\n",
    "  \n",
    "cv2.waitKey(0) \n",
    "cv2.destroyAllWindows() "
   ]
  },
  {
   "cell_type": "code",
   "execution_count": 317,
   "metadata": {
    "ExecuteTime": {
     "end_time": "2019-09-14T08:53:59.844897Z",
     "start_time": "2019-09-14T08:53:53.353278Z"
    }
   },
   "outputs": [],
   "source": [
    "img = target.copy()\n",
    "img_yuv = cv2.cvtColor(img, cv2.COLOR_BGR2YUV)\n",
    "\n",
    "# equalize the histogram of the Y channel\n",
    "img_yuv[:,:,0] = cv2.equalizeHist(img_yuv[:,:,0])\n",
    "\n",
    "# convert the YUV image back to RGB format\n",
    "img_output = cv2.cvtColor(img_yuv, cv2.COLOR_YUV2BGR)\n",
    "\n",
    "cv2.imshow('Color input image', img)\n",
    "cv2.imshow('Histogram equalized', img_output)\n",
    "\n",
    "cv2.waitKey(0)\n",
    "cv2.destroyAllWindows() "
   ]
  },
  {
   "cell_type": "code",
   "execution_count": 316,
   "metadata": {
    "ExecuteTime": {
     "end_time": "2019-09-14T08:19:10.009642Z",
     "start_time": "2019-09-14T08:12:17.713438Z"
    }
   },
   "outputs": [],
   "source": [
    "#-----Reading the image-----------------------------------------------------\n",
    "img = target.copy()\n",
    "\n",
    "#-----Converting image to LAB Color model----------------------------------- \n",
    "lab= cv2.cvtColor(img, cv2.COLOR_BGR2LAB)\n",
    "# cv2.imshow(\"lab\",lab)\n",
    "\n",
    "#-----Splitting the LAB image to different channels-------------------------\n",
    "l, a, b = cv2.split(lab)\n",
    "# cv2.imshow('l_channel', l)\n",
    "# cv2.imshow('a_channel', a)\n",
    "# cv2.imshow('b_channel', b)\n",
    "\n",
    "#-----Applying CLAHE to L-channel-------------------------------------------\n",
    "clahe = cv2.createCLAHE(clipLimit=3.0, tileGridSize=(8,8))\n",
    "cl = clahe.apply(l)\n",
    "cv2.imshow('CLAHE output', cl)\n",
    "\n",
    "#-----Merge the CLAHE enhanced L-channel with the a and b channel-----------\n",
    "limg = cv2.merge((cl,a,b))\n",
    "cv2.imshow('limg', limg)\n",
    "\n",
    "#-----Converting image from LAB Color model to RGB model--------------------\n",
    "final = cv2.cvtColor(limg, cv2.COLOR_LAB2BGR)\n",
    "cv2.imshow('final', final)\n",
    "\n",
    "cv2.waitKey(0)\n",
    "cv2.destroyAllWindows() "
   ]
  },
  {
   "cell_type": "markdown",
   "metadata": {},
   "source": [
    "#### Util function"
   ]
  },
  {
   "cell_type": "code",
   "execution_count": 250,
   "metadata": {
    "ExecuteTime": {
     "end_time": "2019-09-14T05:00:24.648425Z",
     "start_time": "2019-09-14T05:00:24.635238Z"
    }
   },
   "outputs": [],
   "source": [
    "# # height, width, number of channels in image\n",
    "# height = img.shape[0]\n",
    "# width = img.shape[1]\n",
    "# channels = img.shape[2]\n",
    "\n",
    "def imageResizeByWidth(img, width=856):\n",
    "    currRatio = img.shape[0]/img.shape[1]\n",
    "    print(img.shape)\n",
    "    height = int(width * currRatio)\n",
    "    dim = (width, height)\n",
    "    print(dim)\n",
    "    # resize image\n",
    "    resized = cv.resize(img, dim, interpolation = cv.INTER_AREA)\n",
    "    return resized"
   ]
  },
  {
   "cell_type": "code",
   "execution_count": 184,
   "metadata": {
    "ExecuteTime": {
     "end_time": "2019-09-14T04:53:13.591867Z",
     "start_time": "2019-09-14T04:53:13.587645Z"
    }
   },
   "outputs": [],
   "source": [
    "def resizeImage(img, percent=100):\n",
    "    scale_percent = percent # percent of original size\n",
    "    width = int(img.shape[1] * scale_percent / 100)\n",
    "    height = int(img.shape[0] * scale_percent / 100)\n",
    "    dim = (width, height)\n",
    "    # resize image\n",
    "    resized = cv.resize(img, dim, interpolation = cv.INTER_AREA)\n",
    "    return resized"
   ]
  },
  {
   "cell_type": "code",
   "execution_count": 185,
   "metadata": {
    "ExecuteTime": {
     "end_time": "2019-09-14T04:53:13.628042Z",
     "start_time": "2019-09-14T04:53:13.623857Z"
    }
   },
   "outputs": [],
   "source": [
    "def sharpImg(img):\n",
    "    if len(img.shape)==3:\n",
    "        img_gray = cv.cvtColor(img, cv.COLOR_BGR2GRAY)\n",
    "    else:\n",
    "        img_gray = img\n",
    "\n",
    "    kernel_sharpening = np.array([[-1, -1, -1], [-1, 9, -1], [-1, -1, -1]])\n",
    "    # applying different kernels to the input image\n",
    "    return cv.filter2D(img_gray, -1, kernel_sharpening)"
   ]
  },
  {
   "cell_type": "markdown",
   "metadata": {},
   "source": [
    "#### Get green color from image"
   ]
  },
  {
   "cell_type": "code",
   "execution_count": 296,
   "metadata": {
    "ExecuteTime": {
     "end_time": "2019-09-14T05:05:19.158231Z",
     "start_time": "2019-09-14T05:05:19.131380Z"
    }
   },
   "outputs": [],
   "source": [
    "frame = target.copy()\n",
    "# Convert BGR to HSV\n",
    "hsv = cv.cvtColor(frame, cv.COLOR_BGR2HSV)\n",
    "# cv.imshow(\"hsv\", hsv)\n",
    "# define range of blue color in HSV\n",
    "lower = np.array([40,0,0])\n",
    "upper = np.array([85,255,255])\n",
    "# Threshold the HSV image to get only blue colors\n",
    "mask = cv.inRange(hsv, lower, upper)\n",
    "# Bitwise-AND mask and original image\n",
    "res = cv.bitwise_and(frame,frame, mask= mask)\n",
    "# cv.imshow('frame',frame)\n",
    "# cv.imshow('mask',mask)\n",
    "# cv.imshow('res',res)\n",
    "# cv.waitKey(0) \n",
    "# cv.destroyAllWindows()"
   ]
  },
  {
   "cell_type": "markdown",
   "metadata": {},
   "source": [
    "### Get edge image"
   ]
  },
  {
   "cell_type": "code",
   "execution_count": 297,
   "metadata": {
    "ExecuteTime": {
     "end_time": "2019-09-14T05:05:20.300676Z",
     "start_time": "2019-09-14T05:05:20.283938Z"
    }
   },
   "outputs": [],
   "source": [
    "# convert to bgr and sharpen image\n",
    "green_img = cv.cvtColor(res, cv.COLOR_HSV2BGR)\n",
    "# green_img = cv.cvtColor(green_img, cv.COLOR_BGR2GRAY)\n",
    "green_sharped = sharpImg(green_img)"
   ]
  },
  {
   "cell_type": "code",
   "execution_count": 298,
   "metadata": {
    "ExecuteTime": {
     "end_time": "2019-09-14T05:05:20.759358Z",
     "start_time": "2019-09-14T05:05:20.751614Z"
    }
   },
   "outputs": [],
   "source": [
    "kernel = np.ones((7,7), np.uint8)\n",
    "widerImg = cv.dilate(green_sharped, kernel, iterations = 4)\n",
    "# cv.imshow('Dilation', dilation)\n",
    "# cv.waitKey(0)\n",
    "# cv.destroyAllWindows()"
   ]
  },
  {
   "cell_type": "code",
   "execution_count": 299,
   "metadata": {
    "ExecuteTime": {
     "end_time": "2019-09-14T05:05:24.764749Z",
     "start_time": "2019-09-14T05:05:21.337435Z"
    }
   },
   "outputs": [],
   "source": [
    "green_edges = cv.Canny(widerImg, 50, 120)\n",
    "# cv.imshow('green_edges', green_edges)\n",
    "# cv.waitKey(0)\n",
    "# cv.destroyWindow('green_edges')"
   ]
  },
  {
   "cell_type": "markdown",
   "metadata": {},
   "source": [
    "### Find the rectangel bounding the card"
   ]
  },
  {
   "cell_type": "code",
   "execution_count": 300,
   "metadata": {
    "ExecuteTime": {
     "end_time": "2019-09-14T05:05:26.692171Z",
     "start_time": "2019-09-14T05:05:26.682152Z"
    },
    "hide_input": false,
    "scrolled": true
   },
   "outputs": [],
   "source": [
    "sharpened = green_edges\n",
    "# ret, thresh = cv.threshold(sharpened, 127, 255, 1)\n",
    "\n",
    "# Extract Contours\n",
    "# contours, hierarchy = cv.findContours(thresh.copy(), cv.RETR_EXTERNAL,\n",
    "#                                       cv.CHAIN_APPROX_NONE)\n",
    "\n",
    "contours, hierarchy = cv.findContours(green_edges, cv.RETR_EXTERNAL,\n",
    "                                      cv.CHAIN_APPROX_SIMPLE)\n",
    "\n",
    "contours = sorted(contours, key=cv.contourArea, reverse=True)"
   ]
  },
  {
   "cell_type": "code",
   "execution_count": 301,
   "metadata": {
    "ExecuteTime": {
     "end_time": "2019-09-14T05:05:31.873747Z",
     "start_time": "2019-09-14T05:05:27.261906Z"
    }
   },
   "outputs": [],
   "source": [
    "# Display contours\n",
    "\n",
    "# imgShow = target.copy()\n",
    "# for c in contours[:10]:\n",
    "#     cv.drawContours(imgShow, [c], -1, (0, 40, 120), 2)\n",
    "#     cv.imshow('Template_Contours', imgShow)\n",
    "#     cv.waitKey(1)\n",
    "\n",
    "# cv.waitKey(0)\n",
    "# cv.destroyAllWindows()"
   ]
  },
  {
   "cell_type": "code",
   "execution_count": 302,
   "metadata": {
    "ExecuteTime": {
     "end_time": "2019-09-14T05:05:36.042165Z",
     "start_time": "2019-09-14T05:05:32.661055Z"
    }
   },
   "outputs": [
    {
     "name": "stdout",
     "output_type": "stream",
     "text": [
      "{'m00': 818708.0, 'm10': 479048201.5, 'm01': 368253412.6666666, 'm20': 365742396528.5, 'm11': 215132096366.16666, 'm02': 202138012643.66666, 'm30': 313504708319654.94, 'm21': 164055083863421.03, 'm12': 118315537780889.64, 'm03': 123781018427746.2, 'mu20': 85438332856.97784, 'mu11': -342938730.84469604, 'mu02': 36498277914.50037, 'mu30': -485623590946.8125, 'mu21': -53874781216.17969, 'mu12': 347624073200.8203, 'mu03': 25975381103.90625, 'nu20': 0.12746609972007916, 'nu11': -0.0005116329053014442, 'nu02': 0.054452058890810964, 'nu30': -0.0008007135737094176, 'nu21': -8.883066927682458e-05, 'nu12': 0.0005731750251616973, 'nu03': 4.282913890493188e-05}\n"
     ]
    }
   ],
   "source": [
    "img = target.copy()\n",
    "x = y = w = h = None\n",
    "for cnt in contours:\n",
    "    # Get approximate polygons\n",
    "    approx = cv.approxPolyDP(cnt, 0.02 * cv.arcLength(cnt, True), True)\n",
    "    if len(approx) == 4:\n",
    "        x, y, w, h = cv.boundingRect(cnt)\n",
    "        M = cv.moments(cnt)\n",
    "        print(M)\n",
    "        if M['m00'] == 0: \n",
    "            continue\n",
    "        cx = int(M['m10'] / M['m00'])\n",
    "        cy = int(M['m01'] / M['m00'])\n",
    "\n",
    "        # Find contour center to place text at the center\n",
    "#         shape_name = \"Rectangle\"\n",
    "#         cv.drawContours(img, [cnt], 0, (0, 0, 255), 2)\n",
    "#         cv.putText(img, shape_name, (cx - 50, cy), cv.FONT_HERSHEY_SIMPLEX, 1,\n",
    "#                    (0, 0, 0), 1)\n",
    "        break\n",
    "\n",
    "cv.imshow('Identifying Shapes', img)\n",
    "cv.waitKey(0)\n",
    "cv.destroyAllWindows()"
   ]
  },
  {
   "cell_type": "code",
   "execution_count": 303,
   "metadata": {
    "ExecuteTime": {
     "end_time": "2019-09-14T05:05:37.779251Z",
     "start_time": "2019-09-14T05:05:37.771286Z"
    }
   },
   "outputs": [],
   "source": [
    "# cv.imshow('card1', target)\n",
    "# cv.imshow('card2', target[y:y+h,x:x+w])\n",
    "# cv.waitKey(0)\n",
    "# cv.destroyAllWindows()"
   ]
  },
  {
   "cell_type": "markdown",
   "metadata": {},
   "source": [
    "### Saving the cropped image"
   ]
  },
  {
   "cell_type": "code",
   "execution_count": 304,
   "metadata": {
    "ExecuteTime": {
     "end_time": "2019-09-14T05:05:39.467564Z",
     "start_time": "2019-09-14T05:05:39.457415Z"
    }
   },
   "outputs": [
    {
     "name": "stdout",
     "output_type": "stream",
     "text": [
      "(749, 1135, 3)\n"
     ]
    }
   ],
   "source": [
    "croppedImg = target[y:y+h,x:x+w]\n",
    "print(croppedImg.shape)"
   ]
  },
  {
   "cell_type": "code",
   "execution_count": 305,
   "metadata": {
    "ExecuteTime": {
     "end_time": "2019-09-14T05:05:40.006077Z",
     "start_time": "2019-09-14T05:05:39.993101Z"
    }
   },
   "outputs": [
    {
     "name": "stdout",
     "output_type": "stream",
     "text": [
      "(749, 1135, 3)\n",
      "(856, 564)\n"
     ]
    }
   ],
   "source": [
    "customSizeImg = imageResizeByWidth(croppedImg, width=856)\n",
    "# cv.imshow('customSizeImg', customSizeImg)\n",
    "# cv.waitKey(0)\n",
    "# cv.destroyAllWindows()"
   ]
  },
  {
   "cell_type": "code",
   "execution_count": 306,
   "metadata": {
    "ExecuteTime": {
     "end_time": "2019-09-14T05:05:41.120312Z",
     "start_time": "2019-09-14T05:05:41.102479Z"
    }
   },
   "outputs": [
    {
     "data": {
      "text/plain": [
       "True"
      ]
     },
     "execution_count": 306,
     "metadata": {},
     "output_type": "execute_result"
    }
   ],
   "source": [
    "# Filename \n",
    "filename = './data/croppedImg2.jpg'\n",
    "# Saving the image\n",
    "cv.imwrite(filename, customSizeImg) "
   ]
  },
  {
   "cell_type": "markdown",
   "metadata": {},
   "source": [
    "### Final Func"
   ]
  },
  {
   "cell_type": "code",
   "execution_count": null,
   "metadata": {},
   "outputs": [],
   "source": []
  }
 ],
 "metadata": {
  "kernelspec": {
   "display_name": "Python 3",
   "language": "python",
   "name": "python3"
  },
  "language_info": {
   "codemirror_mode": {
    "name": "ipython",
    "version": 3
   },
   "file_extension": ".py",
   "mimetype": "text/x-python",
   "name": "python",
   "nbconvert_exporter": "python",
   "pygments_lexer": "ipython3",
   "version": "3.7.3"
  },
  "toc": {
   "base_numbering": 1,
   "nav_menu": {
    "height": "130px",
    "width": "294px"
   },
   "number_sections": true,
   "sideBar": true,
   "skip_h1_title": false,
   "title_cell": "Table of Contents",
   "title_sidebar": "Contents",
   "toc_cell": false,
   "toc_position": {},
   "toc_section_display": true,
   "toc_window_display": false
  }
 },
 "nbformat": 4,
 "nbformat_minor": 2
}
