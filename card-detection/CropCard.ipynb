{
 "cells": [
  {
   "cell_type": "code",
   "execution_count": null,
   "metadata": {
    "ExecuteTime": {
     "end_time": "2019-09-11T16:44:08.837948Z",
     "start_time": "2019-09-11T16:44:08.767306Z"
    }
   },
   "outputs": [],
   "source": [
    "import cv2 as cv\n",
    "import numpy as np"
   ]
  },
  {
   "cell_type": "markdown",
   "metadata": {},
   "source": [
    "### Preprocessing"
   ]
  },
  {
   "cell_type": "markdown",
   "metadata": {
    "ExecuteTime": {
     "end_time": "2019-09-11T17:04:35.994594Z",
     "start_time": "2019-09-11T17:04:35.991972Z"
    }
   },
   "source": [
    "#### Histogram balance"
   ]
  },
  {
   "cell_type": "code",
   "execution_count": null,
   "metadata": {
    "ExecuteTime": {
     "end_time": "2019-09-11T16:44:08.844327Z",
     "start_time": "2019-09-11T16:44:08.840178Z"
    }
   },
   "outputs": [],
   "source": [
    "def imageResizeByWidth(img, width=500):\n",
    "    \n",
    "    scale_percent = percent # percent of original size\n",
    "    width = int(img.shape[1] * scale_percent / 100)\n",
    "    height = int(img.shape[0] * scale_percent / 100)\n",
    "    dim = (width, height)\n",
    "    # resize image\n",
    "    resized = cv.resize(img, dim, interpolation = cv2.INTER_AREA)\n",
    "    return resized"
   ]
  },
  {
   "cell_type": "code",
   "execution_count": null,
   "metadata": {
    "ExecuteTime": {
     "end_time": "2019-09-11T16:44:08.851351Z",
     "start_time": "2019-09-11T16:44:08.846491Z"
    }
   },
   "outputs": [],
   "source": [
    "def resizeImage(img, percent=100):\n",
    "    scale_percent = percent # percent of original size\n",
    "    width = int(img.shape[1] * scale_percent / 100)\n",
    "    height = int(img.shape[0] * scale_percent / 100)\n",
    "    dim = (width, height)\n",
    "    # resize image\n",
    "    resized = cv.resize(img, dim, interpolation = cv.INTER_AREA)\n",
    "    return resized"
   ]
  },
  {
   "cell_type": "code",
   "execution_count": 96,
   "metadata": {
    "ExecuteTime": {
     "end_time": "2019-09-11T17:18:31.718311Z",
     "start_time": "2019-09-11T17:18:31.466769Z"
    }
   },
   "outputs": [],
   "source": [
    "# Load the target image with the shapes we're trying to match\n",
    "target = cv.imread('data/2.jpg')\n",
    "target = resizeImage(target, 30)\n",
    "target_gray = cv.cvtColor(target, cv.COLOR_BGR2GRAY)\n",
    "target_gray = cv.medianBlur(target_gray, 9)\n",
    "\n",
    "# cv.imshow('Target', target_gray)\n",
    "# cv.waitKey()\n",
    "# cv.destroyWindow('Target')"
   ]
  },
  {
   "cell_type": "markdown",
   "metadata": {},
   "source": [
    "### Util function"
   ]
  },
  {
   "cell_type": "code",
   "execution_count": 5,
   "metadata": {
    "ExecuteTime": {
     "end_time": "2019-09-11T16:44:14.260453Z",
     "start_time": "2019-09-11T16:44:14.246642Z"
    }
   },
   "outputs": [],
   "source": [
    "def sharpImg(img):\n",
    "    img_gray = cv.cvtColor(img, cv.COLOR_BGR2GRAY)\n",
    "    kernel_sharpening = np.array([[-1, -1, -1], [-1, 9, -1], [-1, -1, -1]])\n",
    "    # applying different kernels to the input image\n",
    "    return cv.filter2D(img_gray, -1, kernel_sharpening)"
   ]
  },
  {
   "cell_type": "markdown",
   "metadata": {},
   "source": [
    "### Get green color from image"
   ]
  },
  {
   "cell_type": "code",
   "execution_count": 97,
   "metadata": {
    "ExecuteTime": {
     "end_time": "2019-09-11T17:18:41.308064Z",
     "start_time": "2019-09-11T17:18:36.008072Z"
    }
   },
   "outputs": [],
   "source": [
    "frame = target.copy()\n",
    "# Convert BGR to HSV\n",
    "hsv = cv.cvtColor(frame, cv.COLOR_BGR2HSV)\n",
    "# cv.imshow(\"hsv\", hsv)\n",
    "# define range of blue color in HSV\n",
    "lower = np.array([40,0,0])\n",
    "upper = np.array([85,255,255])\n",
    "# Threshold the HSV image to get only blue colors\n",
    "mask = cv.inRange(hsv, lower, upper)\n",
    "# Bitwise-AND mask and original image\n",
    "res = cv.bitwise_and(frame,frame, mask= mask)\n",
    "# cv.imshow('frame',frame)\n",
    "cv.imshow('mask',mask)\n",
    "cv.imshow('res',res)\n",
    "cv.waitKey(0) \n",
    "cv.destroyAllWindows()"
   ]
  },
  {
   "cell_type": "code",
   "execution_count": 98,
   "metadata": {
    "ExecuteTime": {
     "end_time": "2019-09-11T17:18:44.447147Z",
     "start_time": "2019-09-11T17:18:44.438930Z"
    }
   },
   "outputs": [],
   "source": [
    "# convert to bgr and sharpen image\n",
    "green_img = cv.cvtColor(res, cv.COLOR_HSV2BGR)\n",
    "green_sharped = sharpImg(green_img)"
   ]
  },
  {
   "cell_type": "code",
   "execution_count": 99,
   "metadata": {
    "ExecuteTime": {
     "end_time": "2019-09-11T17:18:49.916010Z",
     "start_time": "2019-09-11T17:18:46.107594Z"
    }
   },
   "outputs": [],
   "source": [
    "# Let's define our kernel size\n",
    "kernel = np.ones((6,6), np.uint8)\n",
    "closing = cv.morphologyEx(green_sharped, cv.MORPH_CLOSE, kernel)\n",
    "cv.imshow('Closing', closing)\n",
    "cv.waitKey(0)\n",
    "cv.destroyAllWindows()"
   ]
  },
  {
   "cell_type": "code",
   "execution_count": 100,
   "metadata": {
    "ExecuteTime": {
     "end_time": "2019-09-11T17:18:54.268986Z",
     "start_time": "2019-09-11T17:18:54.262456Z"
    }
   },
   "outputs": [],
   "source": [
    "\n",
    "dilation = cv.dilate(green_sharped, kernel, iterations = 5)\n",
    "# cv.imshow('Dilation', dilation)\n",
    "# cv.waitKey(0)\n",
    "# cv.destroyAllWindows()"
   ]
  },
  {
   "cell_type": "code",
   "execution_count": 101,
   "metadata": {
    "ExecuteTime": {
     "end_time": "2019-09-11T17:18:59.858146Z",
     "start_time": "2019-09-11T17:18:56.346627Z"
    }
   },
   "outputs": [],
   "source": [
    "green_edges = cv.Canny(dilation, 50, 120)\n",
    "cv.imshow('green_edges', green_edges)\n",
    "cv.waitKey(0)\n",
    "cv.destroyWindow('green_edges')"
   ]
  },
  {
   "cell_type": "markdown",
   "metadata": {
    "heading_collapsed": true
   },
   "source": [
    "### Get edge image"
   ]
  },
  {
   "cell_type": "code",
   "execution_count": 8,
   "metadata": {
    "ExecuteTime": {
     "end_time": "2019-09-11T16:45:37.079482Z",
     "start_time": "2019-09-11T16:45:36.004136Z"
    },
    "hidden": true
   },
   "outputs": [],
   "source": [
    "import numpy as np\n",
    "# Create our shapening kernel, we don't normalize since the \n",
    "# the values in the matrix sum to 1\n",
    "kernel_sharpening = np.array([[-1,-1,-1], \n",
    "                              [-1,9,-1], \n",
    "                              [-1,-1,-1]])\n",
    "\n",
    "# applying different kernels to the input image\n",
    "sharpened = cv.filter2D(target_gray, -1, kernel_sharpening)\n",
    "\n",
    "cv.imshow('Image Sharpening', sharpened)\n",
    "\n",
    "cv.waitKey(0)\n",
    "cv.destroyAllWindows()"
   ]
  },
  {
   "cell_type": "code",
   "execution_count": null,
   "metadata": {
    "ExecuteTime": {
     "end_time": "2019-09-10T15:57:37.796444Z",
     "start_time": "2019-09-10T15:57:28.739972Z"
    },
    "hidden": true
   },
   "outputs": [],
   "source": [
    "target_edges = cv.Canny(sharpened, 100, 150)\n",
    "cv.imshow('target_edges', target_edges)\n",
    "cv.waitKey(0)\n",
    "cv.destroyWindow('target_edges')"
   ]
  },
  {
   "cell_type": "code",
   "execution_count": null,
   "metadata": {
    "ExecuteTime": {
     "end_time": "2019-09-10T15:41:24.362026Z",
     "start_time": "2019-09-10T15:41:24.349439Z"
    },
    "hidden": true
   },
   "outputs": [],
   "source": [
    "print(target.shape)"
   ]
  },
  {
   "cell_type": "markdown",
   "metadata": {},
   "source": [
    "### Find the rectangel bounding the card"
   ]
  },
  {
   "cell_type": "code",
   "execution_count": 104,
   "metadata": {
    "ExecuteTime": {
     "end_time": "2019-09-11T17:19:37.686581Z",
     "start_time": "2019-09-11T17:19:31.298618Z"
    },
    "hide_input": false,
    "scrolled": true
   },
   "outputs": [],
   "source": [
    "sharpened = green_edges\n",
    "# ret, thresh = cv.threshold(sharpened, 127, 255, 1)\n",
    "\n",
    "# Extract Contours\n",
    "# contours, hierarchy = cv.findContours(thresh.copy(), cv.RETR_EXTERNAL,\n",
    "#                                       cv.CHAIN_APPROX_NONE)\n",
    "\n",
    "contours, hierarchy = cv.findContours(green_edges, cv.RETR_EXTERNAL,\n",
    "                                      cv.CHAIN_APPROX_SIMPLE)\n",
    "\n",
    "contours = sorted(contours, key=cv.contourArea, reverse=True)\n",
    "\n",
    "imgShow = target.copy()\n",
    "for c in contours[:5]:\n",
    "    cv.drawContours(imgShow, [c], -1, (0, 40, 120), 2)\n",
    "    cv.imshow('Template_Contours', imgShow)\n",
    "    cv.waitKey(1)\n",
    "    if cv.waitKey(1) == 13: #13 is the Enter Key\n",
    "        break\n",
    "\n",
    "cv.waitKey(0)\n",
    "cv.destroyAllWindows()"
   ]
  },
  {
   "cell_type": "code",
   "execution_count": 105,
   "metadata": {
    "ExecuteTime": {
     "end_time": "2019-09-11T17:19:43.360524Z",
     "start_time": "2019-09-11T17:19:40.393012Z"
    }
   },
   "outputs": [
    {
     "name": "stdout",
     "output_type": "stream",
     "text": [
      "{'m00': 820595.0, 'm10': 482205139.5, 'm01': 371153864.6666666, 'm20': 369148349422.6666, 'm11': 217756024054.41666, 'm02': 204556658605.16666, 'm30': 317260743656519.94, 'm21': 166506074775035.53, 'm12': 120240918771325.14, 'm03': 125731335077120.2, 'mu20': 85790789895.47662, 'mu11': -344623753.03292847, 'mu02': 36684332723.33423, 'mu30': -487659573183.75, 'mu21': -54138038509.8125, 'mu12': 349309362578.98047, 'mu03': 26135666236.3125, 'nu20': 0.12740396193520617, 'nu11': -0.0005117849079938372, 'nu02': 0.054478217715402316, 'nu30': -0.000799456040260556, 'nu21': -8.875245001746316e-05, 'nu12': 0.0005726484112885576, 'nu03': 4.284611107384316e-05}\n"
     ]
    }
   ],
   "source": [
    "img = target.copy()\n",
    "x,y,w,h\n",
    "for cnt in contours:\n",
    "    # Get approximate polygons\n",
    "    approx = cv.approxPolyDP(cnt, 0.02 * cv.arcLength(cnt, True), True)\n",
    "    if len(approx) == 4:\n",
    "        x, y, w, h = cv.boundingRect(cnt)\n",
    "        M = cv.moments(cnt)\n",
    "        print(M)\n",
    "        # continue\n",
    "        cx = int(M['m10'] / M['m00'])\n",
    "        cy = int(M['m01'] / M['m00'])\n",
    "\n",
    "        shape_name = \"Rectangle\"\n",
    "        # Find contour center to place text at the center\n",
    "        cv.drawContours(img, [cnt], 0, (0, 0, 255), 2)\n",
    "        cv.putText(img, shape_name, (cx - 50, cy), cv.FONT_HERSHEY_SIMPLEX, 1,\n",
    "                   (0, 0, 0), 1)\n",
    "        break\n",
    "\n",
    "cv.imshow('Identifying Shapes', img)\n",
    "cv.waitKey(0)\n",
    "cv.destroyAllWindows()"
   ]
  },
  {
   "cell_type": "code",
   "execution_count": 106,
   "metadata": {
    "ExecuteTime": {
     "end_time": "2019-09-11T17:20:11.463092Z",
     "start_time": "2019-09-11T17:19:48.663970Z"
    }
   },
   "outputs": [],
   "source": [
    "cv.imshow('card1', target)\n",
    "cv.imshow('card2', target[y:y+h+1,x:x+w+1])\n",
    "\n",
    "cv.waitKey(0)\n",
    "cv.destroyAllWindows()"
   ]
  },
  {
   "cell_type": "code",
   "execution_count": 29,
   "metadata": {
    "ExecuteTime": {
     "end_time": "2019-09-11T16:57:24.506326Z",
     "start_time": "2019-09-11T16:57:24.502247Z"
    }
   },
   "outputs": [],
   "source": [
    "cv.destroyAllWindows()"
   ]
  }
 ],
 "metadata": {
  "kernelspec": {
   "display_name": "Python 3",
   "language": "python",
   "name": "python3"
  },
  "language_info": {
   "codemirror_mode": {
    "name": "ipython",
    "version": 3
   },
   "file_extension": ".py",
   "mimetype": "text/x-python",
   "name": "python",
   "nbconvert_exporter": "python",
   "pygments_lexer": "ipython3",
   "version": "3.7.3"
  },
  "toc": {
   "base_numbering": 1,
   "nav_menu": {
    "height": "130px",
    "width": "294px"
   },
   "number_sections": true,
   "sideBar": true,
   "skip_h1_title": false,
   "title_cell": "Table of Contents",
   "title_sidebar": "Contents",
   "toc_cell": false,
   "toc_position": {},
   "toc_section_display": true,
   "toc_window_display": false
  }
 },
 "nbformat": 4,
 "nbformat_minor": 2
}
