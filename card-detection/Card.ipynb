{
 "cells": [
  {
   "cell_type": "code",
   "execution_count": 12,
   "metadata": {},
   "outputs": [],
   "source": [
    "import cv2\n",
    "import numpy as np\n",
    "import utilsImage"
   ]
  },
  {
   "cell_type": "code",
   "execution_count": 3,
   "metadata": {},
   "outputs": [],
   "source": [
    "class Card():\n",
    "    def __init__(self, originImage):\n",
    "        self.originImage = originImage\n",
    "    "
   ]
  },
  {
   "cell_type": "code",
   "execution_count": 4,
   "metadata": {},
   "outputs": [],
   "source": [
    "imgPath = './data/temp4.jpg'\n",
    "img = cv2.imread(imgPath)\n",
    "card = Card(img)"
   ]
  },
  {
   "cell_type": "code",
   "execution_count": 6,
   "metadata": {},
   "outputs": [
    {
     "data": {
      "text/plain": [
       "<__main__.Card at 0x7f5ce480b748>"
      ]
     },
     "execution_count": 6,
     "metadata": {},
     "output_type": "execute_result"
    }
   ],
   "source": [
    "card"
   ]
  },
  {
   "cell_type": "code",
   "execution_count": 15,
   "metadata": {},
   "outputs": [],
   "source": [
    "def getGreenColor(img):\n",
    "    # Convert BGR to HSV\n",
    "    hsv = cv2.cvtColor(img, cv2.COLOR_BGR2HSV)\n",
    "    # cv2.imshow(\"hsv\", hsv)\n",
    "    # define range of blue color in HSV\n",
    "    lower = np.array([40,0,0])\n",
    "    upper = np.array([85,255,255])\n",
    "    # Threshold the HSV image to get only blue colors\n",
    "    mask = cv2.inRange(hsv, lower, upper)\n",
    "    # Bitwise-AND mask and original image\n",
    "    res = cv2.bitwise_and(img,img, mask= mask)\n",
    "    green_img = cv2.cvtColor(res, cv2.COLOR_HSV2BGR)\n",
    "    return green_img\n",
    "\n",
    "card.getGreenColor = getGreenColor"
   ]
  },
  {
   "cell_type": "code",
   "execution_count": 16,
   "metadata": {},
   "outputs": [],
   "source": [
    "def getGreenEdges(img):\n",
    "    green_img = getGreenColor(img)\n",
    "    cv2.imshow('getGreenColor', green_img)\n",
    "#     cv2.waitKey(0)\n",
    "\n",
    "    #     Sharpend edge image\n",
    "    green_img = cv2.cvtColor(green_img, cv2.COLOR_BGR2GRAY)\n",
    "    #     green_img = cv2.GaussianBlur(green_img, (3, 3), cv2.BORDER_DEFAULT)\n",
    "    green_img = sharpImg(green_img)\n",
    "\n",
    "    #     Make edge wider\n",
    "    kernel = np.ones((7, 7), np.uint8)\n",
    "    #     green_sharped = cv2.GaussianBlur(green_sharped, (3, 3), cv2.BORDER_DEFAULT)\n",
    "    green_img = cv2.dilate(green_img, kernel, iterations=2)\n",
    "\n",
    "    #     Blur image\n",
    "    green_img = cv2.GaussianBlur(green_img, (3, 3), cv2.BORDER_DEFAULT)\n",
    "    #     cv2.imshow('GaussianBlur', green_img)\n",
    "    #     cv2.waitKey(0)\n",
    "    #     Get edges\n",
    "    green_edges = cv2.Canny(green_img, 50, 120)\n",
    "#     cv2.imshow('green_edges', green_edges)\n",
    "#     cv2.waitKey(0)\n",
    "    return green_edges\n",
    "\n",
    "card.getGreenEdges = getGreenEdges"
   ]
  },
  {
   "cell_type": "code",
   "execution_count": 18,
   "metadata": {},
   "outputs": [],
   "source": [
    "temp = card.getGreenColor(img)\n",
    "utilsImage.showingImg(temp)"
   ]
  },
  {
   "cell_type": "code",
   "execution_count": 19,
   "metadata": {},
   "outputs": [],
   "source": [
    "def getCardBorder(img):\n",
    "    green_edges = getGreenEdges(img)\n",
    "    contours, hierarchy = cv2.findContours(green_edges, cv2.RETR_EXTERNAL,\n",
    "                                          cv2.CHAIN_APPROX_SIMPLE)\n",
    "\n",
    "    contours = sorted(contours, key=cv2.contourArea, reverse=True)\n",
    "\n",
    "    x = y = w = h = None\n",
    "    for cnt in contours:\n",
    "        # Get approximate polygons\n",
    "        epsilon = 0.02 * cv2.arcLength(cnt, True)\n",
    "        approx = cv2.approxPolyDP(cnt, epsilon, True)\n",
    "        if len(approx) == 4:\n",
    "            #             print(\"Min area: \", cv2.minAreaRect(cnt))\n",
    "            x, y, w, h = cv2.boundingRect(cnt)\n",
    "            print(\"Boundary: \", cv2.boundingRect(cnt))\n",
    "\n",
    "            # Draw polygon\n",
    "            #             drawContourBoundary(img.copy(), cnt)\n",
    "            break\n",
    "    return x, y, w, h\n",
    "card.getCardBorder = getCardBorder"
   ]
  },
  {
   "cell_type": "code",
   "execution_count": null,
   "metadata": {},
   "outputs": [],
   "source": []
  }
 ],
 "metadata": {
  "kernelspec": {
   "display_name": "Python 3",
   "language": "python",
   "name": "python3"
  },
  "language_info": {
   "codemirror_mode": {
    "name": "ipython",
    "version": 3
   },
   "file_extension": ".py",
   "mimetype": "text/x-python",
   "name": "python",
   "nbconvert_exporter": "python",
   "pygments_lexer": "ipython3",
   "version": "3.7.3"
  }
 },
 "nbformat": 4,
 "nbformat_minor": 4
}
