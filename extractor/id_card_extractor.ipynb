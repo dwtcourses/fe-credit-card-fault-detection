{
 "cells": [
  {
   "cell_type": "code",
   "execution_count": 1,
   "metadata": {},
   "outputs": [],
   "source": [
    "debug = False"
   ]
  },
  {
   "cell_type": "code",
   "execution_count": 2,
   "metadata": {
    "ExecuteTime": {
     "end_time": "2019-09-14T18:02:53.977777Z",
     "start_time": "2019-09-14T18:02:53.883480Z"
    }
   },
   "outputs": [],
   "source": [
    "import cv2\n",
    "import numpy as np\n",
    "import random\n",
    "import sys \n",
    "import re\n",
    "# from matplotlib import pyplot as plt\n",
    "\n",
    "# Linux commands:\n",
    "# sudo apt update\n",
    "# sudo apt install tesseract-ocr\n",
    "# sudo apt install libtesseract-dev\n",
    "\n",
    "# !pip install pillow\n",
    "# !pip install pytesseract\n",
    "# !pip install opencv-python\n",
    "\n",
    "from PIL import Image\n",
    "import pytesseract\n",
    "import argparse\n",
    "# import cv2\n",
    "import os\n"
   ]
  },
  {
   "cell_type": "code",
   "execution_count": 3,
   "metadata": {},
   "outputs": [],
   "source": [
    "def resizeImageByWidth(img, width=856, height=548):\n",
    "    currRatio = img.shape[0]/img.shape[1]\n",
    "#     print('Shape: ', img.shape\n",
    "#     height = int(width * currRatio)\n",
    "    dim = (width, height)\n",
    "#     print('Resized shape: ', dim)\n",
    "    # resize image\n",
    "    resized = cv2.resize(img, dim, interpolation = cv2.INTER_AREA)\n",
    "    showImg(resized, 'Resized')\n",
    "    return resized"
   ]
  },
  {
   "cell_type": "code",
   "execution_count": 4,
   "metadata": {
    "ExecuteTime": {
     "end_time": "2019-09-14T18:02:54.429232Z",
     "start_time": "2019-09-14T18:02:54.425312Z"
    }
   },
   "outputs": [],
   "source": [
    "def showImg(img, title = str(round(random.random()*1000,0))):\n",
    "    if debug:\n",
    "        cv2.imshow(title, img)\n",
    "        cv2.waitKey(0)\n",
    "        cv2.destroyWindow(title)"
   ]
  },
  {
   "cell_type": "code",
   "execution_count": 5,
   "metadata": {},
   "outputs": [],
   "source": [
    "def cropImage(image, offsetX, offsetY, width, height):\n",
    "    cardNu_threshold = 10\n",
    "    minX = offsetX\n",
    "    minY = offsetY\n",
    "    cardNuWidth = width\n",
    "    cardNuHeight = height\n",
    "\n",
    "    cropped = image[minY - cardNu_threshold:minY + cardNuHeight + cardNu_threshold, minX -\n",
    "                   cardNu_threshold:minX + cardNuWidth + cardNu_threshold]\n",
    "    \n",
    "    showImg(cropped, 'Cropped')\n",
    "    \n",
    "    return cropped\n"
   ]
  },
  {
   "cell_type": "code",
   "execution_count": 6,
   "metadata": {},
   "outputs": [],
   "source": [
    "def histogramEqualize(img):\n",
    "    #-----Converting image to LAB Color model-----------------------------------\n",
    "    lab = cv2.cvtColor(img, cv2.COLOR_BGR2LAB)\n",
    "    # cv2.imshow(\"lab\",lab)\n",
    "\n",
    "    #-----Splitting the LAB image to different channels-------------------------\n",
    "    l, a, b = cv2.split(lab)\n",
    "    # cv2.imshow('l_channel', l)\n",
    "    # cv2.imshow('a_channel', a)\n",
    "    # cv2.imshow('b_channel', b)\n",
    "\n",
    "    #-----Applying CLAHE to L-channel-------------------------------------------\n",
    "    clahe = cv2.createCLAHE(clipLimit=3.0, tileGridSize=(8, 8))\n",
    "    cl = clahe.apply(l)\n",
    "    #     cv2.imshow('CLAHE output', cl)\n",
    "\n",
    "    #-----Merge the CLAHE enhanced L-channel with the a and b channel-----------\n",
    "    limg = cv2.merge((cl, a, b))\n",
    "    #     cv2.imshow('limg', limg)\n",
    "\n",
    "    #-----Converting image from LAB Color model to RGB model--------------------\n",
    "    final = cv2.cvtColor(limg, cv2.COLOR_LAB2BGR)\n",
    "    #     cv2.imshow('final', final)\n",
    "\n",
    "    #     cv2.waitKey(0)\n",
    "    #     cv2.destroyAllWindows()\n",
    "    return final"
   ]
  },
  {
   "cell_type": "markdown",
   "metadata": {},
   "source": [
    "## Util functions for extract text"
   ]
  },
  {
   "cell_type": "code",
   "execution_count": 7,
   "metadata": {},
   "outputs": [],
   "source": [
    "# remove background, just keep text color from image\n",
    "# imput image instance\n",
    "def keepColor(image, lower, upper):\n",
    "    frame = image.copy()\n",
    "    # Convert BGR to HSV\n",
    "    hsv = cv2.cvtColor(frame, cv2.COLOR_BGR2HSV)\n",
    "    # cv.imshow(\"hsv\", hsv)\n",
    "    # define range of blue color in HSV\n",
    "\n",
    "    # Threshold the HSV image to get only blue colors\n",
    "    res = cv2.inRange(hsv, lower, upper)\n",
    "    # Bitwise-AND mask and original image\n",
    "#     res = cv2.bitwise_and(frame,frame, mask= mask)\n",
    "#     cv2.imshow('frame',frame)\n",
    "#     cv2.imshow('mask',mask)\n",
    "#     cv2.imshow('res',res)\n",
    "#     cv2.waitKey(0) \n",
    "#     cv2.destroyAllWindows()\n",
    "    \n",
    "    showImg(res, 'filtered')\n",
    "    \n",
    "#     kernel = np.ones((2,2),np.uint8)\n",
    "#     res2 = cv2.morphologyEx(res, cv2.MORPH_CLOSE, kernel)\n",
    "#     showImg(res2, 'applied')\n",
    "    return res\n",
    "    "
   ]
  },
  {
   "cell_type": "code",
   "execution_count": null,
   "metadata": {},
   "outputs": [],
   "source": []
  },
  {
   "cell_type": "code",
   "execution_count": 8,
   "metadata": {},
   "outputs": [],
   "source": [
    "def extractText(image, lang=None):\n",
    "    \n",
    "    # Window: Point tesseract execute file path here\n",
    "    pytesseract.pytesseract.tesseract_cmd = r'C:\\Program Files\\Tesseract-OCR\\tesseract.exe'\n",
    "\n",
    "    # Write down temporary file to extract\n",
    "    filename = \"{}.png\".format(os.getpid())\n",
    "    cv2.imwrite(filename, image)\n",
    "\n",
    "    # extract text from image using tesseract ocr\n",
    "    text = pytesseract.image_to_string(Image.open(filename), lang='vie')\n",
    "\n",
    "    # Remove temporary image\n",
    "    os.remove(filename)\n",
    "\n",
    "    return text"
   ]
  },
  {
   "cell_type": "code",
   "execution_count": 9,
   "metadata": {},
   "outputs": [],
   "source": [
    "def extractDigits(image):\n",
    "    \n",
    "    # Window: Point tesseract execute file path here\n",
    "    pytesseract.pytesseract.tesseract_cmd = r'C:\\Program Files\\Tesseract-OCR\\tesseract.exe'\n",
    "\n",
    "    # Write down temporary file to extract\n",
    "    filename = \"{}.png\".format(os.getpid())\n",
    "    cv2.imwrite(filename, image)\n",
    "\n",
    "    # extract text from image using tesseract ocr\n",
    "    text = pytesseract.image_to_string(Image.open(filename), config='digits')\n",
    "\n",
    "    # Remove temporary image\n",
    "    os.remove(filename)\n",
    "\n",
    "    return text"
   ]
  },
  {
   "cell_type": "markdown",
   "metadata": {},
   "source": [
    "## 1. Get Id number function"
   ]
  },
  {
   "cell_type": "code",
   "execution_count": 10,
   "metadata": {},
   "outputs": [],
   "source": [
    "# get Id number function\n",
    "# key color = in range [50 - 80]\n",
    "def getIdNumber(image, V_upper_color=70):\n",
    "    #load image\n",
    "    originImg = image.copy()\n",
    "#     showImg(originImg, \"Origin image\")\n",
    "    \n",
    "    #Crop id number area\n",
    "    cropped_img = cropImage(originImg, 400, 140, 350, 40)\n",
    "#     showImg(cropped_img, \"Cropped\")\n",
    "\n",
    "    #filter\n",
    "    \n",
    "    lower = np.array([0,0,0])\n",
    "    upper = np.array([180, 255, V_upper_color]) # V in range (50 - 80) is fine\n",
    "\n",
    "    filteredImg = keepColor(cropped_img, lower, upper)\n",
    "#     showImg(filteredImg)\n",
    "    \n",
    "    #extract text\n",
    "    res = extractText(filteredImg)\n",
    "    \n",
    "    #remove non digit characters\n",
    "#     res = re.sub(\"\\\\D\", '', res)\n",
    "    \n",
    "    return res\n"
   ]
  },
  {
   "cell_type": "code",
   "execution_count": 11,
   "metadata": {},
   "outputs": [],
   "source": [
    "# debug= True\n",
    "# testImg = resizeImageByWidth(cv2.imread('./data/9_103.png'))\n",
    "# testImg = resizeImageByWidth(cv2.imread('./data/10_63.png')) #FAILED\n",
    "# testImg = resizeImageByWidth(cv2.imread('./data/13_143.png')) #failed\n",
    "# testImg = resizeImageByWidth(cv2.imread('./data/14_174.png')) \n",
    "# testImg = resizeImageByWidth(cv2.imread('./data/temp4.jpg')) \n",
    "\n",
    "# for i in range(60,120,5):\n",
    "#     print('-----------i = '+str(i))\n",
    "#     print('id :'+getIdNumber(testImg, i))\n",
    "#     print('fullname: '+getFullname(testImg, i))\n",
    "#     print('dob :'+getDateOfBirth(testImg, i))\n",
    "#     print('official name: '+getOfficalCountryName(testImg, i))\n",
    "#     print('official title: '+get(testImg, i))\n",
    "    \n",
    "# debug=False"
   ]
  },
  {
   "cell_type": "markdown",
   "metadata": {},
   "source": [
    "## 2. Get fullnameresizeImageByWidth"
   ]
  },
  {
   "cell_type": "code",
   "execution_count": 12,
   "metadata": {},
   "outputs": [],
   "source": [
    "# get Id number function\n",
    "# key color = in range [50 - 80]\n",
    "def getFullname(image, V_upper_color=70):\n",
    "    #load image\n",
    "    originImg = image.copy()\n",
    "#     showImg(originImg, \"Origin image\")\n",
    "    \n",
    "    #Crop id number area\n",
    "    cropped_line1 = cropImage(originImg, 360, 195, 500, 40)\n",
    "    cropped_line2 = cropImage(originImg, 275, 245, 500, 40)\n",
    "    \n",
    "#     showImg(cropped_line1, \"Cropped 1\")\n",
    "#     showImg(cropped_line2, \"Cropped 2\")\n",
    "\n",
    "    #filter\n",
    "    \n",
    "    lower = np.array([0,0,0])\n",
    "    upper = np.array([180, 255, V_upper_color]) # V in range (50 - 80) is fine\n",
    "\n",
    "    filtered_1 = keepColor(cropped_line1, lower, upper)\n",
    "    filtered_2 = keepColor(cropped_line2, lower, upper)\n",
    "    \n",
    "#     showImg(filtered_1, \"filter 1\")\n",
    "#     showImg(filtered_2, \"filter 2\")\n",
    "    \n",
    "    #extract text\n",
    "    line1 = extractText(filtered_1).strip()\n",
    "#     line1 = re.sub(\"!(a-zA-Z)\", '', line1)\n",
    "    \n",
    "    line2 = extractText(filtered_2).strip()\n",
    "#     line2 = re.sub(\"!(a-zA-Z)\", '', line2)\n",
    " \n",
    "    res = ''\n",
    "    if len(line1) > 0:\n",
    "        res = line1 + ' '\n",
    "    res += line2\n",
    "    \n",
    "    \n",
    "    return res.strip()\n"
   ]
  },
  {
   "cell_type": "code",
   "execution_count": 13,
   "metadata": {},
   "outputs": [],
   "source": [
    "# print(getFullname('./data/temp4.jpg', 70)) #key"
   ]
  },
  {
   "cell_type": "code",
   "execution_count": null,
   "metadata": {},
   "outputs": [],
   "source": []
  },
  {
   "cell_type": "markdown",
   "metadata": {},
   "source": [
    "## 2. Get DOB"
   ]
  },
  {
   "cell_type": "code",
   "execution_count": 14,
   "metadata": {},
   "outputs": [],
   "source": [
    "# get Id number function\n",
    "# key color = in range [30 - 80]\n",
    "def getDateOfBirth(image, V_upper_color=50):\n",
    "    originImg = image.copy()\n",
    "#     showImg(originImg, \"Origin image\")\n",
    "    \n",
    "    #Crop id number area\n",
    "    cropped_img = cropImage(originImg, 400, 300, 360, 40)\n",
    "#     showImg(cropped_img, \"Cropped\")\n",
    "\n",
    "    #filter\n",
    "    \n",
    "    lower = np.array([0,0,0])\n",
    "    upper = np.array([180, 255, V_upper_color]) # V in range (50 - 80) is fine\n",
    "\n",
    "    filteredImg = keepColor(cropped_img, lower, upper)\n",
    "#     showImg(filteredImg, 'filtered')\n",
    "    \n",
    "    #extract text\n",
    "    res = extractDigits(filteredImg)\n",
    "    \n",
    "    #remove non digit characters or '-' character\n",
    "#     res = re.sub(\"!(\\\\d|-)\", '', res)\n",
    "    return res.strip()\n"
   ]
  },
  {
   "cell_type": "code",
   "execution_count": 15,
   "metadata": {},
   "outputs": [],
   "source": [
    "# print(getDateOfBirth(cv2.imread('./data/temp4.jpg'), 70)) #key"
   ]
  },
  {
   "cell_type": "code",
   "execution_count": null,
   "metadata": {},
   "outputs": [],
   "source": []
  },
  {
   "cell_type": "code",
   "execution_count": null,
   "metadata": {},
   "outputs": [],
   "source": []
  },
  {
   "cell_type": "markdown",
   "metadata": {},
   "source": [
    "## 3. Get POB"
   ]
  },
  {
   "cell_type": "code",
   "execution_count": 18,
   "metadata": {},
   "outputs": [],
   "source": [
    "# get Id number function\n",
    "# key color = in range [30 - 80]\n",
    "def getPlaceOfBirth(image, V_upper_color=60):\n",
    "\n",
    "    originImg = image.copy()\n",
    "    #     showImg(originImg, \"Origin image\")\n",
    "    \n",
    "    #Crop id number area\n",
    "    cropped_img_line1 = cropImage(originImg, 450, 340, 400, 40)\n",
    "    cropped_img_line2 = cropImage(originImg, 280, 390, 600, 40)\n",
    "#     showImg(cropped_img_line1, \"Cropped line1\")\n",
    "\n",
    "    #filter\n",
    "    \n",
    "    lower = np.array([0,0,0])\n",
    "    upper = np.array([180, 255, V_upper_color]) # V in range (50 - 80) is fine\n",
    "\n",
    "    filtered_line1 = keepColor(cropped_img_line1, lower, upper)\n",
    "    filtered_line2 = keepColor(cropped_img_line2, lower, upper)\n",
    "    \n",
    "#     showImg(filteredImg, 'filtered')\n",
    "    \n",
    "    #extract text\n",
    "    line1 = extractText(filtered_line1)\n",
    "#     line1 = re.sub(\"!(a-zA-Z0-9|,)\", '', line1)\n",
    "    \n",
    "    line2 = extractText(filtered_line2)    \n",
    "#     line2 = re.sub(\"!(a-zA-Z0-9|,)\", '', line2)\n",
    "    \n",
    "    res = ''\n",
    "    if len(line1) > 0:\n",
    "        res = line1 + ' '\n",
    "    res += line2\n",
    "    \n",
    "    #line 2\n",
    "    return res.strip()\n"
   ]
  },
  {
   "cell_type": "code",
   "execution_count": 19,
   "metadata": {},
   "outputs": [],
   "source": [
    "# print(getPlaceOfBirth(imread'./data/temp4.jpg'))"
   ]
  },
  {
   "cell_type": "code",
   "execution_count": null,
   "metadata": {},
   "outputs": [],
   "source": []
  },
  {
   "cell_type": "markdown",
   "metadata": {},
   "source": [
    "## 4. Get Current address"
   ]
  },
  {
   "cell_type": "code",
   "execution_count": 21,
   "metadata": {},
   "outputs": [],
   "source": [
    "# get Id number function\n",
    "# key color = in range [30 - 80]\n",
    "def getCurrentAddress(image, V_upper_color=50):\n",
    "    originImg = image.copy()\n",
    "#     showImg(originImg, \"Origin image\")\n",
    "    \n",
    "    #Crop id number area\n",
    "    cropped_img_line1 = cropImage(originImg, 540, 435, 300, 40)\n",
    "    cropped_img_line2 = cropImage(originImg, 240, 480, 600, 40)\n",
    "#     showImg(cropped_img_line1, \"Cropped line1\")\n",
    "#     showImg(cropped_img_line2, \"Cropped line2\")\n",
    "\n",
    "    #filter\n",
    "    \n",
    "    lower = np.array([0,0,0])\n",
    "    upper = np.array([180, 255, V_upper_color]) # V in range (50 - 80) is fine\n",
    "\n",
    "    filtered_line1 = keepColor(cropped_img_line1, lower, upper)\n",
    "    filtered_line2 = keepColor(cropped_img_line2, lower, upper)\n",
    "    \n",
    "#     showImg(filtered_line1, \"filtered line1\")\n",
    "#     showImg(filtered_line2, \"filtered line2\")\n",
    "    \n",
    "    #extract text\n",
    "    line1 = extractText(filtered_line1)\n",
    "#     line1 = re.sub(\"!(a-zA-Z0-9|,)\", '', line1)\n",
    "    \n",
    "    line2 = extractText(filtered_line2)    \n",
    "#     line2 = re.sub(\"!(a-zA-Z0-9|,)\", '', line2)\n",
    "    \n",
    "    res = ''\n",
    "    if len(line1) > 0:\n",
    "        res = line1 + ' '\n",
    "    res += line2\n",
    "    \n",
    "    #line 2\n",
    "    return res\n"
   ]
  },
  {
   "cell_type": "code",
   "execution_count": 22,
   "metadata": {},
   "outputs": [],
   "source": [
    "# print(getCurrentAddress('./data/temp4.jpg', 50))"
   ]
  },
  {
   "cell_type": "code",
   "execution_count": null,
   "metadata": {},
   "outputs": [],
   "source": []
  },
  {
   "cell_type": "markdown",
   "metadata": {},
   "source": [
    "## 5. Get offical country name"
   ]
  },
  {
   "cell_type": "code",
   "execution_count": 23,
   "metadata": {},
   "outputs": [],
   "source": [
    "# get Id number function\n",
    "# key color = in range [30 - 80]\n",
    "def getOfficalCountryName(image, V_upper_color=85):\n",
    "    originImg = image.copy()\n",
    "#     showImg(originImg, \"Origin image\")\n",
    "    \n",
    "    #Crop id number area\n",
    "    cropped_line1 = cropImage(originImg, 275, 20, 560, 32)\n",
    "#     showImg(cropped_line1, \"Cropped line 1\")\n",
    "\n",
    "    #filter\n",
    "    \n",
    "    lower = np.array([0,0,0])\n",
    "    upper = np.array([180, 255, V_upper_color]) # V in range (50 - 80) is fine\n",
    "\n",
    "    filtered_line1 = keepColor(cropped_line1, lower, upper)\n",
    "    \n",
    "#     showImg(filtered_line1, 'filtered line 1')\n",
    "    \n",
    "    #extract text\n",
    "    line1 = extractText(filtered_line1)\n",
    "#     line1 = re.sub(\"!(a-zA-Z0-9)\", '', line1)\n",
    "    return line1\n"
   ]
  },
  {
   "cell_type": "code",
   "execution_count": 24,
   "metadata": {},
   "outputs": [],
   "source": [
    "# print(getOfficalCountryName('./data/temp4.jpg'))"
   ]
  },
  {
   "cell_type": "code",
   "execution_count": null,
   "metadata": {},
   "outputs": [],
   "source": []
  },
  {
   "cell_type": "code",
   "execution_count": 25,
   "metadata": {},
   "outputs": [],
   "source": [
    "# get Offical title function\n",
    "# key color = in range [30 - 80]\n",
    "def getOfficalTitle(image, V_upper_color=100):\n",
    "    originImg = image.copy()\n",
    "#     showImg(originImg, \"Origin image\")\n",
    "    \n",
    "    #Crop id number area\n",
    "    cropped_line2 = cropImage(originImg, 385, 65, 420, 12)\n",
    "#     showImg(cropped_line2, \"Cropped line 2\")\n",
    "\n",
    "    #filter\n",
    "    \n",
    "    lower = np.array([0,0,0])\n",
    "    upper = np.array([180, 255, V_upper_color]) # V in range (50 - 80) is fine\n",
    "\n",
    "    filtered_line2 = keepColor(cropped_line2, lower, upper)\n",
    "#     showImg(filtered_line2, 'filtered line 2')\n",
    "    \n",
    "    #extract text\n",
    "    line2 = extractText(filtered_line2)\n",
    "#     line2 = re.sub(\"!(a-zA-Z0-9)\", '', line2)\n",
    "    return line2\n"
   ]
  },
  {
   "cell_type": "code",
   "execution_count": 26,
   "metadata": {},
   "outputs": [],
   "source": [
    "# print(getOfficalTitle('./data/temp4.jpg'))"
   ]
  },
  {
   "cell_type": "code",
   "execution_count": null,
   "metadata": {},
   "outputs": [],
   "source": []
  },
  {
   "cell_type": "markdown",
   "metadata": {},
   "source": [
    "## 6. Get card name"
   ]
  },
  {
   "cell_type": "code",
   "execution_count": 27,
   "metadata": {},
   "outputs": [],
   "source": [
    "# get Offical title function\n",
    "# key color = in range [30 - 80]\n",
    "def getCardName(image, V_upper_color=100):\n",
    "    originImg = image.copy()\n",
    "#     showImg(originImg, \"Origin image\")\n",
    "    \n",
    "    #Crop id number area\n",
    "    cropped_line2 = cropImage(originImg, 300, 99, 500, 38)\n",
    "    showImg(cropped_line2, \"Cropped line 2\")\n",
    "\n",
    "    hsv = cv2.cvtColor(cropped_line2, cv2.COLOR_BGR2HSV)\n",
    "\n",
    "    #get RED range colors\n",
    "    mask1 = cv2.inRange(hsv, (0, 70, 50), (10,255,255))\n",
    "    mask2 = cv2.inRange(hsv, (170,70,50), (180,255,255))\n",
    "    \n",
    "#     showImg(mask1, 'mask1')\n",
    "#     showImg(mask2, 'mask2')\n",
    "    \n",
    "    \n",
    "    ## Merge the mask and crop the red regions\n",
    "    mask = cv2.bitwise_or(mask1, mask2 )\n",
    "    showImg(mask, 'mask')\n",
    "    \n",
    "#     res = cv2.bitwise_and(cropped_line2 , cropped_line2, mask= mask)\n",
    "#     res = cv2.cvtColor(res, cv2.COLOR_HSV2BGR)\n",
    "#     showImg(res, 'filtered line 2')\n",
    "    \n",
    "    #extract text\n",
    "    line2 = extractText(mask)\n",
    "    \n",
    "    return line2\n"
   ]
  },
  {
   "cell_type": "code",
   "execution_count": 26,
   "metadata": {},
   "outputs": [],
   "source": [
    "# print(getCardName('./data/temp4.jpg'))"
   ]
  },
  {
   "cell_type": "markdown",
   "metadata": {},
   "source": [
    "# Get ID card information"
   ]
  },
  {
   "cell_type": "code",
   "execution_count": 28,
   "metadata": {},
   "outputs": [],
   "source": [
    "#get\n",
    "def extractInfo(imagePath):\n",
    "    image = resizeImageByWidth(cv2.imread(imagePath))\n",
    "#     image = histogramEqualize(image)\n",
    "    res={}\n",
    "    res['img'] = imagePath\n",
    "    res[\"country_name\"] = getOfficalCountryName(image)\n",
    "    res[\"country_title\"] = getOfficalTitle(image)\n",
    "    res['card_name'] = getCardName(image)\n",
    "    res['id_number'] = getIdNumber(image)\n",
    "    res['fullname'] = getFullname(image)\n",
    "    res['date_of_birth'] = getDateOfBirth(image)\n",
    "    res['place_of_birth'] = b(image)\n",
    "    res['current_address'] = getCurrentAddress(image)\n",
    "    return res"
   ]
  },
  {
   "cell_type": "code",
   "execution_count": 49,
   "metadata": {},
   "outputs": [],
   "source": [
    "#get\n",
    "def extractInfo2(imagePath, V_color):\n",
    "    # preprocessing\n",
    "    image = resizeImageByWidth(cv2.imread(imagePath))\n",
    "    image = cv2.GaussianBlur(image, (3 ,3), 0)\n",
    "#     image = histogramEqualize(image)\n",
    "    res={}\n",
    "    res['img'] = imagePath\n",
    "    res[\"country_name\"] = getOfficalCountryName(image, V_color)\n",
    "    res[\"country_title\"] = getOfficalTitle(image, V_color)\n",
    "    res['card_name'] = getCardName(image, V_color)\n",
    "    res['id_number'] = getIdNumber(image, V_color)\n",
    "    res['fullname'] = getFullname(image, V_color)\n",
    "    res['date_of_birth'] = getDateOfBirth(image, V_color)\n",
    "    res['place_of_birth'] = getPlaceOfBirth(image, V_color)\n",
    "    res['current_address'] = getCurrentAddress(image, V_color)\n",
    "    return res"
   ]
  },
  {
   "cell_type": "code",
   "execution_count": 50,
   "metadata": {},
   "outputs": [],
   "source": [
    "testImg =  resizeImageByWidth(cv2.imread('./data/temp4.jpg'))\n",
    "# testImg = histogramEqualize(testImg)"
   ]
  },
  {
   "cell_type": "code",
   "execution_count": 51,
   "metadata": {},
   "outputs": [],
   "source": [
    "def brute_force_official_country_name(image):\n",
    "     # country name\n",
    "    sName = 'cong hoa xa hoi chu nghia viet nam'\n",
    "    name = ''\n",
    "    min = count_different_characters(name, sName)\n",
    "    \n",
    "    for color in range(60, 120, 5):\n",
    "        s = getOfficalCountryName(image, color)\n",
    "        s = normalize_string(s)\n",
    "        count = count_different_characters(s, sName)\n",
    "        if count < min:\n",
    "            min = count\n",
    "            name = s\n",
    "        if count == 0:\n",
    "            break\n",
    "        \n",
    "    return name"
   ]
  },
  {
   "cell_type": "code",
   "execution_count": 52,
   "metadata": {},
   "outputs": [],
   "source": [
    "def brute_force_official_country_title(image):\n",
    "     # country name\n",
    "    sName = 'doc lap tu do hanh phuc'\n",
    "    name = ''\n",
    "    min = count_different_characters(name, sName)\n",
    "    \n",
    "    for color in range(60, 120, 5):\n",
    "        s = getOfficalTitle(image, color)\n",
    "        s = normalize_string(s)\n",
    "        count = count_different_characters(s, sName)\n",
    "        if count < min:\n",
    "            min = count\n",
    "            name = s\n",
    "        if count == 0:\n",
    "            break\n",
    "        \n",
    "    return name"
   ]
  },
  {
   "cell_type": "code",
   "execution_count": 53,
   "metadata": {},
   "outputs": [],
   "source": [
    "debug = False\n",
    "def brute_force_card_name(image):\n",
    "    # country name\n",
    "    sName = 'giay chung minh nhan dan'\n",
    "    name = ''\n",
    "    min = count_different_characters(name, sName)\n",
    "    \n",
    "    for color in range(60, 120, 5):\n",
    "        s = getCardName(image, color)\n",
    "        s = normalize_string(s)\n",
    "        count = count_different_characters(s, sName)\n",
    "        if count < min:\n",
    "            min = count\n",
    "            name = s\n",
    "        if count == 0:\n",
    "            break\n",
    "        \n",
    "    return name"
   ]
  },
  {
   "cell_type": "code",
   "execution_count": 54,
   "metadata": {},
   "outputs": [],
   "source": [
    "debug = False\n",
    "def brute_force_id_number(image):\n",
    "    # country name\n",
    "    image = cv2.GaussianBlur(image, (3 ,3), 0) \n",
    "    lists = []\n",
    "    for color in range(60, 120, 5):\n",
    "        s = getIdNumber(image, color)\n",
    "        s = re.sub('[\\\\D]', '', s)\n",
    "#         print(s)\n",
    "        if len(s) == 9 or len(s) == 12:\n",
    "            lists.append(s)\n",
    "                \n",
    "    return get_most_frequent(lists)"
   ]
  },
  {
   "cell_type": "code",
   "execution_count": 55,
   "metadata": {},
   "outputs": [],
   "source": [
    "debug = False\n",
    "def brute_force_name(image):\n",
    "    # country name\n",
    "    image = cv2.GaussianBlur(image, (3 ,3), 0) \n",
    "    lists = []\n",
    "    for color in range(60, 120, 5):\n",
    "        s = getFullname(image, color)\n",
    "        s = normalize_string(s)\n",
    "        lists.append(s)\n",
    "                \n",
    "    return get_most_frequent(lists)"
   ]
  },
  {
   "cell_type": "code",
   "execution_count": 56,
   "metadata": {},
   "outputs": [],
   "source": [
    "debug = False\n",
    "def brute_force_dob(image):\n",
    "    # country name\n",
    "    image = cv2.GaussianBlur(image, (3 ,3), 0) \n",
    "    lists = []\n",
    "    for color in range(60, 120, 5):\n",
    "        s = getDateOfBirth(image, color)\n",
    "        s = normalize_string(s)\n",
    "        if check_valid_birthday(s):\n",
    "            lists.append(s)\n",
    "                \n",
    "    return get_most_frequent(lists)"
   ]
  },
  {
   "cell_type": "code",
   "execution_count": 57,
   "metadata": {},
   "outputs": [],
   "source": [
    "debug = False\n",
    "def brute_force_hometown(image):\n",
    "    # country name\n",
    "    image = cv2.GaussianBlur(image, (3 ,3), 0)\n",
    "    lists = []\n",
    "    for color in range(60, 120, 5):\n",
    "        s = getPlaceOfBirth(image, color)\n",
    "        s = nor(s)\n",
    "        lists.append(s)\n",
    "                \n",
    "    return get_most_frequent(lists)"
   ]
  },
  {
   "cell_type": "code",
   "execution_count": null,
   "metadata": {},
   "outputs": [],
   "source": []
  },
  {
   "cell_type": "code",
   "execution_count": 59,
   "metadata": {},
   "outputs": [],
   "source": [
    "#get\n",
    "def extractInfo3(imagePath):\n",
    "    # preprocessing\n",
    "    image = resizeImageByWidth(cv2.imread(imagePath))\n",
    "#     image = cv2.GaussianBlur(image, (3 ,3), 0) -> not good for card name\n",
    "#     image = histogramEqualize(image)\n",
    "    res={}\n",
    "    res['img'] = imagePath\n",
    "    \n",
    "    \n",
    "    res[\"countryName\"] = brute_force_official_country_name(image)\n",
    "    res[\"countryTitle\"] = brute_force_official_country_title(image)\n",
    "    res['cardName'] = brute_force_card_name(image)\n",
    "    res['idNumber'] = brute_force_id_number(image)\n",
    "    res['name'] = brute_force_name(image)\n",
    "    res['dob'] = brute_force_dob(image)\n",
    "    res['hometown'] = brute_force_hometown(image)\n",
    "#     res['address'] = getCurrentAddress(image, V_color)\n",
    "    return res\n"
   ]
  },
  {
   "cell_type": "code",
   "execution_count": 60,
   "metadata": {},
   "outputs": [
    {
     "name": "stdout",
     "output_type": "stream",
     "text": [
      "\n",
      "\n",
      "CONG EHOA A H v mmm\n",
      "CNG HOA X I i ,1 NGHIIA VI NAN\n",
      "CNG HOA X rIi TLLJ NGHA VIT NAM\n",
      "CNG HOA X HI OH NGHIA VIT NAM\n",
      "CNG HA X HI CH NGHA VIT NAM\n",
      "CNG HA X HI CH NGHA VIT NAM\n",
      "CNG HA X HI CH NGHA VIT NAM\n",
      "CNG HA X HI CH NGHA VIT NAM\n",
      "CNG HA X HI CH NGHA VIT NAM\n",
      "CNG HA X HI CH NGHA VIT NAM\n",
      "\n",
      "l B ummm R\n",
      "l H G ii phuc\n",
      "Dc lap 1,do Hnh phc\n",
      "l TU N E, EE U U H\n",
      "c lp T do Hanh phc\n",
      "c lp F do Hnh phc\n",
      "c lp T do Hnh phc\n",
      "c lp T do Hnh phc\n",
      "c lp T do Hnh phc\n",
      "c lp T do Hnh phc\n",
      "2 L T L UL U N\n",
      "GIY CHNG MINH NHN DN\n",
      "GIY CHNG MINH NHN DN\n",
      "GIY CHNG MINH NHN DN\n",
      "GIY CHNG MINH NHN DN\n",
      "GIY CHNG MINH NHN DN\n",
      "GIY CHNG MINH NHN DN\n",
      "GIY CHNG MINH NHN DN\n",
      "GIY CHNG MINH NHN DN\n",
      "GIY CHNG MINH NHN DN\n",
      "GIY CHNG MINH NHN DN\n",
      "GIY CHNG MINH NHN DN\n",
      "GIY CHNG MINH NHN DN\n",
      "LRNN U NNGHU N\n",
      "uv m NI\n",
      "TRN QUANG HNG\n",
      "TRN OQLUANG TU NG\n",
      "TRN QUANG HNG\n",
      "TRN QUANG THNG\n",
      "TRN QUANG HNG\n",
      "TRN QUANG HNG\n",
      "TRN QUANG HNG\n",
      "TRN QUANG HNG\n",
      "TRN QUANG HNG\n",
      "TRN QUANG HNG\n",
      "120\n",
      "12031998\n",
      "12031998\n",
      "12031998\n",
      "\n",
      "\n",
      "12031998\n",
      "12031998\n",
      "1\n",
      "2883\n",
      "\n",
      "208\n"
     ]
    },
    {
     "ename": "NameError",
     "evalue": "name 'nor' is not defined",
     "output_type": "error",
     "traceback": [
      "\u001b[1;31m---------------------------------------------------------------------------\u001b[0m",
      "\u001b[1;31mNameError\u001b[0m                                 Traceback (most recent call last)",
      "\u001b[1;32m<ipython-input-60-902a2557504e>\u001b[0m in \u001b[0;36m<module>\u001b[1;34m\u001b[0m\n\u001b[1;32m----> 1\u001b[1;33m \u001b[0mextractInfo3\u001b[0m\u001b[1;33m(\u001b[0m\u001b[1;34m'./data/temp4.jpg'\u001b[0m\u001b[1;33m)\u001b[0m\u001b[1;33m\u001b[0m\u001b[1;33m\u001b[0m\u001b[0m\n\u001b[0m",
      "\u001b[1;32m<ipython-input-59-df0e717c07d1>\u001b[0m in \u001b[0;36mextractInfo3\u001b[1;34m(imagePath)\u001b[0m\n\u001b[0;32m     15\u001b[0m     \u001b[0mres\u001b[0m\u001b[1;33m[\u001b[0m\u001b[1;34m'name'\u001b[0m\u001b[1;33m]\u001b[0m \u001b[1;33m=\u001b[0m \u001b[0mbrute_force_name\u001b[0m\u001b[1;33m(\u001b[0m\u001b[0mimage\u001b[0m\u001b[1;33m)\u001b[0m\u001b[1;33m\u001b[0m\u001b[1;33m\u001b[0m\u001b[0m\n\u001b[0;32m     16\u001b[0m     \u001b[0mres\u001b[0m\u001b[1;33m[\u001b[0m\u001b[1;34m'dob'\u001b[0m\u001b[1;33m]\u001b[0m \u001b[1;33m=\u001b[0m \u001b[0mbrute_force_dob\u001b[0m\u001b[1;33m(\u001b[0m\u001b[0mimage\u001b[0m\u001b[1;33m)\u001b[0m\u001b[1;33m\u001b[0m\u001b[1;33m\u001b[0m\u001b[0m\n\u001b[1;32m---> 17\u001b[1;33m     \u001b[0mres\u001b[0m\u001b[1;33m[\u001b[0m\u001b[1;34m'hometown'\u001b[0m\u001b[1;33m]\u001b[0m \u001b[1;33m=\u001b[0m \u001b[0mbrute_force_hometown\u001b[0m\u001b[1;33m(\u001b[0m\u001b[0mimage\u001b[0m\u001b[1;33m)\u001b[0m\u001b[1;33m\u001b[0m\u001b[1;33m\u001b[0m\u001b[0m\n\u001b[0m\u001b[0;32m     18\u001b[0m \u001b[1;31m#     res['address'] = getCurrentAddress(image, V_color)\u001b[0m\u001b[1;33m\u001b[0m\u001b[1;33m\u001b[0m\u001b[1;33m\u001b[0m\u001b[0m\n\u001b[0;32m     19\u001b[0m     \u001b[1;32mreturn\u001b[0m \u001b[0mres\u001b[0m\u001b[1;33m\u001b[0m\u001b[1;33m\u001b[0m\u001b[0m\n",
      "\u001b[1;32m<ipython-input-57-5e46cd0f4e84>\u001b[0m in \u001b[0;36mbrute_force_hometown\u001b[1;34m(image)\u001b[0m\n\u001b[0;32m      6\u001b[0m     \u001b[1;32mfor\u001b[0m \u001b[0mcolor\u001b[0m \u001b[1;32min\u001b[0m \u001b[0mrange\u001b[0m\u001b[1;33m(\u001b[0m\u001b[1;36m60\u001b[0m\u001b[1;33m,\u001b[0m \u001b[1;36m120\u001b[0m\u001b[1;33m,\u001b[0m \u001b[1;36m5\u001b[0m\u001b[1;33m)\u001b[0m\u001b[1;33m:\u001b[0m\u001b[1;33m\u001b[0m\u001b[1;33m\u001b[0m\u001b[0m\n\u001b[0;32m      7\u001b[0m         \u001b[0ms\u001b[0m \u001b[1;33m=\u001b[0m \u001b[0mgetPlaceOfBirth\u001b[0m\u001b[1;33m(\u001b[0m\u001b[0mimage\u001b[0m\u001b[1;33m,\u001b[0m \u001b[0mcolor\u001b[0m\u001b[1;33m)\u001b[0m\u001b[1;33m\u001b[0m\u001b[1;33m\u001b[0m\u001b[0m\n\u001b[1;32m----> 8\u001b[1;33m         \u001b[0ms\u001b[0m \u001b[1;33m=\u001b[0m \u001b[0mnor\u001b[0m\u001b[1;33m(\u001b[0m\u001b[0ms\u001b[0m\u001b[1;33m)\u001b[0m\u001b[1;33m\u001b[0m\u001b[1;33m\u001b[0m\u001b[0m\n\u001b[0m\u001b[0;32m      9\u001b[0m         \u001b[0mlists\u001b[0m\u001b[1;33m.\u001b[0m\u001b[0mappend\u001b[0m\u001b[1;33m(\u001b[0m\u001b[0ms\u001b[0m\u001b[1;33m)\u001b[0m\u001b[1;33m\u001b[0m\u001b[1;33m\u001b[0m\u001b[0m\n\u001b[0;32m     10\u001b[0m \u001b[1;33m\u001b[0m\u001b[0m\n",
      "\u001b[1;31mNameError\u001b[0m: name 'nor' is not defined"
     ]
    }
   ],
   "source": [
    "extractInfo3('./data/temp4.jpg')"
   ]
  },
  {
   "cell_type": "code",
   "execution_count": 117,
   "metadata": {},
   "outputs": [
    {
     "name": "stdout",
     "output_type": "stream",
     "text": [
      "lhon ph thnh lhn khn bang, kon l1um\n",
      "iuu hh thn khon bng, kon lun\n",
      "ie e e i thn khn bang, kon tunm\n",
      "thon ph thnh thn khon bang, kon tum\n",
      "thon pht thnh thn khn bang, kon tum\n",
      "ie l t n e i thn khn bang, kon tum\n",
      "thn ph thnh thn khn bang, kon tum\n",
      "thn ph thnh thn khn bang, kon tum\n",
      "thn ph thnh thn khn bang, kon tum\n",
      "thn ph thnh .. thn khn bang, kon tum\n",
      "thn ph thnh thn khn bang. kon tum\n",
      ".. thn ph thnh thn khn bang, kon tum\n"
     ]
    },
    {
     "data": {
      "text/plain": [
       "{'img': './data/1_134.png', 'hometown': 'thn ph thnh thn khn bang, kon tum'}"
      ]
     },
     "execution_count": 117,
     "metadata": {},
     "output_type": "execute_result"
    }
   ],
   "source": [
    "extractInfo3('./data/1_134.png')"
   ]
  },
  {
   "cell_type": "code",
   "execution_count": 60,
   "metadata": {},
   "outputs": [
    {
     "name": "stdout",
     "output_type": "stream",
     "text": [
      "dict_values([2, 3])\n"
     ]
    }
   ],
   "source": [
    "res= dict()\n",
    "res['1'] = 2\n",
    "res['2'] = 3\n",
    "print(res.values())\n",
    "print(res.)"
   ]
  },
  {
   "cell_type": "code",
   "execution_count": 68,
   "metadata": {},
   "outputs": [],
   "source": [
    "def normalize_string(name):\n",
    "#     name = remove_accent(name)\n",
    "    name = re.sub('[^a-zA-Z0-9 -,ÀÁÂÃÈÉÊÌÍÒÓÔÕÙÚĂĐĨŨƠàáâãèéêìíòóôõùúăđĩũơƯĂẠẢẤẦẨẪẬẮẰẲẴẶẸẺẼỀỀỂưăạảấầẩẫậắằẳẵặẹẻẽềềểỄỆỈỊỌỎỐỒỔỖỘỚỜỞỠỢỤỦỨỪễệỉịọỏốồổỗộớờởỡợụủứừỬỮỰỲỴÝỶỸửữựỳỵỷỹ]/u','', name)\n",
    "    name = \" \".join(name.split())\n",
    "    print(name)\n",
    "    return name"
   ]
  },
  {
   "cell_type": "code",
   "execution_count": 39,
   "metadata": {},
   "outputs": [],
   "source": [
    "# def normalize_string_with_comma(name):\n",
    "#     name = remove_accent(name)\n",
    "#     name = re.sub('[^a-zA-Z0-9 ,.]','', name).lower()\n",
    "#     name = \" \".join(name.split())\n",
    "#     print(name)\n",
    "#     return name"
   ]
  },
  {
   "cell_type": "code",
   "execution_count": 40,
   "metadata": {},
   "outputs": [],
   "source": [
    "# normalize_string_with_comma('chiến ,fasf asd.fasfasdfj011231,%%32@')"
   ]
  },
  {
   "cell_type": "code",
   "execution_count": 41,
   "metadata": {},
   "outputs": [],
   "source": [
    "# def normalize_string_dob(s):\n",
    "#     s = remove_accent(s)\n",
    "#     s = re.sub('[^0-9-]','', s).lower()\n",
    "#     s = \" \".join(s.split())\n",
    "#     print(s)\n",
    "#     return s"
   ]
  },
  {
   "cell_type": "code",
   "execution_count": 42,
   "metadata": {},
   "outputs": [],
   "source": [
    "# normalize_string_dob('...asf.12-Aasf,,,,12-2913klajsf')"
   ]
  },
  {
   "cell_type": "code",
   "execution_count": null,
   "metadata": {},
   "outputs": [],
   "source": []
  },
  {
   "cell_type": "code",
   "execution_count": 43,
   "metadata": {},
   "outputs": [
    {
     "ename": "NameError",
     "evalue": "name 'extractInfo3' is not defined",
     "output_type": "error",
     "traceback": [
      "\u001b[1;31m---------------------------------------------------------------------------\u001b[0m",
      "\u001b[1;31mNameError\u001b[0m                                 Traceback (most recent call last)",
      "\u001b[1;32m<ipython-input-43-7238aeaae5d1>\u001b[0m in \u001b[0;36m<module>\u001b[1;34m\u001b[0m\n\u001b[1;32m----> 1\u001b[1;33m \u001b[0mextractInfo3\u001b[0m\u001b[1;33m(\u001b[0m\u001b[1;34m'./data/1_134.png'\u001b[0m\u001b[1;33m)\u001b[0m\u001b[1;33m\u001b[0m\u001b[1;33m\u001b[0m\u001b[0m\n\u001b[0m",
      "\u001b[1;31mNameError\u001b[0m: name 'extractInfo3' is not defined"
     ]
    }
   ],
   "source": [
    "extractInfo3('./data/1_134.png')"
   ]
  },
  {
   "cell_type": "code",
   "execution_count": null,
   "metadata": {},
   "outputs": [],
   "source": []
  },
  {
   "cell_type": "code",
   "execution_count": 62,
   "metadata": {},
   "outputs": [],
   "source": [
    "def remove_accent(s):\n",
    "    s = re.sub('[àáạảãâầấậẩẫăằắặẳẵ]', 'a', s)\n",
    "    s = re.sub('[ÀÁẠẢÃĂẰẮẶẲẴÂẦẤẬẨẪ]', 'A', s)\n",
    "    s = re.sub('[èéẹẻẽêềếệểễ]', 'e', s)\n",
    "    s = re.sub('[ÈÉẸẺẼÊỀẾỆỂỄ]', 'E', s)\n",
    "    s = re.sub('[òóọỏõôồốộổỗơờớợởỡ]', 'o', s)\n",
    "    s = re.sub('[ÒÓỌỎÕÔỒỐỘỔỖƠỜỚỢỞỠ]', 'O', s)\n",
    "    s = re.sub('[ìíịỉĩ]', 'i', s)\n",
    "    s = re.sub('[ÌÍỊỈĨ]', 'I', s)\n",
    "    s = re.sub('[ùúụủũưừứựửữ]', 'u', s)\n",
    "    s = re.sub('[ƯỪỨỰỬỮÙÚỤỦŨ]', 'U', s)\n",
    "    s = re.sub('[ỳýỷỹỵ]', 'y', s)\n",
    "    s = re.sub('[ỲÝỴỶỸ]', 'Y', s)\n",
    "    s = re.sub('Đ', 'D', s)\n",
    "    s = re.sub('đ', 'd', s)\n",
    "    return s"
   ]
  },
  {
   "cell_type": "code",
   "execution_count": 69,
   "metadata": {},
   "outputs": [
    {
     "name": "stdout",
     "output_type": "stream",
     "text": [
      "â f131....,Phạm Minh CHiến Ế Hoàng Xuân Trường, cộng hòa xã HỘI CHIẾN Ề\n"
     ]
    },
    {
     "data": {
      "text/plain": [
       "'â f131....,Phạm Minh CHiến Ế Hoàng Xuân Trường, cộng hòa xã HỘI CHIẾN Ề'"
      ]
     },
     "execution_count": 69,
     "metadata": {},
     "output_type": "execute_result"
    }
   ],
   "source": [
    "normalize_string('â f131....,Phạm Minh    CHiến Ế Hoàng Xuân Trường, cộng hòa xã HỘI CHIẾN Ề ')"
   ]
  },
  {
   "cell_type": "code",
   "execution_count": 46,
   "metadata": {},
   "outputs": [],
   "source": [
    "def count_different_characters(str1, str2):\n",
    "    count = abs(len(str1) - len(str2))\n",
    "    for i in range(0, min(len(str1), len(str2))):\n",
    "        if str1[i] != str2[i]:\n",
    "            count = count+1\n",
    "    return count"
   ]
  },
  {
   "cell_type": "code",
   "execution_count": 47,
   "metadata": {},
   "outputs": [],
   "source": [
    "def get_most_frequent(List): \n",
    "    dict = {} \n",
    "    count, itm = 0, '' \n",
    "    for item in reversed(List): \n",
    "        dict[item] = dict.get(item, 0) + 1\n",
    "        if dict[item] >= count : \n",
    "            count, itm = dict[item], item \n",
    "    return(itm) "
   ]
  },
  {
   "cell_type": "code",
   "execution_count": 48,
   "metadata": {},
   "outputs": [],
   "source": [
    "import re\n",
    "# Kiểm tra xem ngày sinh có hợp lệ\n",
    "# True: hợp lệ\n",
    "# False: không hợp lệ\n",
    "def check_valid_birthday(string):\n",
    "  if re.fullmatch('([0-9]{2}-){2}[0-9]{4}', string):\n",
    "    token = string.split('-')\n",
    "    day = int(token[0])\n",
    "    month = int(token[1])\n",
    "    year = int(token[2])\n",
    "    \n",
    "    if month in (1, 3, 5, 7, 8, 10, 12) and day in range(1, 32):\n",
    "      return True\n",
    "    elif month in (4, 6, 9, 11) and day in range(1, 31):\n",
    "      return True\n",
    "    elif month == 2 and ((year % 4 == 0 and year % 100 != 0) or year % 400 == 0) and day in range(1, 30):\n",
    "      return True\n",
    "    elif month == 2 and not ((year % 4 == 0 and year % 100 != 0) or year % 400 == 0) and day in range(1, 29):\n",
    "      return True\n",
    "    else:\n",
    "      return False\n",
    "  else:\n",
    "    return False"
   ]
  },
  {
   "cell_type": "code",
   "execution_count": null,
   "metadata": {},
   "outputs": [],
   "source": []
  }
 ],
 "metadata": {
  "kernelspec": {
   "display_name": "Python 3",
   "language": "python",
   "name": "python3"
  },
  "language_info": {
   "codemirror_mode": {
    "name": "ipython",
    "version": 3
   },
   "file_extension": ".py",
   "mimetype": "text/x-python",
   "name": "python",
   "nbconvert_exporter": "python",
   "pygments_lexer": "ipython3",
   "version": "3.7.3"
  },
  "toc": {
   "base_numbering": 1,
   "nav_menu": {},
   "number_sections": true,
   "sideBar": true,
   "skip_h1_title": false,
   "title_cell": "Table of Contents",
   "title_sidebar": "Contents",
   "toc_cell": false,
   "toc_position": {},
   "toc_section_display": true,
   "toc_window_display": false
  }
 },
 "nbformat": 4,
 "nbformat_minor": 4
}
