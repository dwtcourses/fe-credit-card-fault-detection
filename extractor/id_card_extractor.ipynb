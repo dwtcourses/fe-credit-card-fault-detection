{
 "cells": [
  {
   "cell_type": "code",
   "execution_count": 90,
   "metadata": {
    "ExecuteTime": {
     "end_time": "2019-09-14T18:02:53.977777Z",
     "start_time": "2019-09-14T18:02:53.883480Z"
    }
   },
   "outputs": [],
   "source": [
    "import cv2\n",
    "import numpy as np\n",
    "import random\n",
    "import sys \n",
    "import re\n",
    "# from matplotlib import pyplot as plt\n",
    "\n",
    "# !pip install pillow\n",
    "# !pip install pytesseract\n",
    "# !pip install opencv-python\n",
    "\n",
    "from PIL import Image\n",
    "import pytesseract\n",
    "import argparse\n",
    "# import cv2\n",
    "import os"
   ]
  },
  {
   "cell_type": "code",
   "execution_count": 2,
   "metadata": {
    "ExecuteTime": {
     "end_time": "2019-09-14T18:02:54.429232Z",
     "start_time": "2019-09-14T18:02:54.425312Z"
    }
   },
   "outputs": [],
   "source": [
    "def showImg(img, title = str(round(random.random()*1000,0))):\n",
    "    cv2.imshow(title, img)\n",
    "    cv2.waitKey(0)\n",
    "    cv2.destroyWindow(title)"
   ]
  },
  {
   "cell_type": "code",
   "execution_count": 3,
   "metadata": {},
   "outputs": [],
   "source": [
    "def cropImage(image, offsetX, offsetY, width, height):\n",
    "    cardNu_threshold = 10\n",
    "    minX = offsetX\n",
    "    minY = offsetY\n",
    "    cardNuWidth = width\n",
    "    cardNuHeight = height\n",
    "\n",
    "    return image[minY - cardNu_threshold:minY + cardNuHeight + cardNu_threshold, minX -\n",
    "                   cardNu_threshold:minX + cardNuWidth + cardNu_threshold]\n"
   ]
  },
  {
   "cell_type": "markdown",
   "metadata": {},
   "source": [
    "## Util functions for extract text"
   ]
  },
  {
   "cell_type": "code",
   "execution_count": 72,
   "metadata": {},
   "outputs": [],
   "source": [
    "# remove background, just keep text color from image\n",
    "# imput image instance\n",
    "def keepColor(image, lower, upper):\n",
    "    frame = image.copy()\n",
    "    # Convert BGR to HSV\n",
    "    hsv = cv2.cvtColor(frame, cv2.COLOR_BGR2HSV)\n",
    "    # cv.imshow(\"hsv\", hsv)\n",
    "    # define range of blue color in HSV\n",
    "\n",
    "    # Threshold the HSV image to get only blue colors\n",
    "    res = cv2.inRange(hsv, lower, upper)\n",
    "    # Bitwise-AND mask and original image\n",
    "#     res = cv2.bitwise_and(frame,frame, mask= mask)\n",
    "#     cv2.imshow('frame',frame)\n",
    "#     cv2.imshow('mask',mask)\n",
    "#     cv2.imshow('res',res)\n",
    "#     cv2.waitKey(0) \n",
    "#     cv2.destroyAllWindows()\n",
    "    \n",
    "    \n",
    "    return res\n",
    "    "
   ]
  },
  {
   "cell_type": "code",
   "execution_count": 73,
   "metadata": {},
   "outputs": [],
   "source": [
    "def extractText(image):\n",
    "    \n",
    "    pytesseract.pytesseract.tesseract_cmd = r'C:\\Program Files\\Tesseract-OCR\\tesseract.exe'\n",
    "\n",
    "    # Write down temporary file to extract\n",
    "    filename = \"{}.png\".format(os.getpid())\n",
    "    cv2.imwrite(filename, image)\n",
    "\n",
    "    # extract text from image using tesseract ocr\n",
    "    text = pytesseract.image_to_string(Image.open(filename))\n",
    "\n",
    "    # Remove temporary image\n",
    "    os.remove(filename)\n",
    "\n",
    "    return text"
   ]
  },
  {
   "cell_type": "markdown",
   "metadata": {},
   "source": [
    "## 1. Get Id number function"
   ]
  },
  {
   "cell_type": "code",
   "execution_count": 121,
   "metadata": {},
   "outputs": [],
   "source": [
    "# get Id number function\n",
    "# key color = in range [30 - 80]\n",
    "def getIdNumber(imagePath, V_upper_color=50):\n",
    "    #load image\n",
    "    originImg = cv2.imread(imagePath)\n",
    "#     showImg(originImg, \"Origin image\")\n",
    "    \n",
    "    #Crop id number area\n",
    "    cropped_img = cropImage(originImg, 400, 140, 350, 40)\n",
    "#     showImg(cropped_img, \"Cropped\")\n",
    "\n",
    "    #filter\n",
    "    \n",
    "    lower = np.array([0,0,0])\n",
    "    upper = np.array([180, 255, V_upper_color]) # V in range (50 - 80) is fine\n",
    "\n",
    "    filteredImg = keepColor(cropped_img, lower, upper)\n",
    "#     showImg(filteredImg)\n",
    "    \n",
    "    #extract text\n",
    "    res = extractText(filteredImg)\n",
    "    \n",
    "    #remove non digit characters\n",
    "    res = re.sub(\"\\\\D\", '', res)\n",
    "    return res\n"
   ]
  },
  {
   "cell_type": "code",
   "execution_count": 123,
   "metadata": {},
   "outputs": [
    {
     "name": "stdout",
     "output_type": "stream",
     "text": [
      "225682227\n"
     ]
    }
   ],
   "source": [
    "print(getIdNumber('./data/temp4.jpg', 70)) #key"
   ]
  },
  {
   "cell_type": "code",
   "execution_count": null,
   "metadata": {},
   "outputs": [],
   "source": []
  },
  {
   "cell_type": "code",
   "execution_count": null,
   "metadata": {},
   "outputs": [],
   "source": []
  },
  {
   "cell_type": "code",
   "execution_count": null,
   "metadata": {},
   "outputs": [],
   "source": []
  },
  {
   "cell_type": "code",
   "execution_count": null,
   "metadata": {},
   "outputs": [],
   "source": []
  },
  {
   "cell_type": "code",
   "execution_count": null,
   "metadata": {},
   "outputs": [],
   "source": []
  }
 ],
 "metadata": {
  "kernelspec": {
   "display_name": "Python 3",
   "language": "python",
   "name": "python3"
  },
  "language_info": {
   "codemirror_mode": {
    "name": "ipython",
    "version": 3
   },
   "file_extension": ".py",
   "mimetype": "text/x-python",
   "name": "python",
   "nbconvert_exporter": "python",
   "pygments_lexer": "ipython3",
   "version": "3.7.3"
  },
  "toc": {
   "base_numbering": 1,
   "nav_menu": {},
   "number_sections": true,
   "sideBar": true,
   "skip_h1_title": false,
   "title_cell": "Table of Contents",
   "title_sidebar": "Contents",
   "toc_cell": false,
   "toc_position": {},
   "toc_section_display": true,
   "toc_window_display": false
  }
 },
 "nbformat": 4,
 "nbformat_minor": 4
}
