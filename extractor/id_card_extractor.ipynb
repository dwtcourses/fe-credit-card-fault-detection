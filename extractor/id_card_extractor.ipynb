{
 "cells": [
  {
   "cell_type": "code",
   "execution_count": 52,
   "metadata": {
    "Collapsed": "false"
   },
   "outputs": [],
   "source": [
    "debug = True"
   ]
  },
  {
   "cell_type": "code",
   "execution_count": 2,
   "metadata": {
    "Collapsed": "false",
    "ExecuteTime": {
     "end_time": "2019-09-14T18:02:53.977777Z",
     "start_time": "2019-09-14T18:02:53.883480Z"
    }
   },
   "outputs": [],
   "source": [
    "import cv2\n",
    "import numpy as np\n",
    "import random\n",
    "import sys \n",
    "import re\n",
    "# from matplotlib import pyplot as plt\n",
    "\n",
    "# Linux commands:\n",
    "# sudo apt update\n",
    "# sudo apt install tesseract-ocr\n",
    "# sudo apt install libtesseract-dev\n",
    "\n",
    "# !pip install pillow\n",
    "# !pip install pytesseract\n",
    "# !pip install opencv-python\n",
    "\n",
    "try:\n",
    "    from PIL import Image\n",
    "except ImportError:\n",
    "    import Image\n",
    "import pytesseract\n",
    "import argparse\n",
    "# import cv2\n",
    "import os\n",
    "kernel = np.ones((2,2),np.uint8)\n",
    "# res2 = cv2.morphologyEx(res, cv2.MORPH_CLOSE, kernel)"
   ]
  },
  {
   "cell_type": "code",
   "execution_count": 51,
   "metadata": {
    "Collapsed": "false"
   },
   "outputs": [
    {
     "name": "stdout",
     "output_type": "stream",
     "text": [
      "“GONG HOA A Hi ca iNGHIA viet NAM\n",
      "do ~ Hanh\n",
      "\n",
      "GIAY CHUNG MINH NHAN DAN\n",
      "i $6:'978780754-\n",
      ": Sar 4\n"
     ]
    }
   ],
   "source": [
    "print(pytesseract.image_to_string(Image.open('./data/10_63.png')))"
   ]
  },
  {
   "cell_type": "code",
   "execution_count": 4,
   "metadata": {
    "Collapsed": "false"
   },
   "outputs": [],
   "source": [
    "def resizeImageByWidth(img, width=856, height=548):\n",
    "    currRatio = img.shape[0]/img.shape[1]\n",
    "#     print('Shape: ', img.shape\n",
    "#     height = int(width * currRatio)\n",
    "    dim = (width, height)\n",
    "#     print('Resized shape: ', dim)\n",
    "    # resize image\n",
    "    resized = cv2.resize(img, dim, interpolation = cv2.INTER_AREA)\n",
    "    showImg(resized, 'Resized')\n",
    "    return resized"
   ]
  },
  {
   "cell_type": "code",
   "execution_count": 5,
   "metadata": {
    "Collapsed": "false",
    "ExecuteTime": {
     "end_time": "2019-09-14T18:02:54.429232Z",
     "start_time": "2019-09-14T18:02:54.425312Z"
    }
   },
   "outputs": [],
   "source": [
    "def showImg(img, title = str(round(random.random()*1000,0))):\n",
    "    if debug:\n",
    "        cv2.imshow(title, img)\n",
    "        cv2.waitKey(0)\n",
    "        cv2.destroyWindow(title)"
   ]
  },
  {
   "cell_type": "code",
   "execution_count": 6,
   "metadata": {
    "Collapsed": "false"
   },
   "outputs": [],
   "source": [
    "def cropImage(image, offsetX, offsetY, width, height):\n",
    "    cardNu_threshold = 10\n",
    "    minX = offsetX\n",
    "    minY = offsetY\n",
    "    cardNuWidth = width\n",
    "    cardNuHeight = height\n",
    "\n",
    "    cropped = image[minY - cardNu_threshold:minY + cardNuHeight + cardNu_threshold, minX -\n",
    "                   cardNu_threshold:minX + cardNuWidth + cardNu_threshold]\n",
    "    \n",
    "    showImg(cropped, 'Cropped')\n",
    "    \n",
    "    return cropped\n"
   ]
  },
  {
   "cell_type": "code",
   "execution_count": 7,
   "metadata": {
    "Collapsed": "false"
   },
   "outputs": [],
   "source": [
    "def histogramEqualize(img):\n",
    "    #-----Converting image to LAB Color model-----------------------------------\n",
    "    lab = cv2.cvtColor(img, cv2.COLOR_BGR2LAB)\n",
    "    # cv2.imshow(\"lab\",lab)\n",
    "\n",
    "    #-----Splitting the LAB image to different channels-------------------------\n",
    "    l, a, b = cv2.split(lab)\n",
    "    # cv2.imshow('l_channel', l)\n",
    "    # cv2.imshow('a_channel', a)\n",
    "    # cv2.imshow('b_channel', b)\n",
    "\n",
    "    #-----Applying CLAHE to L-channel-------------------------------------------\n",
    "    clahe = cv2.createCLAHE(clipLimit=3.0, tileGridSize=(8, 8))\n",
    "    cl = clahe.apply(l)\n",
    "    #     cv2.imshow('CLAHE output', cl)\n",
    "\n",
    "    #-----Merge the CLAHE enhanced L-channel with the a and b channel-----------\n",
    "    limg = cv2.merge((cl, a, b))\n",
    "    #     cv2.imshow('limg', limg)\n",
    "\n",
    "    #-----Converting image from LAB Color model to RGB model--------------------\n",
    "    final = cv2.cvtColor(limg, cv2.COLOR_LAB2BGR)\n",
    "    #     cv2.imshow('final', final)\n",
    "\n",
    "    #     cv2.waitKey(0)\n",
    "    #     cv2.destroyAllWindows()\n",
    "    return final"
   ]
  },
  {
   "cell_type": "markdown",
   "metadata": {
    "Collapsed": "false"
   },
   "source": [
    "## String preprocessing"
   ]
  },
  {
   "cell_type": "code",
   "execution_count": 8,
   "metadata": {
    "Collapsed": "false"
   },
   "outputs": [],
   "source": [
    "def remove_accent(s):\n",
    "    s = re.sub('[àáạảãâầấậẩẫăằắặẳẵ]', 'a', s)\n",
    "    s = re.sub('[ÀÁẠẢÃĂẰẮẶẲẴÂẦẤẬẨẪ]', 'A', s)\n",
    "    s = re.sub('[èéẹẻẽêềếệểễ]', 'e', s)\n",
    "    s = re.sub('[ÈÉẸẺẼÊỀẾỆỂỄ]', 'E', s)\n",
    "    s = re.sub('[òóọỏõôồốộổỗơờớợởỡ]', 'o', s)\n",
    "    s = re.sub('[ÒÓỌỎÕÔỒỐỘỔỖƠỜỚỢỞỠ]', 'O', s)\n",
    "    s = re.sub('[ìíịỉĩ]', 'i', s)\n",
    "    s = re.sub('[ÌÍỊỈĨ]', 'I', s)\n",
    "    s = re.sub('[ùúụủũưừứựửữ]', 'u', s)\n",
    "    s = re.sub('[ƯỪỨỰỬỮÙÚỤỦŨ]', 'U', s)\n",
    "    s = re.sub('[ỳýỷỹỵ]', 'y', s)\n",
    "    s = re.sub('[ỲÝỴỶỸ]', 'Y', s)\n",
    "    s = re.sub('Đ', 'D', s)\n",
    "    s = re.sub('đ', 'd', s)\n",
    "    return s"
   ]
  },
  {
   "cell_type": "code",
   "execution_count": 47,
   "metadata": {
    "Collapsed": "false"
   },
   "outputs": [],
   "source": [
    "def normalize_string(name):\n",
    "    name = remove_accent(name)\n",
    "    name = re.sub('[^a-zA-Z0-9 -,ÀÁÂÃÈÉÊÌÍÒÓÔÕÙÚĂĐĨŨƠàáâãèéêìíòóôõùúăđĩũơƯĂẠẢẤẦẨẪẬẮẰẲẴẶẸẺẼỀỀỂưăạảấầẩẫậắằẳẵặẹẻẽềềểỄỆỈỊỌỎỐỒỔỖỘỚỜỞỠỢỤỦỨỪễệỉịọỏốồổỗộớờởỡợụủứừỬỮỰỲỴÝỶỸửữựỳỵỷỹ]/u','', name)\n",
    "    if(len(name) == 0):\n",
    "        return ''\n",
    "    \n",
    "    while len(name) > 0 and not str.isalnum(name[0]):# or not str.isalnum(name[-1]):\n",
    "        name = name[1:]\n",
    "        \n",
    "    while len(name) > 0 and not str.isalnum(name[-1]):\n",
    "        name = name[:-1]\n",
    "          \n",
    "#     name = name.strip('.')#'[.,\\\\W\\\\D]')\n",
    "    \n",
    "    name = \" \".join(name.split())\n",
    "    if debug:\n",
    "        print(name)\n",
    "    return name"
   ]
  },
  {
   "cell_type": "code",
   "execution_count": 10,
   "metadata": {
    "Collapsed": "false"
   },
   "outputs": [],
   "source": [
    "def count_different_characters(str1, str2):\n",
    "    count = abs(len(str1) - len(str2))\n",
    "    for i in range(0, min(len(str1), len(str2))):\n",
    "        if str1[i] != str2[i]:\n",
    "            count = count+1\n",
    "    return count"
   ]
  },
  {
   "cell_type": "code",
   "execution_count": 11,
   "metadata": {
    "Collapsed": "false"
   },
   "outputs": [],
   "source": [
    "def get_most_frequent(List): \n",
    "    dict = {} \n",
    "    count, itm = 0, '' \n",
    "    for item in reversed(List): \n",
    "        dict[item] = dict.get(item, 0) + 1\n",
    "        if dict[item] >= count : \n",
    "            count, itm = dict[item], item \n",
    "    return(itm) "
   ]
  },
  {
   "cell_type": "code",
   "execution_count": 12,
   "metadata": {
    "Collapsed": "false"
   },
   "outputs": [],
   "source": [
    "import re\n",
    "# Kiểm tra xem ngày sinh có hợp lệ\n",
    "# True: hợp lệ\n",
    "# False: không hợp lệ\n",
    "def check_valid_birthday(string):\n",
    "  if re.fullmatch('([0-9]{2}-){2}[0-9]{4}', string):\n",
    "    token = string.split('-')\n",
    "    day = int(token[0])\n",
    "    month = int(token[1])\n",
    "    year = int(token[2])\n",
    "    \n",
    "    if month in (1, 3, 5, 7, 8, 10, 12) and day in range(1, 32):\n",
    "      return True\n",
    "    elif month in (4, 6, 9, 11) and day in range(1, 31):\n",
    "      return True\n",
    "    elif month == 2 and ((year % 4 == 0 and year % 100 != 0) or year % 400 == 0) and day in range(1, 30):\n",
    "      return True\n",
    "    elif month == 2 and not ((year % 4 == 0 and year % 100 != 0) or year % 400 == 0) and day in range(1, 29):\n",
    "      return True\n",
    "    else:\n",
    "      return False\n",
    "  else:\n",
    "    return False"
   ]
  },
  {
   "cell_type": "code",
   "execution_count": null,
   "metadata": {
    "Collapsed": "false"
   },
   "outputs": [],
   "source": []
  },
  {
   "cell_type": "markdown",
   "metadata": {
    "Collapsed": "false"
   },
   "source": [
    "## Util functions for extract text"
   ]
  },
  {
   "cell_type": "code",
   "execution_count": 13,
   "metadata": {
    "Collapsed": "false"
   },
   "outputs": [],
   "source": [
    "# remove background, just keep text color from image\n",
    "# imput image instance\n",
    "def keepColor(image, lower, upper):\n",
    "    frame = image.copy()\n",
    "    # Convert BGR to HSV\n",
    "    hsv = cv2.cvtColor(frame, cv2.COLOR_BGR2HSV)\n",
    "    # cv.imshow(\"hsv\", hsv)\n",
    "    # define range of blue color in HSV\n",
    "\n",
    "    # Threshold the HSV image to get only blue colors\n",
    "    res = cv2.inRange(hsv, lower, upper)\n",
    "    # Bitwise-AND mask and original image\n",
    "#     res = cv2.bitwise_and(frame,frame, mask= mask)\n",
    "#     cv2.imshow('frame',frame)\n",
    "#     cv2.imshow('mask',mask)\n",
    "#     cv2.imshow('res',res)\n",
    "#     cv2.waitKey(0) \n",
    "#     cv2.destroyAllWindows()\n",
    "    \n",
    "    showImg(res, 'filtered')\n",
    "    \n",
    "#     showImg(res2, 'applied')\n",
    "    return res\n",
    "    "
   ]
  },
  {
   "cell_type": "code",
   "execution_count": null,
   "metadata": {
    "Collapsed": "false"
   },
   "outputs": [],
   "source": []
  },
  {
   "cell_type": "code",
   "execution_count": 14,
   "metadata": {
    "Collapsed": "false"
   },
   "outputs": [],
   "source": [
    "def extractText(image, lang=None):\n",
    "    \n",
    "    # Window: Point tesseract execute file path here\n",
    "#     pytesseract.pytesseract.tesseract_cmd = r'C:\\Program Files\\Tesseract-OCR\\tesseract.exe'\n",
    "\n",
    "    # Write down temporary file to extract\n",
    "    filename = \"{}.png\".format(os.getpid())\n",
    "    cv2.imwrite(filename, image)\n",
    "\n",
    "    # extract text from image using tesseract ocr\n",
    "    text = pytesseract.image_to_string(Image.open(filename), lang='vie')\n",
    "\n",
    "    # Remove temporary image\n",
    "    os.remove(filename)\n",
    "\n",
    "    return text"
   ]
  },
  {
   "cell_type": "code",
   "execution_count": 15,
   "metadata": {
    "Collapsed": "false"
   },
   "outputs": [],
   "source": [
    "def extractDigits(image):\n",
    "    \n",
    "    # Window: Point tesseract execute file path here\n",
    "#     pytesseract.pytesseract.tesseract_cmd = r'C:\\Program Files\\Tesseract-OCR\\tesseract.exe'\n",
    "\n",
    "    # Write down temporary file to extract\n",
    "    filename = \"{}.png\".format(os.getpid())\n",
    "    cv2.imwrite(filename, image)\n",
    "\n",
    "    # extract text from image using tesseract ocr\n",
    "    text = pytesseract.image_to_string(Image.open(filename), config='digits')\n",
    "\n",
    "    # Remove temporary image\n",
    "    os.remove(filename)\n",
    "\n",
    "    return text"
   ]
  },
  {
   "cell_type": "markdown",
   "metadata": {
    "Collapsed": "false"
   },
   "source": [
    "## 1. Get Id number function"
   ]
  },
  {
   "cell_type": "code",
   "execution_count": 16,
   "metadata": {
    "Collapsed": "false"
   },
   "outputs": [],
   "source": [
    "# get Id number function\n",
    "# key color = in range [50 - 80]\n",
    "def getIdNumber(image, V_upper_color=70):\n",
    "    #load image\n",
    "    originImg = image.copy()\n",
    "#     showImg(originImg, \"Origin image\")\n",
    "    \n",
    "    #Crop id number area\n",
    "    cropped_img = cropImage(originImg, 400, 140, 350, 40)\n",
    "#     showImg(cropped_img, \"Cropped\")\n",
    "\n",
    "    #filter\n",
    "    \n",
    "    lower = np.array([0,0,0])\n",
    "    upper = np.array([180, 255, V_upper_color]) # V in range (50 - 80) is fine\n",
    "\n",
    "    filteredImg = keepColor(cropped_img, lower, upper)\n",
    "#     showImg(filteredImg)\n",
    "    \n",
    "    #extract text\n",
    "    res = extractText(filteredImg)\n",
    "    \n",
    "    #remove non digit characters\n",
    "#     res = re.sub(\"\\\\D\", '', res)\n",
    "    \n",
    "    return res\n"
   ]
  },
  {
   "cell_type": "markdown",
   "metadata": {
    "Collapsed": "false"
   },
   "source": [
    "## 2. Get fullnameresizeImageByWidth"
   ]
  },
  {
   "cell_type": "code",
   "execution_count": 17,
   "metadata": {
    "Collapsed": "false"
   },
   "outputs": [],
   "source": [
    "# get Id number function\n",
    "# key color = in range [50 - 80]\n",
    "def getFullname(image, V_upper_color=70):\n",
    "    #load image\n",
    "    originImg = image.copy()\n",
    "#     showImg(originImg, \"Origin image\")\n",
    "    \n",
    "    #Crop id number area\n",
    "    cropped_line1 = cropImage(originImg, 360, 195, 500, 40)\n",
    "    cropped_line2 = cropImage(originImg, 275, 245, 500, 40)\n",
    "    \n",
    "#     showImg(cropped_line1, \"Cropped 1\")\n",
    "#     showImg(cropped_line2, \"Cropped 2\")\n",
    "\n",
    "    #filter\n",
    "    \n",
    "    lower = np.array([0,0,0])\n",
    "    upper = np.array([180, 255, V_upper_color]) # V in range (50 - 80) is fine\n",
    "\n",
    "    filtered_1 = keepColor(cropped_line1, lower, upper)\n",
    "    filtered_2 = keepColor(cropped_line2, lower, upper)\n",
    "    \n",
    "#     showImg(filtered_1, \"filter 1\")\n",
    "#     showImg(filtered_2, \"filter 2\")\n",
    "    \n",
    "    #extract text\n",
    "    line1 = extractText(filtered_1).strip()\n",
    "#     line1 = re.sub(\"!(a-zA-Z)\", '', line1)\n",
    "    \n",
    "    line2 = extractText(filtered_2).strip()\n",
    "#     line2 = re.sub(\"!(a-zA-Z)\", '', line2)\n",
    " \n",
    "    res = ''\n",
    "    if len(line1) > 0:\n",
    "        res = line1 + ' '\n",
    "    res += line2\n",
    "    \n",
    "    \n",
    "    return res.strip()\n"
   ]
  },
  {
   "cell_type": "markdown",
   "metadata": {
    "Collapsed": "false"
   },
   "source": [
    "## 2. Get DOB"
   ]
  },
  {
   "cell_type": "code",
   "execution_count": 18,
   "metadata": {
    "Collapsed": "false"
   },
   "outputs": [],
   "source": [
    "# get Id number function\n",
    "# key color = in range [30 - 80]\n",
    "def getDateOfBirth(image, V_upper_color=50):\n",
    "    originImg = image.copy()\n",
    "#     showImg(originImg, \"Origin image\")\n",
    "    \n",
    "    #Crop id number area\n",
    "    cropped_img = cropImage(originImg, 400, 300, 360, 40)\n",
    "#     showImg(cropped_img, \"Cropped\")\n",
    "\n",
    "    #filter\n",
    "    \n",
    "    lower = np.array([0,0,0])\n",
    "    upper = np.array([180, 255, V_upper_color]) # V in range (50 - 80) is fine\n",
    "\n",
    "    filteredImg = keepColor(cropped_img, lower, upper)\n",
    "#     showImg(filteredImg, 'filtered')\n",
    "    \n",
    "    #extract text\n",
    "    res = extractDigits(filteredImg)\n",
    "    \n",
    "    #remove non digit characters or '-' character\n",
    "#     res = re.sub(\"!(\\\\d|-)\", '', res)\n",
    "    return res.strip()\n"
   ]
  },
  {
   "cell_type": "code",
   "execution_count": 19,
   "metadata": {
    "Collapsed": "false"
   },
   "outputs": [],
   "source": [
    "# print(getDateOfBirth(cv2.imread('./data/temp4.jpg'), 70)) #key"
   ]
  },
  {
   "cell_type": "code",
   "execution_count": null,
   "metadata": {
    "Collapsed": "false"
   },
   "outputs": [],
   "source": []
  },
  {
   "cell_type": "code",
   "execution_count": null,
   "metadata": {
    "Collapsed": "false"
   },
   "outputs": [],
   "source": []
  },
  {
   "cell_type": "markdown",
   "metadata": {
    "Collapsed": "false"
   },
   "source": [
    "## 3. Get POB"
   ]
  },
  {
   "cell_type": "code",
   "execution_count": 20,
   "metadata": {
    "Collapsed": "false"
   },
   "outputs": [],
   "source": [
    "# get Id number function\n",
    "# key color = in range [30 - 80]\n",
    "def getPlaceOfBirth(image, V_upper_color=60):\n",
    "\n",
    "    originImg = image.copy()\n",
    "    #     showImg(originImg, \"Origin image\")\n",
    "    \n",
    "    #Crop id number area\n",
    "    cropped_img_line1 = cropImage(originImg, 450, 340, 400, 40)\n",
    "    cropped_img_line2 = cropImage(originImg, 280, 390, 600, 40)\n",
    "#     showImg(cropped_img_line1, \"Cropped line1\")\n",
    "\n",
    "    #filter\n",
    "    \n",
    "    lower = np.array([0,0,0])\n",
    "    upper = np.array([180, 255, V_upper_color]) # V in range (50 - 80) is fine\n",
    "\n",
    "    filtered_line1 = keepColor(cropped_img_line1, lower, upper)\n",
    "    filtered_line2 = keepColor(cropped_img_line2, lower, upper)\n",
    "    \n",
    "#     showImg(filteredImg, 'filtered')\n",
    "    \n",
    "    #extract text\n",
    "    line1 = extractText(filtered_line1)\n",
    "#     line1 = re.sub(\"!(a-zA-Z0-9|,)\", '', line1)\n",
    "    \n",
    "    line2 = extractText(filtered_line2)    \n",
    "#     line2 = re.sub(\"!(a-zA-Z0-9|,)\", '', line2)\n",
    "    \n",
    "    res = ''\n",
    "    if len(line1) > 0:\n",
    "        res = line1 + ' '\n",
    "    res += line2\n",
    "    \n",
    "    #line 2\n",
    "    return res.strip()\n"
   ]
  },
  {
   "cell_type": "code",
   "execution_count": 21,
   "metadata": {
    "Collapsed": "false"
   },
   "outputs": [],
   "source": [
    "# print(getPlaceOfBirth(imread'./data/temp4.jpg'))"
   ]
  },
  {
   "cell_type": "code",
   "execution_count": null,
   "metadata": {
    "Collapsed": "false"
   },
   "outputs": [],
   "source": []
  },
  {
   "cell_type": "markdown",
   "metadata": {
    "Collapsed": "false"
   },
   "source": [
    "## 4. Get Current address"
   ]
  },
  {
   "cell_type": "code",
   "execution_count": 22,
   "metadata": {
    "Collapsed": "false"
   },
   "outputs": [],
   "source": [
    "# get Id number function\n",
    "# key color = in range [30 - 80]\n",
    "def getCurrentAddress(image, V_upper_color=50):\n",
    "    originImg = image.copy()\n",
    "#     showImg(originImg, \"Origin image\")\n",
    "    \n",
    "    #Crop id number area\n",
    "    cropped_img_line1 = cropImage(originImg, 540, 435, 300, 40)\n",
    "    cropped_img_line2 = cropImage(originImg, 240, 480, 600, 40)\n",
    "#     showImg(cropped_img_line1, \"Cropped line1\")\n",
    "#     showImg(cropped_img_line2, \"Cropped line2\")\n",
    "\n",
    "    #filter\n",
    "    \n",
    "    lower = np.array([0,0,0])\n",
    "    upper = np.array([180, 255, V_upper_color]) # V in range (50 - 80) is fine\n",
    "\n",
    "    filtered_line1 = keepColor(cropped_img_line1, lower, upper)\n",
    "    filtered_line2 = keepColor(cropped_img_line2, lower, upper)\n",
    "    \n",
    "#     showImg(filtered_line1, \"filtered line1\")\n",
    "#     showImg(filtered_line2, \"filtered line2\")\n",
    "    \n",
    "    #extract text\n",
    "    line1 = extractText(filtered_line1)\n",
    "#     line1 = re.sub(\"!(a-zA-Z0-9|,)\", '', line1)\n",
    "    \n",
    "    line2 = extractText(filtered_line2)    \n",
    "#     line2 = re.sub(\"!(a-zA-Z0-9|,)\", '', line2)\n",
    "    \n",
    "    res = ''\n",
    "    if len(line1) > 0:\n",
    "        res = line1 + ' '\n",
    "    res += line2\n",
    "    \n",
    "    #line 2\n",
    "    return res\n"
   ]
  },
  {
   "cell_type": "code",
   "execution_count": 23,
   "metadata": {
    "Collapsed": "false"
   },
   "outputs": [],
   "source": [
    "# print(getCurrentAddress('./data/temp4.jpg', 50))"
   ]
  },
  {
   "cell_type": "code",
   "execution_count": null,
   "metadata": {
    "Collapsed": "false"
   },
   "outputs": [],
   "source": []
  },
  {
   "cell_type": "markdown",
   "metadata": {
    "Collapsed": "false"
   },
   "source": [
    "## 5. Get offical country name"
   ]
  },
  {
   "cell_type": "code",
   "execution_count": 24,
   "metadata": {
    "Collapsed": "false"
   },
   "outputs": [],
   "source": [
    "# get Id number function\n",
    "# key color = in range [30 - 80]\n",
    "def getOfficalCountryName(image, V_upper_color=85):\n",
    "    originImg = image.copy()\n",
    "#     showImg(originImg, \"Origin image\")\n",
    "    \n",
    "    #Crop id number area\n",
    "    cropped_line1 = cropImage(originImg, 275, 20, 560, 32)\n",
    "#     showImg(cropped_line1, \"Cropped line 1\")\n",
    "\n",
    "    #filter\n",
    "    \n",
    "    lower = np.array([0,0,0])\n",
    "    upper = np.array([180, 255, V_upper_color]) # V in range (50 - 80) is fine\n",
    "\n",
    "    filtered_line1 = keepColor(cropped_line1, lower, upper)\n",
    "    \n",
    "#     showImg(filtered_line1, 'filtered line 1')\n",
    "    \n",
    "    #extract text\n",
    "    line1 = extractText(filtered_line1)\n",
    "#     line1 = re.sub(\"!(a-zA-Z0-9)\", '', line1)\n",
    "    return line1\n"
   ]
  },
  {
   "cell_type": "code",
   "execution_count": 25,
   "metadata": {
    "Collapsed": "false"
   },
   "outputs": [],
   "source": [
    "# print(getOfficalCountryName('./data/temp4.jpg'))"
   ]
  },
  {
   "cell_type": "code",
   "execution_count": null,
   "metadata": {
    "Collapsed": "false"
   },
   "outputs": [],
   "source": []
  },
  {
   "cell_type": "code",
   "execution_count": 26,
   "metadata": {
    "Collapsed": "false"
   },
   "outputs": [],
   "source": [
    "# get Offical title function\n",
    "# key color = in range [30 - 80]\n",
    "def getOfficalTitle(image, V_upper_color=100):\n",
    "    originImg = image.copy()\n",
    "#     showImg(originImg, \"Origin image\")\n",
    "    \n",
    "    #Crop id number area\n",
    "    cropped_line2 = cropImage(originImg, 385, 65, 420, 12)\n",
    "#     showImg(cropped_line2, \"Cropped line 2\")\n",
    "\n",
    "    #filter\n",
    "    \n",
    "    lower = np.array([0,0,0])\n",
    "    upper = np.array([180, 255, V_upper_color]) # V in range (50 - 80) is fine\n",
    "\n",
    "    filtered_line2 = keepColor(cropped_line2, lower, upper)\n",
    "#     showImg(filtered_line2, 'filtered line 2')\n",
    "    \n",
    "    #extract text\n",
    "    line2 = extractText(filtered_line2)\n",
    "#     line2 = re.sub(\"!(a-zA-Z0-9)\", '', line2)\n",
    "    return line2\n"
   ]
  },
  {
   "cell_type": "code",
   "execution_count": 27,
   "metadata": {
    "Collapsed": "false"
   },
   "outputs": [],
   "source": [
    "# print(getOfficalTitle('./data/temp4.jpg'))"
   ]
  },
  {
   "cell_type": "code",
   "execution_count": null,
   "metadata": {
    "Collapsed": "false"
   },
   "outputs": [],
   "source": []
  },
  {
   "cell_type": "markdown",
   "metadata": {
    "Collapsed": "false"
   },
   "source": [
    "## 6. Get card name"
   ]
  },
  {
   "cell_type": "code",
   "execution_count": 28,
   "metadata": {
    "Collapsed": "false"
   },
   "outputs": [],
   "source": [
    "# get Offical title function\n",
    "# key color = in range [30 - 80]\n",
    "def getCardName(image, V_upper_color=100):\n",
    "    originImg = image.copy()\n",
    "#     showImg(originImg, \"Origin image\")\n",
    "    \n",
    "    #Crop id number area\n",
    "    cropped_line2 = cropImage(originImg, 300, 99, 500, 38)\n",
    "    showImg(cropped_line2, \"Cropped line 2\")\n",
    "\n",
    "    hsv = cv2.cvtColor(cropped_line2, cv2.COLOR_BGR2HSV)\n",
    "\n",
    "    #get RED range colors\n",
    "    mask1 = cv2.inRange(hsv, (0, 70, 50), (10,255,255))\n",
    "    mask2 = cv2.inRange(hsv, (170,70,50), (180,255,255))\n",
    "    \n",
    "#     showImg(mask1, 'mask1')\n",
    "#     showImg(mask2, 'mask2')\n",
    "    \n",
    "    \n",
    "    ## Merge the mask and crop the red regionszzzzz\n",
    "    mask = cv2.bitwise_or(mask1, mask2 )\n",
    "    showImg(mask, 'mask')\n",
    "    \n",
    "#     res = cv2.bitwise_and(cropped_line2 , cropped_line2, mask= mask)\n",
    "#     res = cv2.cvtColor(res, cv2.COLOR_HSV2BGR)\n",
    "#     showImg(res, 'filtered line 2')\n",
    "    \n",
    "    #extract text\n",
    "    line2 = extractText(mask)\n",
    "    \n",
    "    return line2\n"
   ]
  },
  {
   "cell_type": "code",
   "execution_count": 29,
   "metadata": {
    "Collapsed": "false"
   },
   "outputs": [],
   "source": [
    "# print(getCardName('./data/temp4.jpg'))"
   ]
  },
  {
   "cell_type": "markdown",
   "metadata": {
    "Collapsed": "false"
   },
   "source": [
    "# Brute force funcs"
   ]
  },
  {
   "cell_type": "code",
   "execution_count": 30,
   "metadata": {
    "Collapsed": "false"
   },
   "outputs": [],
   "source": [
    "def brute_force_official_country_name(image):\n",
    "    \n",
    "     # country name\n",
    "    sName = 'CỘNG HÒA XÃ HỘI CHỦ NGHĨA VIỆT NAM'\n",
    "    name = ''\n",
    "    min = count_different_characters(name, sName)\n",
    "    \n",
    "    for color in range(60, 120, 5):\n",
    "        s = getOfficalCountryName(image, color)\n",
    "        s = normalize_string(s)\n",
    "        count = count_different_characters(s, sName)\n",
    "        if count < min:\n",
    "            min = count\n",
    "            name = s\n",
    "        if count == 0:\n",
    "            break\n",
    "        \n",
    "    return name"
   ]
  },
  {
   "cell_type": "code",
   "execution_count": 31,
   "metadata": {
    "Collapsed": "false"
   },
   "outputs": [],
   "source": [
    "def brute_force_official_country_title(image):\n",
    "     # country name\n",
    "    sName = 'Độc lập - Tự do - Hạnh phúc'\n",
    "    name = ''\n",
    "    min = count_different_characters(name, sName)\n",
    "    \n",
    "    for color in range(60, 120, 5):\n",
    "        s = getOfficalTitle(image, color)\n",
    "        s = normalize_string(s)\n",
    "        count = count_different_characters(s, sName)\n",
    "        if count < min:\n",
    "            min = count\n",
    "            name = s\n",
    "        if count == 0:\n",
    "            break\n",
    "        \n",
    "    return name"
   ]
  },
  {
   "cell_type": "code",
   "execution_count": 32,
   "metadata": {
    "Collapsed": "false"
   },
   "outputs": [],
   "source": [
    "debug = False\n",
    "def brute_force_card_name(image):\n",
    "    # country name\n",
    "    sName = 'GIẤY CHỨNG MINH NHÂN DÂN'\n",
    "    name = ''\n",
    "    min = count_different_characters(name, sName)\n",
    "    \n",
    "    for color in range(60, 120, 5):\n",
    "        s = getCardName(image, color)\n",
    "        s = normalize_string(s)\n",
    "        if len(s) > 15:\n",
    "            count = count_different_characters(s, sName)\n",
    "            if count < min:\n",
    "                min = count\n",
    "                name = s\n",
    "            if count == 0:\n",
    "                break\n",
    "\n",
    "    return name"
   ]
  },
  {
   "cell_type": "code",
   "execution_count": 33,
   "metadata": {
    "Collapsed": "false"
   },
   "outputs": [],
   "source": [
    "debug = False\n",
    "def brute_force_id_number(image):\n",
    "    # country name\n",
    "    image = cv2.GaussianBlur(image, (3 ,3), 0) \n",
    "    lists = []\n",
    "    for color in range(60, 120, 5):\n",
    "        s = getIdNumber(image, color)\n",
    "        s = re.sub('[\\\\D]', '', s)\n",
    "#         print(s)\n",
    "        if len(s) == 9 or len(s) == 12:\n",
    "            lists.append(s)\n",
    "                \n",
    "    return get_most_frequent(lists)"
   ]
  },
  {
   "cell_type": "code",
   "execution_count": 34,
   "metadata": {
    "Collapsed": "false"
   },
   "outputs": [],
   "source": [
    "debug = False\n",
    "def brute_force_name(image):\n",
    "    # country name\n",
    "    image = cv2.GaussianBlur(image, (3 ,3), 0) \n",
    "    lists = []\n",
    "    for color in range(60, 120, 5):\n",
    "        s = getFullname(image, color)\n",
    "        s = normalize_string(s)\n",
    "        if len(s) > 5:\n",
    "            lists.append(s)\n",
    "                \n",
    "    return get_most_frequent(lists)"
   ]
  },
  {
   "cell_type": "code",
   "execution_count": 35,
   "metadata": {
    "Collapsed": "false"
   },
   "outputs": [],
   "source": [
    "debug = False\n",
    "def brute_force_dob(image):\n",
    "    # country name\n",
    "    image = cv2.GaussianBlur(image, (3 ,3), 0) \n",
    "    lists = []\n",
    "    for color in range(60, 120, 5):\n",
    "        s = getDateOfBirth(image, color)\n",
    "        s = normalize_string(s)\n",
    "        if check_valid_birthday(s):\n",
    "            lists.append(s)\n",
    "                \n",
    "    return get_most_frequent(lists)"
   ]
  },
  {
   "cell_type": "code",
   "execution_count": 36,
   "metadata": {
    "Collapsed": "false"
   },
   "outputs": [],
   "source": [
    "debug = False\n",
    "def brute_force_hometown(image):\n",
    "    # country name\n",
    "    image = cv2.GaussianBlur(image, (3 ,3), 0)\n",
    "    lists = []\n",
    "    for color in range(60, 120, 5):\n",
    "        s = getPlaceOfBirth(image, color)\n",
    "        s = normalize_string(s)\n",
    "        if len(s) > 20:\n",
    "            lists.append(s)\n",
    "                \n",
    "    return get_most_frequent(lists)"
   ]
  },
  {
   "cell_type": "code",
   "execution_count": 37,
   "metadata": {
    "Collapsed": "false"
   },
   "outputs": [],
   "source": [
    "debug = False\n",
    "def brute_force_address(image):\n",
    "    # country name\n",
    "    image = cv2.GaussianBlur(image, (3 ,3), 0)\n",
    "    lists = []\n",
    "    for color in range(60, 120, 5):\n",
    "        s = getCurrentAddress(image, color)\n",
    "        s = normalize_string(s)\n",
    "        if len(s) > 20:\n",
    "            lists.append(s)\n",
    "                \n",
    "    return get_most_frequent(lists)"
   ]
  },
  {
   "cell_type": "markdown",
   "metadata": {
    "Collapsed": "false"
   },
   "source": [
    "# Extract Id card Information"
   ]
  },
  {
   "cell_type": "code",
   "execution_count": 49,
   "metadata": {
    "Collapsed": "false"
   },
   "outputs": [],
   "source": [
    "#get\n",
    "def extractInfo(imagePath):\n",
    "    # preprocessing\n",
    "    image = resizeImageByWidth(cv2.imread(imagePath))\n",
    "    \n",
    "    res={}\n",
    "    res['img'] = imagePath\n",
    "    \n",
    "    res[\"countryName\"] = brute_force_official_country_name(image)\n",
    "    res[\"countryTitle\"] = brute_force_official_country_title(image)\n",
    "    res['cardName'] = brute_force_card_name(image)\n",
    "    res['idNumber'] = brute_force_id_number(image)\n",
    "    res['name'] = brute_force_name(image)\n",
    "    res['dob'] = brute_force_dob(image)\n",
    "    res['hometown'] = brute_force_hometown(image)\n",
    "    res['address'] = brute_force_address(image)\n",
    "    return res\n"
   ]
  },
  {
   "cell_type": "code",
   "execution_count": 50,
   "metadata": {
    "Collapsed": "false"
   },
   "outputs": [
    {
     "data": {
      "text/plain": [
       "{'img': './data/temp4.jpg',\n",
       " 'countryName': 'CONG HOA XA HOI CHU NGHIA VIET NAM',\n",
       " 'countryTitle': 'Doc lap - Tu do - Hanh phuc',\n",
       " 'cardName': 'GIAY CHUNG MINH NHAN DAN',\n",
       " 'idNumber': '225682227',\n",
       " 'name': 'TRAN QUANG HUNG',\n",
       " 'dob': '12-03-1998',\n",
       " 'hometown': 'TX.Ninh Hoa, Khanh Hoa',\n",
       " 'address': 'To Dan Pho 15, P.Ninh Hiep, TX.Ninh Hoa, Khanh Hoa'}"
      ]
     },
     "execution_count": 50,
     "metadata": {},
     "output_type": "execute_result"
    }
   ],
   "source": [
    "extractInfo('./data/temp4.jpg')"
   ]
  },
  {
   "cell_type": "code",
   "execution_count": 46,
   "metadata": {
    "Collapsed": "false"
   },
   "outputs": [
    {
     "data": {
      "text/plain": [
       "{'img': './data/1_134.png',\n",
       " 'countryName': 'CỘNG HÒA XÃ HỘI CHỦ NGHĨA VIỆT NAM',\n",
       " 'countryTitle': 'Độc lập - Tự do - Hạnh phúc',\n",
       " 'cardName': 'GIÀY CMUNWG BÌNH kM¿A An',\n",
       " 'idNumber': '729250703',\n",
       " 'name': 'ĐỒNG UY VĂN',\n",
       " 'dob': '15-09-2013',\n",
       " 'hometown': 'Thôn Phú Thành Thôn Khôn Bang, Kon Tum',\n",
       " 'address': '1883 Thôn Kỳ Hát Bản Nong La, Tây Ninh'}"
      ]
     },
     "execution_count": 46,
     "metadata": {},
     "output_type": "execute_result"
    }
   ],
   "source": [
    "extractInfo('./data/1_134.png')"
   ]
  },
  {
   "cell_type": "code",
   "execution_count": 41,
   "metadata": {
    "Collapsed": "false"
   },
   "outputs": [
    {
     "data": {
      "text/plain": [
       "{'img': './data/10_63.png',\n",
       " 'countryName': 'CÔNG HÒA Vu HỘI CHỦ NGHỊA VIỆT bu',\n",
       " 'countryTitle': 'Độc lập - Tự do - Hạnh phục',\n",
       " 'cardName': '',\n",
       " 'idNumber': '978780754',\n",
       " 'name': 'TÒNG LINH ANH',\n",
       " 'dob': '30-10-1940',\n",
       " 'hometown': 'Thôn Phúng Bản Mé, Long An',\n",
       " 'address': 'ID (NHÀ YN UY (O6 0 00'}"
      ]
     },
     "execution_count": 41,
     "metadata": {},
     "output_type": "execute_result"
    }
   ],
   "source": [
    "extractInfo('./data/10_63.png')"
   ]
  },
  {
   "cell_type": "code",
   "execution_count": 42,
   "metadata": {
    "Collapsed": "false"
   },
   "outputs": [
    {
     "data": {
      "text/plain": [
       "{'img': './data/9_103.png',\n",
       " 'countryName': 'CỘNG HÒA XÃ HỘI CHỦ NGHĨA VIỆT NAM',\n",
       " 'countryTitle': 'Độc lập - Tự do - Hạnh phúc',\n",
       " 'cardName': 'TTỊ\\\\ 4 ,Q I5 R |. N',\n",
       " 'idNumber': '696560101',\n",
       " 'name': 'DƯ THỊ MỘC PHƯỚC',\n",
       " 'dob': '',\n",
       " 'hometown': 'Bản Phai Yên _ Núi Bò, Long An',\n",
       " 'address': 'KG nh 0. he Lùn, Binh Phuốc'}"
      ]
     },
     "execution_count": 42,
     "metadata": {},
     "output_type": "execute_result"
    }
   ],
   "source": [
    "extractInfo('./data/9_103.png')"
   ]
  },
  {
   "cell_type": "code",
   "execution_count": null,
   "metadata": {
    "Collapsed": "false"
   },
   "outputs": [],
   "source": []
  },
  {
   "cell_type": "code",
   "execution_count": null,
   "metadata": {
    "Collapsed": "false"
   },
   "outputs": [],
   "source": []
  }
 ],
 "metadata": {
  "kernelspec": {
   "display_name": "Python 3",
   "language": "python",
   "name": "python3"
  },
  "language_info": {
   "codemirror_mode": {
    "name": "ipython",
    "version": 3
   },
   "file_extension": ".py",
   "mimetype": "text/x-python",
   "name": "python",
   "nbconvert_exporter": "python",
   "pygments_lexer": "ipython3",
   "version": "3.7.3"
  },
  "toc": {
   "base_numbering": 1,
   "nav_menu": {},
   "number_sections": true,
   "sideBar": true,
   "skip_h1_title": false,
   "title_cell": "Table of Contents",
   "title_sidebar": "Contents",
   "toc_cell": false,
   "toc_position": {},
   "toc_section_display": true,
   "toc_window_display": false
  }
 },
 "nbformat": 4,
 "nbformat_minor": 4
}
