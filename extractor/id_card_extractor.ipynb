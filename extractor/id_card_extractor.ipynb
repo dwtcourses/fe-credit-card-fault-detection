{
 "cells": [
  {
   "cell_type": "code",
   "execution_count": 1,
   "metadata": {},
   "outputs": [],
   "source": [
    "debug = True"
   ]
  },
  {
   "cell_type": "code",
   "execution_count": 2,
   "metadata": {
    "ExecuteTime": {
     "end_time": "2019-09-14T18:02:53.977777Z",
     "start_time": "2019-09-14T18:02:53.883480Z"
    }
   },
   "outputs": [
    {
     "ename": "ModuleNotFoundError",
     "evalue": "No module named 'pytesseract'",
     "output_type": "error",
     "traceback": [
      "\u001b[0;31m---------------------------------------------------------------------------\u001b[0m",
      "\u001b[0;31mModuleNotFoundError\u001b[0m                       Traceback (most recent call last)",
      "\u001b[0;32m<ipython-input-2-dd33dbc512b2>\u001b[0m in \u001b[0;36m<module>\u001b[0;34m\u001b[0m\n\u001b[1;32m     16\u001b[0m \u001b[0;34m\u001b[0m\u001b[0m\n\u001b[1;32m     17\u001b[0m \u001b[0;32mfrom\u001b[0m \u001b[0mPIL\u001b[0m \u001b[0;32mimport\u001b[0m \u001b[0mImage\u001b[0m\u001b[0;34m\u001b[0m\u001b[0;34m\u001b[0m\u001b[0m\n\u001b[0;32m---> 18\u001b[0;31m \u001b[0;32mimport\u001b[0m \u001b[0mpytesseract\u001b[0m\u001b[0;34m\u001b[0m\u001b[0;34m\u001b[0m\u001b[0m\n\u001b[0m\u001b[1;32m     19\u001b[0m \u001b[0;32mimport\u001b[0m \u001b[0margparse\u001b[0m\u001b[0;34m\u001b[0m\u001b[0;34m\u001b[0m\u001b[0m\n\u001b[1;32m     20\u001b[0m \u001b[0;31m# import cv2\u001b[0m\u001b[0;34m\u001b[0m\u001b[0;34m\u001b[0m\u001b[0;34m\u001b[0m\u001b[0m\n",
      "\u001b[0;31mModuleNotFoundError\u001b[0m: No module named 'pytesseract'"
     ]
    }
   ],
   "source": [
    "import cv2\n",
    "import numpy as np\n",
    "import random\n",
    "import sys \n",
    "import re\n",
    "# from matplotlib import pyplot as plt\n",
    "\n",
    "# Linux commands:\n",
    "# sudo apt update\n",
    "# sudo apt install tesseract-ocr\n",
    "# sudo apt install libtesseract-dev\n",
    "\n",
    "# !pip install pillow\n",
    "# !pip install pytesseract\n",
    "# !pip install opencv-python\n",
    "\n",
    "from PIL import Image\n",
    "import pytesseract\n",
    "import argparse\n",
    "# import cv2\n",
    "import os"
   ]
  },
  {
   "cell_type": "code",
   "execution_count": 49,
   "metadata": {},
   "outputs": [],
   "source": [
    "def resizeImageByWidth(img, width=856):\n",
    "    currRatio = img.shape[0]/img.shape[1]\n",
    "#     print('Shape: ', img.shape)\n",
    "    height = int(width * currRatio)\n",
    "    dim = (width, height)\n",
    "#     print('Resized shape: ', dim)\n",
    "    # resize image\n",
    "    resized = cv2.resize(img, dim, interpolation = cv2.INTER_AREA)\n",
    "    return resized"
   ]
  },
  {
   "cell_type": "code",
   "execution_count": 70,
   "metadata": {
    "ExecuteTime": {
     "end_time": "2019-09-14T18:02:54.429232Z",
     "start_time": "2019-09-14T18:02:54.425312Z"
    }
   },
   "outputs": [],
   "source": [
    "def showImg(img, title = str(round(random.random()*1000,0))):\n",
    "    if debug:\n",
    "        cv2.imshow(title, img)\n",
    "        cv2.waitKey(0)\n",
    "        cv2.destroyWindow(title)"
   ]
  },
  {
   "cell_type": "code",
   "execution_count": 18,
   "metadata": {},
   "outputs": [],
   "source": [
    "def cropImage(image, offsetX, offsetY, width, height):\n",
    "    cardNu_threshold = 10\n",
    "    minX = offsetX\n",
    "    minY = offsetY\n",
    "    cardNuWidth = width\n",
    "    cardNuHeight = height\n",
    "\n",
    "    return image[minY - cardNu_threshold:minY + cardNuHeight + cardNu_threshold, minX -\n",
    "                   cardNu_threshold:minX + cardNuWidth + cardNu_threshold]\n"
   ]
  },
  {
   "cell_type": "code",
   "execution_count": 57,
   "metadata": {},
   "outputs": [],
   "source": [
    "def histogramEqualize(img):\n",
    "    #-----Converting image to LAB Color model-----------------------------------\n",
    "    lab = cv2.cvtColor(img, cv2.COLOR_BGR2LAB)\n",
    "    # cv2.imshow(\"lab\",lab)\n",
    "\n",
    "    #-----Splitting the LAB image to different channels-------------------------\n",
    "    l, a, b = cv2.split(lab)\n",
    "    # cv2.imshow('l_channel', l)\n",
    "    # cv2.imshow('a_channel', a)\n",
    "    # cv2.imshow('b_channel', b)\n",
    "\n",
    "    #-----Applying CLAHE to L-channel-------------------------------------------\n",
    "    clahe = cv2.createCLAHE(clipLimit=3.0, tileGridSize=(8, 8))\n",
    "    cl = clahe.apply(l)\n",
    "    #     cv2.imshow('CLAHE output', cl)\n",
    "\n",
    "    #-----Merge the CLAHE enhanced L-channel with the a and b channel-----------\n",
    "    limg = cv2.merge((cl, a, b))\n",
    "    #     cv2.imshow('limg', limg)\n",
    "\n",
    "    #-----Converting image from LAB Color model to RGB model--------------------\n",
    "    final = cv2.cvtColor(limg, cv2.COLOR_LAB2BGR)\n",
    "    #     cv2.imshow('final', final)\n",
    "\n",
    "    #     cv2.waitKey(0)\n",
    "    #     cv2.destroyAllWindows()\n",
    "    return final"
   ]
  },
  {
   "cell_type": "markdown",
   "metadata": {},
   "source": [
    "## Util functions for extract text"
   ]
  },
  {
   "cell_type": "code",
   "execution_count": 19,
   "metadata": {},
   "outputs": [],
   "source": [
    "# remove background, just keep text color from image\n",
    "# imput image instance\n",
    "def keepColor(image, lower, upper):\n",
    "    frame = image.copy()\n",
    "    # Convert BGR to HSV\n",
    "    hsv = cv2.cvtColor(frame, cv2.COLOR_BGR2HSV)\n",
    "    # cv.imshow(\"hsv\", hsv)\n",
    "    # define range of blue color in HSV\n",
    "\n",
    "    # Threshold the HSV image to get only blue colors\n",
    "    res = cv2.inRange(hsv, lower, upper)\n",
    "    # Bitwise-AND mask and original image\n",
    "#     res = cv2.bitwise_and(frame,frame, mask= mask)\n",
    "#     cv2.imshow('frame',frame)\n",
    "#     cv2.imshow('mask',mask)\n",
    "#     cv2.imshow('res',res)\n",
    "#     cv2.waitKey(0) \n",
    "#     cv2.destroyAllWindows()\n",
    "    \n",
    "    \n",
    "    return res\n",
    "    "
   ]
  },
  {
   "cell_type": "code",
   "execution_count": 20,
   "metadata": {},
   "outputs": [],
   "source": [
    "def extractText(image):\n",
    "    \n",
    "    # Window: Point tesseract execute file path here\n",
    "#     pytesseract.pytesseract.tesseract_cmd = r'C:\\Program Files\\Tesseract-OCR\\tesseract.exe'\n",
    "\n",
    "    # Write down temporary file to extract\n",
    "    filename = \"{}.png\".format(os.getpid())\n",
    "    cv2.imwrite(filename, image)\n",
    "\n",
    "    # extract text from image using tesseract ocr\n",
    "    text = pytesseract.image_to_string(Image.open(filename))\n",
    "\n",
    "    # Remove temporary image\n",
    "    os.remove(filename)\n",
    "\n",
    "    return text"
   ]
  },
  {
   "cell_type": "markdown",
   "metadata": {},
   "source": [
    "## 1. Get Id number function"
   ]
  },
  {
   "cell_type": "code",
   "execution_count": 71,
   "metadata": {},
   "outputs": [],
   "source": [
    "# get Id number function\n",
    "# key color = in range [50 - 80]\n",
    "def getIdNumber(image, V_upper_color=70):\n",
    "    #load image\n",
    "    originImg = image.copy()\n",
    "#     showImg(originImg, \"Origin image\")\n",
    "    \n",
    "    #Crop id number area\n",
    "    cropped_img = cropImage(originImg, 400, 140, 350, 40)\n",
    "#     showImg(cropped_img, \"Cropped\")\n",
    "\n",
    "    #filter\n",
    "    \n",
    "    lower = np.array([0,0,0])\n",
    "    upper = np.array([180, 255, V_upper_color]) # V in range (50 - 80) is fine\n",
    "\n",
    "    filteredImg = keepColor(cropped_img, lower, upper)\n",
    "#     showImg(filteredImg)\n",
    "    \n",
    "    #extract text\n",
    "    res = extractText(filteredImg)\n",
    "    \n",
    "    #remove non digit characters\n",
    "    res = re.sub(\"\\\\D\", '', res)\n",
    "    return res\n"
   ]
  },
  {
   "cell_type": "code",
   "execution_count": 22,
   "metadata": {},
   "outputs": [],
   "source": [
    "# print(getIdNumber('./data/temp4.jpg', 70)) #key"
   ]
  },
  {
   "cell_type": "markdown",
   "metadata": {},
   "source": [
    "## 2. Get fullname"
   ]
  },
  {
   "cell_type": "code",
   "execution_count": 25,
   "metadata": {},
   "outputs": [],
   "source": [
    "# get Id number function\n",
    "# key color = in range [50 - 80]\n",
    "def getFullname(image, V_upper_color=70):\n",
    "    #load image\n",
    "    originImg = image.copy()\n",
    "#     showImg(originImg, \"Origin image\")\n",
    "    \n",
    "    #Crop id number area\n",
    "    cropped_line1 = cropImage(originImg, 360, 195, 500, 40)\n",
    "    cropped_line2 = cropImage(originImg, 275, 245, 500, 40)\n",
    "    \n",
    "#     showImg(cropped_line1, \"Cropped 1\")\n",
    "#     showImg(cropped_line2, \"Cropped 2\")\n",
    "\n",
    "    #filter\n",
    "    \n",
    "    lower = np.array([0,0,0])\n",
    "    upper = np.array([180, 255, V_upper_color]) # V in range (50 - 80) is fine\n",
    "\n",
    "    filtered_1 = keepColor(cropped_line1, lower, upper)\n",
    "    filtered_2 = keepColor(cropped_line2, lower, upper)\n",
    "    \n",
    "#     showImg(filtered_1, \"filter 1\")\n",
    "#     showImg(filtered_2, \"filter 2\")\n",
    "    \n",
    "    #extract text\n",
    "    line1 = extractText(filtered_1).strip()\n",
    "    line1 = re.sub(\"!(a-zA-Z)\", '', line1)\n",
    "    \n",
    "    line2 = extractText(filtered_2).strip()\n",
    "    line2 = re.sub(\"!(a-zA-Z)\", '', line2)\n",
    " \n",
    "    res = ''\n",
    "    if len(line1) > 0:\n",
    "        res = line1 + ' '\n",
    "    res += line2\n",
    "    \n",
    "    \n",
    "    return res.strip()\n"
   ]
  },
  {
   "cell_type": "code",
   "execution_count": 26,
   "metadata": {},
   "outputs": [],
   "source": [
    "# print(getFullname('./data/temp4.jpg', 70)) #key"
   ]
  },
  {
   "cell_type": "code",
   "execution_count": null,
   "metadata": {},
   "outputs": [],
   "source": []
  },
  {
   "cell_type": "markdown",
   "metadata": {},
   "source": [
    "## 2. Get DOB"
   ]
  },
  {
   "cell_type": "code",
   "execution_count": 79,
   "metadata": {},
   "outputs": [],
   "source": [
    "# get Id number function\n",
    "# key color = in range [30 - 80]\n",
    "def getDateOfBirth(image, V_upper_color=50):\n",
    "    originImg = image.copy()\n",
    "    showImg(originImg, \"Origin image\")\n",
    "    \n",
    "    #Crop id number area\n",
    "    cropped_img = cropImage(originImg, 400, 300, 360, 40)\n",
    "    showImg(cropped_img, \"Cropped\")\n",
    "\n",
    "    #filter\n",
    "    \n",
    "    lower = np.array([0,0,0])\n",
    "    upper = np.array([180, 255, V_upper_color]) # V in range (50 - 80) is fine\n",
    "\n",
    "    filteredImg = keepColor(cropped_img, lower, upper)\n",
    "    showImg(filteredImg, 'filtered')\n",
    "    \n",
    "    #extract text\n",
    "    res = extractText(filteredImg)\n",
    "    \n",
    "    #remove non digit characters or '-' character\n",
    "#     res = re.sub(\"!(\\\\d|-)\", '', res)\n",
    "    return res.strip()\n"
   ]
  },
  {
   "cell_type": "code",
   "execution_count": 81,
   "metadata": {},
   "outputs": [
    {
     "name": "stdout",
     "output_type": "stream",
     "text": [
      "12-03-1998\n"
     ]
    }
   ],
   "source": [
    "print(getDateOfBirth(cv2.imread('./data/temp4.jpg'), 70)) #key"
   ]
  },
  {
   "cell_type": "code",
   "execution_count": null,
   "metadata": {},
   "outputs": [],
   "source": []
  },
  {
   "cell_type": "code",
   "execution_count": null,
   "metadata": {},
   "outputs": [],
   "source": []
  },
  {
   "cell_type": "markdown",
   "metadata": {},
   "source": [
    "## 3. Get POB"
   ]
  },
  {
   "cell_type": "code",
   "execution_count": 29,
   "metadata": {},
   "outputs": [],
   "source": [
    "# get Id number function\n",
    "# key color = in range [30 - 80]\n",
    "def getPlaceOfBirth(image, V_upper_color=60):\n",
    "\n",
    "    originImg = image.copy()\n",
    "    #     showImg(originImg, \"Origin image\")\n",
    "    \n",
    "    #Crop id number area\n",
    "    cropped_img_line1 = cropImage(originImg, 450, 340, 400, 40)\n",
    "    cropped_img_line2 = cropImage(originImg, 280, 390, 600, 40)\n",
    "#     showImg(cropped_img_line1, \"Cropped line1\")\n",
    "\n",
    "    #filter\n",
    "    \n",
    "    lower = np.array([0,0,0])\n",
    "    upper = np.array([180, 255, V_upper_color]) # V in range (50 - 80) is fine\n",
    "\n",
    "    filtered_line1 = keepColor(cropped_img_line1, lower, upper)\n",
    "    filtered_line2 = keepColor(cropped_img_line2, lower, upper)\n",
    "    \n",
    "#     showImg(filteredImg, 'filtered')\n",
    "    \n",
    "    #extract text\n",
    "    line1 = extractText(filtered_line1)\n",
    "    line1 = re.sub(\"!(a-zA-Z0-9|,)\", '', line1)\n",
    "    \n",
    "    line2 = extractText(filtered_line2)    \n",
    "    line2 = re.sub(\"!(a-zA-Z0-9|,)\", '', line2)\n",
    "    \n",
    "    res = ''\n",
    "    if len(line1) > 0:\n",
    "        res = line1 + ' '\n",
    "    res += line2\n",
    "    \n",
    "    #line 2\n",
    "    return res.strip()\n"
   ]
  },
  {
   "cell_type": "code",
   "execution_count": 31,
   "metadata": {},
   "outputs": [],
   "source": [
    "print(getPlaceOfBirth(imread'./data/temp4.jpg'))"
   ]
  },
  {
   "cell_type": "code",
   "execution_count": null,
   "metadata": {},
   "outputs": [],
   "source": []
  },
  {
   "cell_type": "markdown",
   "metadata": {},
   "source": [
    "## 4. Get Current address"
   ]
  },
  {
   "cell_type": "code",
   "execution_count": 32,
   "metadata": {},
   "outputs": [],
   "source": [
    "# get Id number function\n",
    "# key color = in range [30 - 80]\n",
    "def getCurrentAddress(image, V_upper_color=50):\n",
    "    originImg = image.copy()\n",
    "#     showImg(originImg, \"Origin image\")\n",
    "    \n",
    "    #Crop id number area\n",
    "    cropped_img_line1 = cropImage(originImg, 540, 435, 300, 40)\n",
    "    cropped_img_line2 = cropImage(originImg, 240, 480, 600, 40)\n",
    "#     showImg(cropped_img_line1, \"Cropped line1\")\n",
    "#     showImg(cropped_img_line2, \"Cropped line2\")\n",
    "\n",
    "    #filter\n",
    "    \n",
    "    lower = np.array([0,0,0])\n",
    "    upper = np.array([180, 255, V_upper_color]) # V in range (50 - 80) is fine\n",
    "\n",
    "    filtered_line1 = keepColor(cropped_img_line1, lower, upper)\n",
    "    filtered_line2 = keepColor(cropped_img_line2, lower, upper)\n",
    "    \n",
    "#     showImg(filtered_line1, \"filtered line1\")\n",
    "#     showImg(filtered_line2, \"filtered line2\")\n",
    "    \n",
    "    #extract text\n",
    "    line1 = extractText(filtered_line1)\n",
    "    line1 = re.sub(\"!(a-zA-Z0-9|,)\", '', line1)\n",
    "    \n",
    "    line2 = extractText(filtered_line2)    \n",
    "    line2 = re.sub(\"!(a-zA-Z0-9|,)\", '', line2)\n",
    "    \n",
    "    res = ''\n",
    "    if len(line1) > 0:\n",
    "        res = line1 + ' '\n",
    "    res += line2\n",
    "    \n",
    "    #line 2\n",
    "    return res\n"
   ]
  },
  {
   "cell_type": "code",
   "execution_count": 33,
   "metadata": {},
   "outputs": [],
   "source": [
    "# print(getCurrentAddress('./data/temp4.jpg', 50))"
   ]
  },
  {
   "cell_type": "code",
   "execution_count": null,
   "metadata": {},
   "outputs": [],
   "source": []
  },
  {
   "cell_type": "markdown",
   "metadata": {},
   "source": [
    "## 5. Get offical country name"
   ]
  },
  {
   "cell_type": "code",
   "execution_count": 34,
   "metadata": {},
   "outputs": [],
   "source": [
    "# get Id number function\n",
    "# key color = in range [30 - 80]\n",
    "def getOfficalCountryName(image, V_upper_color=85):\n",
    "    originImg = image.copy()\n",
    "#     showImg(originImg, \"Origin image\")\n",
    "    \n",
    "    #Crop id number area\n",
    "    cropped_line1 = cropImage(originImg, 275, 20, 560, 32)\n",
    "#     showImg(cropped_line1, \"Cropped line 1\")\n",
    "\n",
    "    #filter\n",
    "    \n",
    "    lower = np.array([0,0,0])\n",
    "    upper = np.array([180, 255, V_upper_color]) # V in range (50 - 80) is fine\n",
    "\n",
    "    filtered_line1 = keepColor(cropped_line1, lower, upper)\n",
    "    \n",
    "#     showImg(filtered_line1, 'filtered line 1')\n",
    "    \n",
    "    #extract text\n",
    "    line1 = extractText(filtered_line1)\n",
    "#     line1 = re.sub(\"!(a-zA-Z0-9)\", '', line1)\n",
    "    return line1\n"
   ]
  },
  {
   "cell_type": "code",
   "execution_count": 35,
   "metadata": {},
   "outputs": [],
   "source": [
    "# print(getOfficalCountryName('./data/temp4.jpg'))"
   ]
  },
  {
   "cell_type": "code",
   "execution_count": null,
   "metadata": {},
   "outputs": [],
   "source": []
  },
  {
   "cell_type": "code",
   "execution_count": 36,
   "metadata": {},
   "outputs": [],
   "source": [
    "# get Offical title function\n",
    "# key color = in range [30 - 80]\n",
    "def getOfficalTitle(image, V_upper_color=100):\n",
    "    originImg = image.copy()\n",
    "#     showImg(originImg, \"Origin image\")\n",
    "    \n",
    "    #Crop id number area\n",
    "    cropped_line2 = cropImage(originImg, 385, 65, 420, 12)\n",
    "#     showImg(cropped_line2, \"Cropped line 2\")\n",
    "\n",
    "    #filter\n",
    "    \n",
    "    lower = np.array([0,0,0])\n",
    "    upper = np.array([180, 255, V_upper_color]) # V in range (50 - 80) is fine\n",
    "\n",
    "    filtered_line2 = keepColor(cropped_line2, lower, upper)\n",
    "#     showImg(filtered_line2, 'filtered line 2')\n",
    "    \n",
    "    #extract text\n",
    "    line2 = extractText(filtered_line2)\n",
    "    line2 = re.sub(\"!(a-zA-Z0-9)\", '', line2)\n",
    "    return line2\n"
   ]
  },
  {
   "cell_type": "code",
   "execution_count": 37,
   "metadata": {},
   "outputs": [],
   "source": [
    "# print(getOfficalTitle('./data/temp4.jpg'))"
   ]
  },
  {
   "cell_type": "code",
   "execution_count": null,
   "metadata": {},
   "outputs": [],
   "source": []
  },
  {
   "cell_type": "markdown",
   "metadata": {},
   "source": [
    "## 6. Get card name"
   ]
  },
  {
   "cell_type": "code",
   "execution_count": 38,
   "metadata": {},
   "outputs": [],
   "source": [
    "# get Offical title function\n",
    "# key color = in range [30 - 80]\n",
    "def getCardName(image, V_upper_color=100):\n",
    "    originImg = image.copy()\n",
    "#     showImg(originImg, \"Origin image\")\n",
    "    \n",
    "    #Crop id number area\n",
    "    cropped_line2 = cropImage(originImg, 300, 99, 500, 38)\n",
    "#     showImg(cropped_line2, \"Cropped line 2\")\n",
    "\n",
    "    hsv = cv2.cvtColor(cropped_line2, cv2.COLOR_BGR2HSV)\n",
    "\n",
    "    #get RED range colors\n",
    "    mask1 = cv2.inRange(hsv, (0, 70, 50), (10,255,255))\n",
    "    mask2 = cv2.inRange(hsv, (170,70,50), (180,255,255))\n",
    "    \n",
    "#     showImg(mask1, 'mask1')\n",
    "#     showImg(mask2, 'mask2')\n",
    "    \n",
    "    \n",
    "    ## Merge the mask and crop the red regions\n",
    "    mask = cv2.bitwise_or(mask1, mask2 )\n",
    "#     showImg(mask, 'mask')\n",
    "    \n",
    "#     res = cv2.bitwise_and(cropped_line2 , cropped_line2, mask= mask)\n",
    "#     res = cv2.cvtColor(res, cv2.COLOR_HSV2BGR)\n",
    "#     showImg(res, 'filtered line 2')\n",
    "    \n",
    "    #extract text\n",
    "    line2 = extractText(mask)\n",
    "    line2 = re.sub(\"!(a-zA-Z0-9)\", '', line2)\n",
    "    return line2\n"
   ]
  },
  {
   "cell_type": "code",
   "execution_count": 39,
   "metadata": {},
   "outputs": [],
   "source": [
    "# print(getCardName('./data/temp4.jpg'))"
   ]
  },
  {
   "cell_type": "markdown",
   "metadata": {},
   "source": [
    "# Get ID card information"
   ]
  },
  {
   "cell_type": "code",
   "execution_count": 63,
   "metadata": {},
   "outputs": [],
   "source": [
    "#get\n",
    "def extractInfo(imagePath):\n",
    "    image = resizeImageByWidth(cv2.imread(imagePath))\n",
    "    image = histogramEqualize(image)\n",
    "    res={}\n",
    "    res['img'] = imagePath\n",
    "    res[\"country_name\"] = getOfficalCountryName(image)\n",
    "    res[\"country_title\"] = getOfficalTitle(image)\n",
    "    res['card_name'] = getCardName(image)\n",
    "    res['id_number'] = getIdNumber(image)\n",
    "    res['fullname'] = getFullname(image)\n",
    "    res['date_of_birth'] = getDateOfBirth(image)\n",
    "    res['place_of_birth'] = getPlaceOfBirth(image)\n",
    "    res['current_address'] = getCurrentAddress(image)\n",
    "    return res"
   ]
  },
  {
   "cell_type": "code",
   "execution_count": 66,
   "metadata": {},
   "outputs": [],
   "source": [
    "testImg =  resizeImageByWidth(cv2.imread('./data/temp4.jpg'))\n",
    "testImg = histogramEqualize(testImg)"
   ]
  },
  {
   "cell_type": "code",
   "execution_count": 65,
   "metadata": {},
   "outputs": [
    {
     "data": {
      "text/plain": [
       "{'img': './data/temp4.jpg',\n",
       " 'country_name': 'CONG HOA XA HOI CHU NGHIA VIET NAM',\n",
       " 'country_title': 'Dac lap - Tu do - Hanh phic',\n",
       " 'card_name': 'GIAY CHUNG MINH NHAN DAN',\n",
       " 'id_number': '225682227',\n",
       " 'fullname': 'TRAN QUANG HUNG',\n",
       " 'date_of_birth': 'sys ze,',\n",
       " 'place_of_birth': '_.. TX.Ninb Hoa, Khanh Hoa ...',\n",
       " 'current_address': '_Té Dan Phé 15, P.Ninh Hiép, TX.Ninh Hoa, Khanh Hoa'}"
      ]
     },
     "execution_count": 65,
     "metadata": {},
     "output_type": "execute_result"
    }
   ],
   "source": [
    "extractInfo('./data/temp4.jpg')"
   ]
  },
  {
   "cell_type": "code",
   "execution_count": 60,
   "metadata": {},
   "outputs": [
    {
     "data": {
      "text/plain": [
       "{'img': './data/1_134.png',\n",
       " 'country_name': 'Proved rec erenr cr waa me',\n",
       " 'country_title': 'b> ced ea',\n",
       " 'card_name': 'Por tars Cees WIRE RH Ae OE',\n",
       " 'id_number': '729250703',\n",
       " 'fullname': '',\n",
       " 'date_of_birth': 'Ror Oe rAnh i)\\n\\na',\n",
       " 'place_of_birth': 'Tho6n Pha Thanh Thon, Khon Bang, Kon Tum',\n",
       " 'current_address': 'IRE OU Gm ects Ban Nong La, Tay Ninh'}"
      ]
     },
     "execution_count": 60,
     "metadata": {},
     "output_type": "execute_result"
    }
   ],
   "source": [
    "extractInfo('./data/1_134.png')"
   ]
  },
  {
   "cell_type": "code",
   "execution_count": 64,
   "metadata": {},
   "outputs": [
    {
     "data": {
      "text/plain": [
       "{'img': './data/temp2.jpg',\n",
       " 'country_name': 'CONG HOA XA HOI CHU NGHIA VIET NAM',\n",
       " 'country_title': 'BDéc lap - Ty do - Hanh phic',\n",
       " 'card_name': 'VA eo CCE CELE LL.',\n",
       " 'id_number': '194642855',\n",
       " 'fullname': '',\n",
       " 'date_of_birth': 'Vi aL',\n",
       " 'place_of_birth': '',\n",
       " 'current_address': 'einai Dieta\\n\\n_Thi x4 Ba Dén, Quang Binh'}"
      ]
     },
     "execution_count": 64,
     "metadata": {},
     "output_type": "execute_result"
    }
   ],
   "source": [
    "extractInfo('./data/temp2.jpg')"
   ]
  },
  {
   "cell_type": "code",
   "execution_count": null,
   "metadata": {},
   "outputs": [],
   "source": []
  }
 ],
 "metadata": {
  "kernelspec": {
   "display_name": "Python 3",
   "language": "python",
   "name": "python3"
  },
  "language_info": {
   "codemirror_mode": {
    "name": "ipython",
    "version": 3
   },
   "file_extension": ".py",
   "mimetype": "text/x-python",
   "name": "python",
   "nbconvert_exporter": "python",
   "pygments_lexer": "ipython3",
   "version": "3.7.3"
  },
  "toc": {
   "base_numbering": 1,
   "nav_menu": {},
   "number_sections": true,
   "sideBar": true,
   "skip_h1_title": false,
   "title_cell": "Table of Contents",
   "title_sidebar": "Contents",
   "toc_cell": false,
   "toc_position": {},
   "toc_section_display": true,
   "toc_window_display": false
  }
 },
 "nbformat": 4,
 "nbformat_minor": 4
}
