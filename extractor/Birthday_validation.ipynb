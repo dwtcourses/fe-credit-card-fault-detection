{
 "cells": [
  {
   "cell_type": "code",
   "execution_count": 8,
   "metadata": {
    "colab": {},
    "colab_type": "code",
    "id": "owZXrJEM7T0m"
   },
   "outputs": [],
   "source": [
    "import re\n",
    "# Kiểm tra xem ngày sinh có hợp lệ\n",
    "# True: hợp lệ\n",
    "# False: không hợp lệ\n",
    "def check_valid_birthday(string):\n",
    "  if re.fullmatch('([0-9]{2}-){2}[0-9]{4}', string):\n",
    "    token = string.split('-')\n",
    "    day = int(token[0])\n",
    "    month = int(token[1])\n",
    "    year = int(token[2])\n",
    "    \n",
    "    if month in (1, 3, 5, 7, 8, 10, 12) and day in range(1, 32):\n",
    "      return True\n",
    "    elif month in (4, 6, 9, 11) and day in range(1, 31):\n",
    "      return True\n",
    "    elif month == 2 and ((year % 4 == 0 and year % 100 != 0) or year % 400 == 0) and day in range(1, 30):\n",
    "      return True\n",
    "    elif month == 2 and not ((year % 4 == 0 and year % 100 != 0) or year % 400 == 0) and day in range(1, 29):\n",
    "      return True\n",
    "    else:\n",
    "      return False\n",
    "  else:\n",
    "    return False"
   ]
  },
  {
   "cell_type": "code",
   "execution_count": 7,
   "metadata": {
    "colab": {
     "base_uri": "https://localhost:8080/",
     "height": 34
    },
    "colab_type": "code",
    "id": "XdTuNtdC72NE",
    "outputId": "192f5599-03ab-4ce9-e91f-818b27aa535f"
   },
   "outputs": [
    {
     "data": {
      "text/plain": [
       "False"
      ]
     },
     "execution_count": 7,
     "metadata": {},
     "output_type": "execute_result"
    }
   ],
   "source": [
    "check_valid_birthday('31-02-1998')"
   ]
  },
  {
   "cell_type": "code",
   "execution_count": null,
   "metadata": {
    "colab": {},
    "colab_type": "code",
    "id": "uCdJmT-VCtbs"
   },
   "outputs": [],
   "source": [
    "from datetime import date\n",
    "# Kiểm tra xem công dân đã đủ 14 tuổi để làm CMND hay chưa\n",
    "# True: đã đủ\n",
    "# False: chưa đủ\n",
    "def check_age(string):\n",
    "  token = string.split('-')\n",
    "  day = int(token[0])\n",
    "  month = int(token[1])\n",
    "  year = int(token[2])\n",
    "  \n",
    "  today = date.today()\n",
    "  \n",
    "  if today.year - year > 14:\n",
    "    return True\n",
    "  elif today.year - year == 14:\n",
    "    if today.month > month:\n",
    "      return True\n",
    "    elif today.month == month:\n",
    "      if today.day >= day:\n",
    "        return True\n",
    "      else:\n",
    "        return False\n",
    "    else:\n",
    "      return False\n",
    "  else:\n",
    "    return False"
   ]
  },
  {
   "cell_type": "code",
   "execution_count": 26,
   "metadata": {
    "colab": {
     "base_uri": "https://localhost:8080/",
     "height": 34
    },
    "colab_type": "code",
    "id": "W9FVQniDFKtL",
    "outputId": "4ca335d9-49d4-4d03-d192-0f838fdeb076"
   },
   "outputs": [
    {
     "data": {
      "text/plain": [
       "False"
      ]
     },
     "execution_count": 26,
     "metadata": {
      "tags": []
     },
     "output_type": "execute_result"
    }
   ],
   "source": [
    "check_age('30-12-2005')"
   ]
  }
 ],
 "metadata": {
  "colab": {
   "collapsed_sections": [],
   "name": "Birthday validation.ipynb",
   "provenance": []
  },
  "kernelspec": {
   "display_name": "Python 3",
   "language": "python",
   "name": "python3"
  },
  "language_info": {
   "codemirror_mode": {
    "name": "ipython",
    "version": 3
   },
   "file_extension": ".py",
   "mimetype": "text/x-python",
   "name": "python",
   "nbconvert_exporter": "python",
   "pygments_lexer": "ipython3",
   "version": "3.7.3"
  }
 },
 "nbformat": 4,
 "nbformat_minor": 4
}
