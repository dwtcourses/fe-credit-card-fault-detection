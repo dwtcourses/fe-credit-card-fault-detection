{
 "cells": [
  {
   "cell_type": "code",
   "execution_count": 1,
   "metadata": {
    "Collapsed": "false"
   },
   "outputs": [
    {
     "name": "stderr",
     "output_type": "stream",
     "text": [
      "Using TensorFlow backend.\n"
     ]
    }
   ],
   "source": [
    "import app"
   ]
  },
  {
   "cell_type": "code",
   "execution_count": 4,
   "metadata": {
    "Collapsed": "false"
   },
   "outputs": [
    {
     "name": "stdout",
     "output_type": "stream",
     "text": [
      "Start detecting...\n",
      "Image path:  ./uploadFiles/1_font.jpg\n",
      "Shape:  (3096, 4128, 3)\n",
      "Resized shape:  (1200, 900)\n",
      "Boundary:  (65, 143, 1057, 678)\n",
      "Shape:  (678, 1057, 3)\n",
      "Resized shape:  (856, 549)\n",
      "Image result:  ./verifyResults/1.jpg\n",
      "Checking stanard size ratio...\n",
      "PASS\n",
      "Checking Quoc Huy on card...\n",
      "Length contours of QH:  1\n",
      "PASS\n",
      "Checking match Quoc Huy template...\n",
      "PASS\n",
      "Checking human face on card...\n",
      "PASS\n",
      "Checking face must be has straight direction...\n",
      "PASS\n",
      "Checking lip is opening...\n",
      "PASS\n",
      "Checking eye close...\n",
      "PASS\n",
      "Checking eye glasses...\n",
      "PASS\n",
      "Checking match with selfie image...\n",
      "PASS\n",
      "Checking no any emnotion on face card...\n",
      "PASS\n",
      "Checking information of card...\n",
      "{\n",
      "    \"img\": \"./verifyResults/1.jpg\",\n",
      "    \"countryName\": \"CONG HOA XA HOI CHU NGHIA VIET NAM\",\n",
      "    \"countryTitle\": \"Doc lap - Tu do - Hanh phuc\",\n",
      "    \"cardName\": \"GIAY CHUNG MINH NHAN DAN\",\n",
      "    \"idNumber\": \"225682227\",\n",
      "    \"name\": \"TRAN QUANG HUNG\",\n",
      "    \"dob\": \"12-03-1998\",\n",
      "    \"hometown\": \"TX.Ninh Hoa, Khanh Hoa\",\n",
      "    \"address\": \"To Dan Pho 15, P.Ninh Hiep, TX.Ninh Hoa, Khanh Hoa\"\n",
      "}\n",
      "Finished detection.\n"
     ]
    },
    {
     "data": {
      "text/plain": [
       "{'certified': True, 'message': 'Verified card successed'}"
      ]
     },
     "execution_count": 4,
     "metadata": {},
     "output_type": "execute_result"
    }
   ],
   "source": [
    "app.image_verify(forceId='1')"
   ]
  },
  {
   "cell_type": "code",
   "execution_count": 3,
   "metadata": {
    "Collapsed": "false"
   },
   "outputs": [
    {
     "name": "stdout",
     "output_type": "stream",
     "text": [
      "Start detecting...\n",
      "Image path:  ./uploadFiles/2_font.jpg\n",
      "Shape:  (3000, 4000, 3)\n",
      "Resized shape:  (1200, 900)\n",
      "Boundary:  (22, 85, 1122, 737)\n",
      "Shape:  (737, 1122, 3)\n",
      "Resized shape:  (856, 562)\n",
      "Image result:  ./verifyResults/2.jpg\n",
      "Checking stanard size ratio...\n",
      "PASS\n",
      "Checking Quoc Huy on card...\n",
      "Length contours of QH:  1\n",
      "PASS\n",
      "Checking match Quoc Huy template...\n",
      "PASS\n",
      "Checking human face on card...\n",
      "PASS\n",
      "Checking face must be has straight direction...\n",
      "PASS\n",
      "Checking lip is opening...\n",
      "PASS\n",
      "Checking eye close...\n",
      "PASS\n",
      "Checking eye glasses...\n",
      "Message:  Face has glasses\n"
     ]
    },
    {
     "data": {
      "text/plain": [
       "{'certified': False, 'message': 'Face has glasses'}"
      ]
     },
     "execution_count": 3,
     "metadata": {},
     "output_type": "execute_result"
    }
   ],
   "source": [
    "app.image_verify(forceId='2')"
   ]
  }
 ],
 "metadata": {
  "kernelspec": {
   "display_name": "Python 3",
   "language": "python",
   "name": "python3"
  },
  "language_info": {
   "codemirror_mode": {
    "name": "ipython",
    "version": 3
   },
   "file_extension": ".py",
   "mimetype": "text/x-python",
   "name": "python",
   "nbconvert_exporter": "python",
   "pygments_lexer": "ipython3",
   "version": "3.7.3"
  }
 },
 "nbformat": 4,
 "nbformat_minor": 4
}
